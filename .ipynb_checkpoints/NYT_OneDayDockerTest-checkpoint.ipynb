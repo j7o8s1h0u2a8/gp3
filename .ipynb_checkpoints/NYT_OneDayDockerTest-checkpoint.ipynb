{
 "cells": [
  {
   "cell_type": "markdown",
   "metadata": {},
   "source": [
    "# CNN"
   ]
  },
  {
   "cell_type": "code",
   "execution_count": 1,
   "metadata": {
    "collapsed": false,
    "scrolled": true
   },
   "outputs": [
    {
     "name": "stdout",
     "output_type": "stream",
     "text": [
      "Requirement already satisfied: requests in c:\\python\\lib\\site-packages\n",
      "Requirement already satisfied: beautifulsoup4 in c:\\python\\lib\\site-packages\n",
      "Requirement already satisfied: lxml in c:\\python\\lib\\site-packages\n"
     ]
    }
   ],
   "source": [
    "!pip install requests\n",
    "!pip install beautifulsoup4\n",
    "!pip install lxml"
   ]
  },
  {
   "cell_type": "code",
   "execution_count": 111,
   "metadata": {
    "collapsed": false
   },
   "outputs": [],
   "source": [
    "from bs4 import BeautifulSoup\n",
    "import lxml\n",
    "import requests as r\n",
    "import json\n",
    "from datetime import date\n",
    "from datetime import timedelta\n",
    "import json"
   ]
  },
  {
   "cell_type": "code",
   "execution_count": 40,
   "metadata": {
    "collapsed": false
   },
   "outputs": [
    {
     "name": "stdout",
     "output_type": "stream",
     "text": [
      "{'2017/04/04': 'http://www.nytimes.com/indexes/2017/04/04/todayspaper/index.html', '2017/04/05': 'http://www.nytimes.com/indexes/2017/04/05/todayspaper/index.html', '2017/04/06': 'http://www.nytimes.com/indexes/2017/04/06/todayspaper/index.html', '2017/04/07': 'http://www.nytimes.com/indexes/2017/04/07/todayspaper/index.html', '2017/04/08': 'http://www.nytimes.com/indexes/2017/04/08/todayspaper/index.html'}\n"
     ]
    }
   ],
   "source": [
    "#Get 'Today News' urls of these 5 days\n",
    "now = date.today()\n",
    "urls = {}\n",
    "for day_delta in range(-5,0):\n",
    "    date = now + timedelta(days=day_delta)\n",
    "    url = 'http://www.nytimes.com/indexes/' + date.strftime(\"%Y/%m/%d\") + '/todayspaper/index.html'\n",
    "    urls[date.strftime(\"%Y/%m/%d\")] = url\n",
    "print(urls)"
   ]
  },
  {
   "cell_type": "code",
   "execution_count": 106,
   "metadata": {
    "collapsed": false
   },
   "outputs": [],
   "source": [
    "#Get articles title and url\n",
    "res = r.get('http://www.nytimes.com/indexes/2017/04/08/todayspaper/index.html')\n",
    "res.encoding='unicode'\n",
    "soup = BeautifulSoup(res.text,'lxml')\n",
    "articles = soup.select('#SpanABMiddleRegion h6 a')\n",
    "\n",
    "articles_dict = {}\n",
    "\n",
    "for num in range(len(articles)):\n",
    "    articleDetail = {}\n",
    "    articleDetail['title'] = articles[num].text.strip()\n",
    "    articleDetail['url'] = articles[num]['href']\n",
    "    articleDetail['content'] = getArticleContent(articles[num]['href'])\n",
    "    articles_dict[num+1] = articleDetail"
   ]
  },
  {
   "cell_type": "code",
   "execution_count": 112,
   "metadata": {
    "collapsed": false
   },
   "outputs": [],
   "source": [
    "articles_dict\n",
    "with open('contents.json', 'w') as f:\n",
    "    json.dump(articles_dict, f)"
   ]
  },
  {
   "cell_type": "code",
   "execution_count": 108,
   "metadata": {
    "collapsed": false,
    "scrolled": true
   },
   "outputs": [],
   "source": [
    "#Get single article content\n",
    "def getArticleContent(url):\n",
    "    res = r.get(url)\n",
    "    res.encoding='unicode'\n",
    "    soup = BeautifulSoup(res.text,'lxml')\n",
    "    contents = soup.select('.story-body-supplemental .story-body-text.story-content')\n",
    "    contents_dict= {}\n",
    "    for paraNum in range(len(contents)):\n",
    "        contents_dict[paraNum+1] = contents[paraNum].text.strip()\n",
    "    return contents_dict"
   ]
  },
  {
   "cell_type": "code",
   "execution_count": 105,
   "metadata": {
    "collapsed": false
   },
   "outputs": [
    {
     "data": {
      "text/plain": [
       "{1: 'STOCKHOLM — A man drove a stolen beer truck into a crowd of people in a popular shopping district in Stockholm on Friday afternoon and then rammed it into a department store, killing four people and injuring 15 others in an attack that unleashed bloodshed and panic on the streets of another European capital.',\n",
       " 2: '“Sweden has been attacked,” Prime Minister Stefan Lofven said in a televised news conference. “This indicates that it is an act of terror.”',\n",
       " 3: 'A nationwide manhunt conducted through much of the evening ended when the police “caught one person of particular interest,” said Jan Evensson, the chief of regional police. On Saturday, a spokesman for the police, Lars Bystrom, said the man in custody was believed to have driven the truck.',\n",
       " 4: 'The first emergency call came in around 2:50 p.m. local time as the truck mowed down pedestrians along Drottninggatan, a busy pedestrian shopping street. The truck, stolen just blocks away earlier in the day, came to a stop after slamming into the entrance of the Ahlens department store. Photos from the scene showed a billowing cloud of black smoke rising from the store.',\n",
       " 5: 'The attack struck the heart of a nation known for its peacefulness and tolerance, and turned a warm spring afternoon into a scene of terror.',\n",
       " 6: '“I saw hundreds of people running. They ran for their lives” before the truck crashed into the department store, a witness identified only as Anna told the newspaper Aftonbladet.',\n",
       " 7: 'Katarina Libert, 32, a freelance journalist, was trying on clothes at the department store when she heard a boom and the walls shook.',\n",
       " 8: 'At first, she said, she thought the noise had come from people moving things around the store, but then the fire alarm went off and staff members told shoppers to leave the building.',\n",
       " 9: '“We were running, we were crying — everyone was in shock,” Ms. Libert said. “We rushed down the street, and I glanced to the right and saw the truck. People were lying on the ground. They were not moving.”',\n",
       " 10: 'She said that she usually avoided busy areas that could be potential terrorist targets, but that she had decided to take the afternoon off to do some shopping.',\n",
       " 11: '“Some people felt that this was just a matter of time,” she said. “Paris, Brussels, London and now Stockholm. I just had a feeling something like this would happen.”',\n",
       " 12: 'Vehicles have been used to attack people in several episodes in Europe in the past year. The Islamic State revived the idea of using cars as weapons after it broke with Al Qaeda in 2014. In the past year, Islamic State militants have claimed responsibility for the deaths of more than 100 people in Europe.',\n",
       " 13: 'In France, a man drove into a crowd on a busy seaside promenade during Bastille Day celebrations in Nice. Another attacker plowed a truck into shoppers at a Christmas market in Berlin. And last month, an assailant drove a car into pedestrians on Westminster Bridge near Parliament in London.',\n",
       " 14: 'The attacks in France, Germany and Britain were seen by some as retaliation for those countries’ participation in wars in the Middle East. But Sweden is not involved in any military confrontations abroad.',\n",
       " 15: 'The country contributes only 35 soldiers to the American-led coalition battling the Islamic State; they serve only as trainers in northern Iraq and are not involved in combat. In Afghanistan, 50 Swedish soldiers are serving mainly as advisers, according to the Swedish Defense Ministry’s website.',\n",
       " 16: 'Nevertheless, the country has been a target of previous terrorist attacks. In December 2010, the same street, Drottninggatan, was the site of the first suicide bombing in the country. An Iraqi-born Swedish citizen, carrying several pipe bombs, detonated an explosive device but killed only himself.',\n",
       " 17: 'In February, President Trump suggested that Sweden’s tolerance of immigrants would lead to an extremist attack similar to those that had befallen France and Belgium.',\n",
       " 18: 'Moments after the attack on Friday, Sweden’s Parliament was placed on lockdown, trains were canceled and the police, who blocked off the affected area, urged people to stay at home and avoid the city center.',\n",
       " 19: 'In his late-night address, Prime Minister Lofven vowed that the country’s progressive values would triumph over terrorism.',\n",
       " 20: '“If it’s a terrorist act, the aim is to undermine democracy, but such acts will never succeed in Sweden,” he said. “Our message is clear: You will never, ever win.”',\n",
       " 21: 'The authorities said they did not know whether the episode was an isolated assault or something bigger. Mr. Lofven said controls at Sweden’s borders had been tightened.',\n",
       " 22: 'Fears from the attack reverberated in neighboring Norway, where the police said on Twitter that officers in the nation’s largest cities and at the airport in Oslo would be armed until further notice.',\n",
       " 23: 'The chief medical doctor at Karolinska University Hospital in Stockholm, Nelson Follin, told the newspaper Dagens Nyheter that the hospital was treating “a handful” of people.',\n",
       " 24: '“The injuries are quite serious, but for now, I cannot give further comments on conditions,” Dr. Follin said.',\n",
       " 25: 'The attack took place just as Swedes were preparing for fredagsmys, or cozy Friday, the unofficial start to the weekend: a time typically spent at home with friends or family.',\n",
       " 26: '“We were walking, and we saw all these police vehicles and helicopters in the air,” said Ingrid Falk, 46, a music teacher who had been preparing to conduct a children’s choir just steps from where the attack took place. “We realized something had happened. We saw people running, and everybody was making calls and wondering what had happened.”',\n",
       " 27: 'The concert was ultimately canceled, Ms. Falk said. The church in which it was to be held was surrounded by the police.',\n",
       " 28: 'The theme of the concert: “Your life is a gift. Be careful with it.”'}"
      ]
     },
     "execution_count": 105,
     "metadata": {},
     "output_type": "execute_result"
    }
   ],
   "source": [
    "getArticleContent('https://www.nytimes.com/2017/04/07/world/europe/stockholm-attack.html?ref=todayspaper')"
   ]
  }
 ],
 "metadata": {
  "kernelspec": {
   "display_name": "Python 3",
   "language": "python",
   "name": "python3"
  },
  "language_info": {
   "codemirror_mode": {
    "name": "ipython",
    "version": 3
   },
   "file_extension": ".py",
   "mimetype": "text/x-python",
   "name": "python",
   "nbconvert_exporter": "python",
   "pygments_lexer": "ipython3",
   "version": "3.6.0"
  }
 },
 "nbformat": 4,
 "nbformat_minor": 2
}
