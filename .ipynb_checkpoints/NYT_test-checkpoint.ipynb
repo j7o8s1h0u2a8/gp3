{
 "cells": [
  {
   "cell_type": "markdown",
   "metadata": {},
   "source": [
    "# Kickstarter"
   ]
  },
  {
   "cell_type": "code",
   "execution_count": 1,
   "metadata": {
    "collapsed": false,
    "scrolled": true
   },
   "outputs": [
    {
     "name": "stdout",
     "output_type": "stream",
     "text": [
      "Requirement already satisfied: requests in d:\\anaconda3_4.3.1\\lib\\site-packages\n",
      "Requirement already satisfied: beautifulsoup4 in d:\\anaconda3_4.3.1\\lib\\site-packages\n",
      "Requirement already satisfied: lxml in d:\\anaconda3_4.3.1\\lib\\site-packages\n"
     ]
    }
   ],
   "source": [
    "!pip install requests\n",
    "!pip install beautifulsoup4\n",
    "!pip install lxml"
   ]
  },
  {
   "cell_type": "code",
   "execution_count": 2,
   "metadata": {
    "collapsed": false
   },
   "outputs": [],
   "source": [
    "from bs4 import BeautifulSoup\n",
    "import lxml\n",
    "import requests as r\n",
    "import json"
   ]
  },
  {
   "cell_type": "code",
   "execution_count": 3,
   "metadata": {
    "collapsed": false
   },
   "outputs": [],
   "source": [
    "URL = 'https://www.kickstarter.com/discover/advanced?ref=discovery_overlay'\n",
    "res = r.get(URL)"
   ]
  },
  {
   "cell_type": "code",
   "execution_count": 4,
   "metadata": {
    "collapsed": false
   },
   "outputs": [
    {
     "data": {
      "text/plain": [
       "200"
      ]
     },
     "execution_count": 4,
     "metadata": {},
     "output_type": "execute_result"
    }
   ],
   "source": [
    "res.status_code"
   ]
  },
  {
   "cell_type": "code",
   "execution_count": 5,
   "metadata": {
    "collapsed": false
   },
   "outputs": [
    {
     "data": {
      "text/plain": [
       "list"
      ]
     },
     "execution_count": 5,
     "metadata": {},
     "output_type": "execute_result"
    }
   ],
   "source": [
    "soup = BeautifulSoup(res.text,'lxml')\n",
    "itemlist = soup.select('#advanced_container > #projects > div > #projects_list > div > li > div > div > h6 > a')\n",
    "type(itemlist)"
   ]
  },
  {
   "cell_type": "code",
   "execution_count": 6,
   "metadata": {
    "collapsed": false
   },
   "outputs": [
    {
     "name": "stdout",
     "output_type": "stream",
     "text": [
      "Black Holes\n",
      "Finishing \"6 Dynamic Laws for Success\" A Noir Comedy\n",
      "The Rocky Mountain Land Library\n",
      "MIND BLOWING SOUND AT NOWADAYS: A NEW GOAL OF $100,000\n",
      "\"She Persisted\" Enamel Pin: Color Palette Expansion\n",
      "A NewsHound's Guide to Student Journalism\n",
      "The Jül: Heated Smart Mug for Coffee & Tea\n",
      "STARFIGHTER INC\n",
      "Smore Magazine: Ignite Her Brilliance\n",
      "Half + Half - An Art Book by Danny Haas\n",
      "YOU ARE THE HERO Part 2\n",
      "FLOWERING LINES rare ART NOUVEAU posters graphics 1895-1910\n",
      "The Grimm Forest\n",
      "Bellingcat: the home of online investigations\n",
      "Power Plant Organic Eggplant Jerky\n",
      "W. A. Dwiggins: A Life in Design\n",
      "Flip Book Animation Kit\n",
      "Daniel Amos - Horrendous Disc (Deluxe Edition)\n",
      "RECKLESS DECK: Solving the Problem of \"What Should I Draw?\"\n",
      "\"Captain Nemo\" Portrait by Dave Dorman\n"
     ]
    }
   ],
   "source": [
    "for item in itemlist:\n",
    "    print(item.text)"
   ]
  }
 ],
 "metadata": {
  "kernelspec": {
   "display_name": "Python 3",
   "language": "python",
   "name": "python3"
  },
  "language_info": {
   "codemirror_mode": {
    "name": "ipython",
    "version": 3
   },
   "file_extension": ".py",
   "mimetype": "text/x-python",
   "name": "python",
   "nbconvert_exporter": "python",
   "pygments_lexer": "ipython3",
   "version": "3.6.0"
  }
 },
 "nbformat": 4,
 "nbformat_minor": 2
}
