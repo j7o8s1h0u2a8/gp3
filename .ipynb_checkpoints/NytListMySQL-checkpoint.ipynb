{
 "cells": [
  {
   "cell_type": "code",
   "execution_count": null,
   "metadata": {
    "collapsed": false
   },
   "outputs": [],
   "source": [
    "!pip install PyMySQL"
   ]
  },
  {
   "cell_type": "code",
   "execution_count": null,
   "metadata": {
    "collapsed": false
   },
   "outputs": [],
   "source": [
    "import sys\n",
    "import pymysql\n",
    "import datetime\n",
    "\n",
    "import getNytURL"
   ]
  },
  {
   "cell_type": "code",
   "execution_count": null,
   "metadata": {
    "collapsed": false
   },
   "outputs": [],
   "source": [
    "try:\n",
    "    conn = pymysql.connect(host='localhost',\n",
    "                           user='root',\n",
    "                           password='m123456',\n",
    "                           db='gp3',\n",
    "                           charset='utf8',\n",
    "                           autocommit=True,\n",
    "                           cursorclass=pymysql.cursors.DictCursor)\n",
    "    c= conn.cursor()\n",
    "except:\n",
    "    print('Cannot get connection to MySQL server')"
   ]
  },
  {
   "cell_type": "code",
   "execution_count": null,
   "metadata": {
    "collapsed": false
   },
   "outputs": [],
   "source": [
    "urList = getNytURL.getList(1)\n",
    "print(len(urList))\n",
    "\n",
    "for i in range(len(urList)):\n",
    "    print(urList[i]['url'])"
   ]
  },
  {
   "cell_type": "code",
   "execution_count": null,
   "metadata": {
    "collapsed": false
   },
   "outputs": [],
   "source": [
    "for i in range(len(urList)):\n",
    "    try:\n",
    "        c.execute(\"\"\"INSERT INTO cklist (title,date,source,url) VALUES (%(title)s, %(date)s, %(source)s, %(url)s)\"\"\",urList[i])\n",
    "    except IntegrityError:\n",
    "        print('The news [%(title)s] exists!!'%(urList[i]))\n",
    "    except NameError:\n",
    "        print('nameerror')\n",
    "    except:\n",
    "        print('other exceptions.')"
   ]
  }
 ],
 "metadata": {
  "kernelspec": {
   "display_name": "Python 3",
   "language": "python",
   "name": "python3"
  },
  "language_info": {
   "codemirror_mode": {
    "name": "ipython",
    "version": 3
   },
   "file_extension": ".py",
   "mimetype": "text/x-python",
   "name": "python",
   "nbconvert_exporter": "python",
   "pygments_lexer": "ipython3",
   "version": "3.6.0"
  }
 },
 "nbformat": 4,
 "nbformat_minor": 2
}
