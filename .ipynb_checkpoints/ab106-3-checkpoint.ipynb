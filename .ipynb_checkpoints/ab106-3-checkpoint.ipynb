{
 "cells": [
  {
   "cell_type": "code",
   "execution_count": 1,
   "metadata": {
    "collapsed": false
   },
   "outputs": [
    {
     "data": {
      "text/plain": [
       "<Response [200]>"
      ]
     },
     "execution_count": 1,
     "metadata": {},
     "output_type": "execute_result"
    }
   ],
   "source": [
    "#老師PTT爬網完整範例\n",
    "import requests\n",
    "from bs4 import BeautifulSoup\n",
    "\n",
    "HOST = \"https://www.ptt.cc\"\n",
    "\n",
    "res = requests.get(HOST + \"/bbs/Gossiping/index.html\")\n",
    "res"
   ]
  },
  {
   "cell_type": "code",
   "execution_count": 2,
   "metadata": {
    "collapsed": false
   },
   "outputs": [
    {
     "data": {
      "text/plain": [
       "'<!DOCTYPE html>\\n<html>\\n\\t<head>\\n\\t\\t<meta charset=\"utf-8\">\\n\\t\\t\\n\\n<meta name=\"viewport\" content=\"width=device-width, initial-scale=1\">\\n\\n<title>批踢踢實業坊</title>\\n\\n<link rel=\"stylesheet\" type=\"text/css\" href=\"//images.ptt.cc/bbs/v2.22/bbs-common.css\">\\n<link rel=\"stylesheet\" type=\"text/css\" href=\"//images.ptt.cc/bbs/v2.22/bbs-base.css\" media=\"screen\">\\n<link rel=\"stylesheet\" type=\"text/css\" href=\"//images.ptt.cc/bbs/v2.22/bbs-custom.css\">\\n<link rel=\"stylesheet\" type=\"text/css\" href=\"//images.ptt.cc/bbs/v2.22/pushstream.css\" media=\"screen\">\\n<link rel=\"stylesheet\" type=\"text/css\" href=\"//images.ptt.cc/bbs/v2.22/bbs-print.css\" media=\"print\">\\n\\n\\n\\n\\n\\t</head>\\n    <body>\\n\\t\\t\\n<div class=\"bbs-screen bbs-content\">\\n    <div class=\"over18-notice\">\\n        <p>本網站已依網站內容分級規定處理</p>\\n\\n        <p>警告︰您即將進入之看板內容需滿十八歲方可瀏覽。</p>\\n\\n        <p>若您尚未年滿十八歲，請點選離開。若您已滿十八歲，亦不可將本區之內容派發、傳閱、出售、出租、交給或借予年齡未滿18歲的人士瀏覽，或將本網站內容向該人士出示、播放或放映。</p>\\n    </div>\\n</div>\\n\\n<div class=\"bbs-screen bbs-content center clear\">\\n    <form action=\"/ask/over18\" method=\"post\">\\n        <input type=\"hidden\" name=\"from\" value=\"/bbs/Gossiping/index.html\">\\n        <div class=\"over18-button-container\">\\n            <button class=\"btn-big\" type=\"submit\" name=\"yes\" value=\"yes\">我同意，我已年滿十八歲<br><small>進入</small></button>\\n        </div>\\n        <div class=\"over18-button-container\">\\n            <button class=\"btn-big\" type=\"submit\" name=\"no\" value=\"no\">未滿十八歲或不同意本條款<br><small>離開</small></button>\\n        </div>\\n    </form>\\n</div>\\n\\n\\t\\t\\n\\n<script>\\n  (function(i,s,o,g,r,a,m){i[\\'GoogleAnalyticsObject\\']=r;i[r]=i[r]||function(){\\n  (i[r].q=i[r].q||[]).push(arguments)},i[r].l=1*new Date();a=s.createElement(o),\\n  m=s.getElementsByTagName(o)[0];a.async=1;a.src=g;m.parentNode.insertBefore(a,m)\\n  })(window,document,\\'script\\',\\'https://www.google-analytics.com/analytics.js\\',\\'ga\\');\\n\\n  ga(\\'create\\', \\'UA-32365737-1\\', {\\n    cookieDomain: \\'ptt.cc\\',\\n    legacyCookieDomain: \\'ptt.cc\\'\\n  });\\n  ga(\\'send\\', \\'pageview\\');\\n</script>\\n\\n\\n\\t\\t\\n<script src=\"//ajax.googleapis.com/ajax/libs/jquery/2.1.1/jquery.min.js\"></script>\\n<script src=\"//images.ptt.cc/bbs/v2.22/bbs.js\"></script>\\n\\n    </body>\\n</html>\\n'"
      ]
     },
     "execution_count": 2,
     "metadata": {},
     "output_type": "execute_result"
    }
   ],
   "source": [
    "# 沒有帶cookiem, 被問有沒有滿18歲..\n",
    "res.text"
   ]
  },
  {
   "cell_type": "code",
   "execution_count": 3,
   "metadata": {
    "collapsed": false,
    "scrolled": true
   },
   "outputs": [
    {
     "data": {
      "text/plain": [
       "'<!DOCTYPE html>\\n<html>\\n\\t<head>\\n\\t\\t<meta charset=\"utf-8\">\\n\\t\\t\\n\\n<meta name=\"viewport\" content=\"width=device-width, initial-scale=1\">\\n\\n<title>看板 Gossiping 文章列表 - 批踢踢實業坊</title>\\n\\n<link rel=\"stylesheet\" type=\"text/css\" href=\"//images.ptt.cc/bbs/v2.22/bbs-common.css\">\\n<link rel=\"stylesheet\" type=\"text/css\" href=\"//images.ptt.cc/bbs/v2.22/bbs-base.css\" media=\"screen\">\\n<link rel=\"stylesheet\" type=\"text/css\" href=\"//images.ptt.cc/bbs/v2.22/bbs-custom.css\">\\n<link rel=\"stylesheet\" type=\"text/css\" href=\"//images.ptt.cc/bbs/v2.22/pushstream.css\" media=\"screen\">\\n<link rel=\"stylesheet\" type=\"text/css\" href=\"//images.ptt.cc/bbs/v2.22/bbs-print.css\" media=\"print\">\\n\\n\\n\\n\\n\\t</head>\\n    <body>\\n\\t\\t\\n<div id=\"topbar-container\">\\n\\t<div id=\"topbar\" class=\"bbs-content\">\\n\\t\\t<a id=\"logo\" href=\"/\">批踢踢實業坊</a>\\n\\t\\t<span>&rsaquo;</span>\\n\\t\\t<a class=\"board\" href=\"/bbs/Gossiping/index.html\"><span class=\"board-label\">看板 </span>Gossiping</a>\\n\\t\\t<a class=\"right small\" href=\"/about.html\">關於我們</a>\\n\\t\\t<a class=\"right small\" href=\"/contact.html\">聯絡資訊</a>\\n\\t</div>\\n</div>\\n\\n<div id=\"main-container\">\\n\\t<div id=\"action-bar-container\">\\n\\t\\t<div class=\"action-bar\">\\n\\t\\t\\t<div class=\"btn-group btn-group-dir\">\\n\\t\\t\\t\\t<a class=\"btn selected\" href=\"/bbs/Gossiping/index.html\">看板</a>\\n\\t\\t\\t\\t<a class=\"btn\" href=\"/man/Gossiping/index.html\">精華區</a>\\n\\t\\t\\t</div>\\n\\t\\t\\t<div class=\"btn-group btn-group-paging\">\\n\\t\\t\\t\\t<a class=\"btn wide\" href=\"/bbs/Gossiping/index1.html\">最舊</a>\\n\\t\\t\\t\\t<a class=\"btn wide\" href=\"/bbs/Gossiping/index20936.html\">&lsaquo; 上頁</a>\\n\\t\\t\\t\\t<a class=\"btn wide disabled\">下頁 &rsaquo;</a>\\n\\t\\t\\t\\t<a class=\"btn wide\" href=\"/bbs/Gossiping/index.html\">最新</a>\\n\\t\\t\\t</div>\\n\\t\\t</div>\\n\\t</div>\\n\\n\\t<div class=\"r-list-container action-bar-margin bbs-screen\">\\n\\t\\t\\n\\t\\t\\n            \\n        \\n        \\n\\t\\t<div class=\"r-ent\">\\n\\t\\t\\t<div class=\"nrec\"><span class=\"hl f2\">5</span></div>\\n\\t\\t\\t<div class=\"mark\"></div>\\n\\t\\t\\t<div class=\"title\">\\n\\t\\t\\t\\n\\t\\t\\t\\t<a href=\"/bbs/Gossiping/M.1490059127.A.AAF.html\">[問卦] 每天固定時間大便會怎樣?</a>\\n\\t\\t\\t\\n\\t\\t\\t</div>\\n\\t\\t\\t<div class=\"meta\">\\n\\t\\t\\t\\t<div class=\"date\"> 3/21</div>\\n\\t\\t\\t\\t<div class=\"author\">sai5566</div>\\n\\t\\t\\t</div>\\n\\t\\t</div>\\n\\n\\t\\t\\n            \\n        \\n        \\n\\t\\t<div class=\"r-ent\">\\n\\t\\t\\t<div class=\"nrec\"></div>\\n\\t\\t\\t<div class=\"mark\"></div>\\n\\t\\t\\t<div class=\"title\">\\n\\t\\t\\t\\n\\t\\t\\t\\t<a href=\"/bbs/Gossiping/M.1490059167.A.9E2.html\">Re: [新聞] 房屋稅補助 柯P擬動用二備金</a>\\n\\t\\t\\t\\n\\t\\t\\t</div>\\n\\t\\t\\t<div class=\"meta\">\\n\\t\\t\\t\\t<div class=\"date\"> 3/21</div>\\n\\t\\t\\t\\t<div class=\"author\">beanseven</div>\\n\\t\\t\\t</div>\\n\\t\\t</div>\\n\\n\\t\\t\\n            \\n        \\n        \\n\\t\\t<div class=\"r-ent\">\\n\\t\\t\\t<div class=\"nrec\"><span class=\"hl f2\">1</span></div>\\n\\t\\t\\t<div class=\"mark\"></div>\\n\\t\\t\\t<div class=\"title\">\\n\\t\\t\\t\\n\\t\\t\\t\\t<a href=\"/bbs/Gossiping/M.1490059243.A.405.html\">Re: [問卦] 一例一休不好嗎?加班$$多</a>\\n\\t\\t\\t\\n\\t\\t\\t</div>\\n\\t\\t\\t<div class=\"meta\">\\n\\t\\t\\t\\t<div class=\"date\"> 3/21</div>\\n\\t\\t\\t\\t<div class=\"author\">trashpoking</div>\\n\\t\\t\\t</div>\\n\\t\\t</div>\\n\\n\\t\\t\\n            \\n        \\n        \\n\\t\\t<div class=\"r-ent\">\\n\\t\\t\\t<div class=\"nrec\"><span class=\"hl f2\">2</span></div>\\n\\t\\t\\t<div class=\"mark\"></div>\\n\\t\\t\\t<div class=\"title\">\\n\\t\\t\\t\\n\\t\\t\\t\\t<a href=\"/bbs/Gossiping/M.1490059252.A.1C5.html\">[問卦] 為什麼無法用意志力阻止身寸</a>\\n\\t\\t\\t\\n\\t\\t\\t</div>\\n\\t\\t\\t<div class=\"meta\">\\n\\t\\t\\t\\t<div class=\"date\"> 3/21</div>\\n\\t\\t\\t\\t<div class=\"author\">SupCat</div>\\n\\t\\t\\t</div>\\n\\t\\t</div>\\n\\n\\t\\t\\n            \\n        \\n        \\n\\t\\t<div class=\"r-ent\">\\n\\t\\t\\t<div class=\"nrec\"><span class=\"hl f2\">2</span></div>\\n\\t\\t\\t<div class=\"mark\"></div>\\n\\t\\t\\t<div class=\"title\">\\n\\t\\t\\t\\n\\t\\t\\t\\t<a href=\"/bbs/Gossiping/M.1490059285.A.51A.html\">[新聞] 嘿咻要提前2周告知\\u3000女友的要求是為了...</a>\\n\\t\\t\\t\\n\\t\\t\\t</div>\\n\\t\\t\\t<div class=\"meta\">\\n\\t\\t\\t\\t<div class=\"date\"> 3/21</div>\\n\\t\\t\\t\\t<div class=\"author\">stw0975</div>\\n\\t\\t\\t</div>\\n\\t\\t</div>\\n\\n\\t\\t\\n            \\n        \\n        \\n\\t\\t<div class=\"r-ent\">\\n\\t\\t\\t<div class=\"nrec\"><span class=\"hl f2\">2</span></div>\\n\\t\\t\\t<div class=\"mark\"></div>\\n\\t\\t\\t<div class=\"title\">\\n\\t\\t\\t\\n\\t\\t\\t\\t<a href=\"/bbs/Gossiping/M.1490059358.A.AAD.html\">Re: [新聞] 秘錄器逐字稿全曝光\\u3000李永得這樣說</a>\\n\\t\\t\\t\\n\\t\\t\\t</div>\\n\\t\\t\\t<div class=\"meta\">\\n\\t\\t\\t\\t<div class=\"date\"> 3/21</div>\\n\\t\\t\\t\\t<div class=\"author\">ds1999h</div>\\n\\t\\t\\t</div>\\n\\t\\t</div>\\n\\n\\t\\t\\n            \\n        \\n        \\n\\t\\t<div class=\"r-ent\">\\n\\t\\t\\t<div class=\"nrec\"></div>\\n\\t\\t\\t<div class=\"mark\"></div>\\n\\t\\t\\t<div class=\"title\">\\n\\t\\t\\t\\n\\t\\t\\t\\t<a href=\"/bbs/Gossiping/M.1490059376.A.C8C.html\">[問卦] 大嫂想跟本宅做愛</a>\\n\\t\\t\\t\\n\\t\\t\\t</div>\\n\\t\\t\\t<div class=\"meta\">\\n\\t\\t\\t\\t<div class=\"date\"> 3/21</div>\\n\\t\\t\\t\\t<div class=\"author\">PPTT0205</div>\\n\\t\\t\\t</div>\\n\\t\\t</div>\\n\\n\\t\\t\\n            \\n        \\n        \\n\\t\\t<div class=\"r-ent\">\\n\\t\\t\\t<div class=\"nrec\"><span class=\"hl f3\">25</span></div>\\n\\t\\t\\t<div class=\"mark\"></div>\\n\\t\\t\\t<div class=\"title\">\\n\\t\\t\\t\\n\\t\\t\\t\\t<a href=\"/bbs/Gossiping/M.1490059437.A.BEB.html\">[新聞] 兒子當面強吻妹妹...母親怒帶女兒報警\\u30001</a>\\n\\t\\t\\t\\n\\t\\t\\t</div>\\n\\t\\t\\t<div class=\"meta\">\\n\\t\\t\\t\\t<div class=\"date\"> 3/21</div>\\n\\t\\t\\t\\t<div class=\"author\">area41gold</div>\\n\\t\\t\\t</div>\\n\\t\\t</div>\\n\\n\\t\\t\\n            \\n        \\n        \\n\\t\\t<div class=\"r-ent\">\\n\\t\\t\\t<div class=\"nrec\"></div>\\n\\t\\t\\t<div class=\"mark\"></div>\\n\\t\\t\\t<div class=\"title\">\\n\\t\\t\\t\\n\\t\\t\\t\\t<a href=\"/bbs/Gossiping/M.1490059495.A.F37.html\">Re: [問卦] 為什麼西門町不是翻成westdoor？</a>\\n\\t\\t\\t\\n\\t\\t\\t</div>\\n\\t\\t\\t<div class=\"meta\">\\n\\t\\t\\t\\t<div class=\"date\"> 3/21</div>\\n\\t\\t\\t\\t<div class=\"author\">eddisontw</div>\\n\\t\\t\\t</div>\\n\\t\\t</div>\\n\\n\\t\\t\\n            \\n        \\n        \\n\\t\\t<div class=\"r-ent\">\\n\\t\\t\\t<div class=\"nrec\"><span class=\"hl f2\">2</span></div>\\n\\t\\t\\t<div class=\"mark\"></div>\\n\\t\\t\\t<div class=\"title\">\\n\\t\\t\\t\\n\\t\\t\\t\\t<a href=\"/bbs/Gossiping/M.1490059586.A.443.html\">[問卦]子魚 有沒有可能被瘋狂潛規則?? </a>\\n\\t\\t\\t\\n\\t\\t\\t</div>\\n\\t\\t\\t<div class=\"meta\">\\n\\t\\t\\t\\t<div class=\"date\"> 3/21</div>\\n\\t\\t\\t\\t<div class=\"author\">TaylorMade</div>\\n\\t\\t\\t</div>\\n\\t\\t</div>\\n\\n\\t\\t\\n            \\n        \\n        \\n\\t\\t<div class=\"r-ent\">\\n\\t\\t\\t<div class=\"nrec\"></div>\\n\\t\\t\\t<div class=\"mark\"></div>\\n\\t\\t\\t<div class=\"title\">\\n\\t\\t\\t\\n\\t\\t\\t\\t<a href=\"/bbs/Gossiping/M.1490059608.A.715.html\">[問卦] 花學姐算過得幸福嗎?</a>\\n\\t\\t\\t\\n\\t\\t\\t</div>\\n\\t\\t\\t<div class=\"meta\">\\n\\t\\t\\t\\t<div class=\"date\"> 3/21</div>\\n\\t\\t\\t\\t<div class=\"author\">CavendishJr</div>\\n\\t\\t\\t</div>\\n\\t\\t</div>\\n\\n\\t\\t\\n            \\n        \\n        \\n\\t\\t<div class=\"r-ent\">\\n\\t\\t\\t<div class=\"nrec\"></div>\\n\\t\\t\\t<div class=\"mark\"></div>\\n\\t\\t\\t<div class=\"title\">\\n\\t\\t\\t\\n\\t\\t\\t\\t<a href=\"/bbs/Gossiping/M.1490059629.A.DE3.html\">[問卦] 臨檢跟盤查是不是一樣？</a>\\n\\t\\t\\t\\n\\t\\t\\t</div>\\n\\t\\t\\t<div class=\"meta\">\\n\\t\\t\\t\\t<div class=\"date\"> 3/21</div>\\n\\t\\t\\t\\t<div class=\"author\">ypc1994</div>\\n\\t\\t\\t</div>\\n\\t\\t</div>\\n\\n\\t\\t\\n            \\n        \\n        \\n\\t\\t<div class=\"r-ent\">\\n\\t\\t\\t<div class=\"nrec\"></div>\\n\\t\\t\\t<div class=\"mark\"></div>\\n\\t\\t\\t<div class=\"title\">\\n\\t\\t\\t\\n\\t\\t\\t\\t<a href=\"/bbs/Gossiping/M.1490059655.A.A13.html\">Re: [問卦] 警察不能盤查是不是酒駕就無敵了?</a>\\n\\t\\t\\t\\n\\t\\t\\t</div>\\n\\t\\t\\t<div class=\"meta\">\\n\\t\\t\\t\\t<div class=\"date\"> 3/21</div>\\n\\t\\t\\t\\t<div class=\"author\">EAFV</div>\\n\\t\\t\\t</div>\\n\\t\\t</div>\\n\\n\\t\\t\\n            \\n        \\n        \\n\\t\\t<div class=\"r-ent\">\\n\\t\\t\\t<div class=\"nrec\"></div>\\n\\t\\t\\t<div class=\"mark\"></div>\\n\\t\\t\\t<div class=\"title\">\\n\\t\\t\\t\\n\\t\\t\\t\\t<a href=\"/bbs/Gossiping/M.1490059676.A.DB9.html\">[問卦] 陰屍路的臨時演員 薪水如何</a>\\n\\t\\t\\t\\n\\t\\t\\t</div>\\n\\t\\t\\t<div class=\"meta\">\\n\\t\\t\\t\\t<div class=\"date\"> 3/21</div>\\n\\t\\t\\t\\t<div class=\"author\">seabox</div>\\n\\t\\t\\t</div>\\n\\t\\t</div>\\n\\n\\t\\t\\n        \\n        <div class=\"r-list-sep\"></div>\\n            \\n                \\n        \\n        \\n\\t\\t<div class=\"r-ent\">\\n\\t\\t\\t<div class=\"nrec\"></div>\\n\\t\\t\\t<div class=\"mark\">!</div>\\n\\t\\t\\t<div class=\"title\">\\n\\t\\t\\t\\n\\t\\t\\t\\t<a href=\"/bbs/Gossiping/M.1471338439.A.5B1.html\">[公告] 八卦板板規(2016.08.16)</a>\\n\\t\\t\\t\\n\\t\\t\\t</div>\\n\\t\\t\\t<div class=\"meta\">\\n\\t\\t\\t\\t<div class=\"date\"> 8/16</div>\\n\\t\\t\\t\\t<div class=\"author\">Bignana</div>\\n\\t\\t\\t</div>\\n\\t\\t</div>\\n\\n            \\n                \\n        \\n        \\n\\t\\t<div class=\"r-ent\">\\n\\t\\t\\t<div class=\"nrec\"><span class=\"hl f3\">29</span></div>\\n\\t\\t\\t<div class=\"mark\"></div>\\n\\t\\t\\t<div class=\"title\">\\n\\t\\t\\t\\n\\t\\t\\t\\t<a href=\"/bbs/Gossiping/M.1489250477.A.6A1.html\">[徵求] 03/09 10:30高楠公路行車紀錄器</a>\\n\\t\\t\\t\\n\\t\\t\\t</div>\\n\\t\\t\\t<div class=\"meta\">\\n\\t\\t\\t\\t<div class=\"date\"> 3/12</div>\\n\\t\\t\\t\\t<div class=\"author\">francaise</div>\\n\\t\\t\\t</div>\\n\\t\\t</div>\\n\\n            \\n                \\n        \\n        \\n\\t\\t<div class=\"r-ent\">\\n\\t\\t\\t<div class=\"nrec\"><span class=\"hl f3\">98</span></div>\\n\\t\\t\\t<div class=\"mark\">M</div>\\n\\t\\t\\t<div class=\"title\">\\n\\t\\t\\t\\n\\t\\t\\t\\t<a href=\"/bbs/Gossiping/M.1489908451.A.E0B.html\">[爆卦] 反黑箱服貿相關訴訟案件進度追蹤報告</a>\\n\\t\\t\\t\\n\\t\\t\\t</div>\\n\\t\\t\\t<div class=\"meta\">\\n\\t\\t\\t\\t<div class=\"date\"> 3/19</div>\\n\\t\\t\\t\\t<div class=\"author\">billy3321</div>\\n\\t\\t\\t</div>\\n\\t\\t</div>\\n\\n            \\n                \\n        \\n        \\n\\t\\t<div class=\"r-ent\">\\n\\t\\t\\t<div class=\"nrec\"><span class=\"hl f3\">61</span></div>\\n\\t\\t\\t<div class=\"mark\">M</div>\\n\\t\\t\\t<div class=\"title\">\\n\\t\\t\\t\\n\\t\\t\\t\\t<a href=\"/bbs/Gossiping/M.1488298984.A.E75.html\">[公告] 三月份置底閒聊區</a>\\n\\t\\t\\t\\n\\t\\t\\t</div>\\n\\t\\t\\t<div class=\"meta\">\\n\\t\\t\\t\\t<div class=\"date\"> 3/01</div>\\n\\t\\t\\t\\t<div class=\"author\">Mews</div>\\n\\t\\t\\t</div>\\n\\t\\t</div>\\n\\n            \\n        \\n\\t</div>\\n\\n    \\n<div class=\"bbs-screen bbs-footer-message\">本網站已依台灣網站內容分級規定處理。此區域為限制級，未滿十八歲者不得瀏覽。</div>\\n\\n</div>\\n\\n\\t\\t\\n\\n<script>\\n  (function(i,s,o,g,r,a,m){i[\\'GoogleAnalyticsObject\\']=r;i[r]=i[r]||function(){\\n  (i[r].q=i[r].q||[]).push(arguments)},i[r].l=1*new Date();a=s.createElement(o),\\n  m=s.getElementsByTagName(o)[0];a.async=1;a.src=g;m.parentNode.insertBefore(a,m)\\n  })(window,document,\\'script\\',\\'https://www.google-analytics.com/analytics.js\\',\\'ga\\');\\n\\n  ga(\\'create\\', \\'UA-32365737-1\\', {\\n    cookieDomain: \\'ptt.cc\\',\\n    legacyCookieDomain: \\'ptt.cc\\'\\n  });\\n  ga(\\'send\\', \\'pageview\\');\\n</script>\\n\\n\\n\\t\\t\\n<script src=\"//ajax.googleapis.com/ajax/libs/jquery/2.1.1/jquery.min.js\"></script>\\n<script src=\"//images.ptt.cc/bbs/v2.22/bbs.js\"></script>\\n\\n    </body>\\n</html>\\n'"
      ]
     },
     "execution_count": 3,
     "metadata": {},
     "output_type": "execute_result"
    }
   ],
   "source": [
    "headers = {\n",
    "    'cookie': \"over18=1\"\n",
    "}\n",
    "res = requests.get(HOST + \"/bbs/Gossiping/index.html\", headers=headers)\n",
    "res.text"
   ]
  },
  {
   "cell_type": "code",
   "execution_count": 4,
   "metadata": {
    "collapsed": false
   },
   "outputs": [
    {
     "data": {
      "text/plain": [
       "<!DOCTYPE html>\n",
       "<html>\n",
       "<head>\n",
       "<meta charset=\"utf-8\"/>\n",
       "<meta content=\"width=device-width, initial-scale=1\" name=\"viewport\"/>\n",
       "<title>看板 Gossiping 文章列表 - 批踢踢實業坊</title>\n",
       "<link href=\"//images.ptt.cc/bbs/v2.22/bbs-common.css\" rel=\"stylesheet\" type=\"text/css\"/>\n",
       "<link href=\"//images.ptt.cc/bbs/v2.22/bbs-base.css\" media=\"screen\" rel=\"stylesheet\" type=\"text/css\"/>\n",
       "<link href=\"//images.ptt.cc/bbs/v2.22/bbs-custom.css\" rel=\"stylesheet\" type=\"text/css\"/>\n",
       "<link href=\"//images.ptt.cc/bbs/v2.22/pushstream.css\" media=\"screen\" rel=\"stylesheet\" type=\"text/css\"/>\n",
       "<link href=\"//images.ptt.cc/bbs/v2.22/bbs-print.css\" media=\"print\" rel=\"stylesheet\" type=\"text/css\"/>\n",
       "</head>\n",
       "<body>\n",
       "<div id=\"topbar-container\">\n",
       "<div class=\"bbs-content\" id=\"topbar\">\n",
       "<a href=\"/\" id=\"logo\">批踢踢實業坊</a>\n",
       "<span>›</span>\n",
       "<a class=\"board\" href=\"/bbs/Gossiping/index.html\"><span class=\"board-label\">看板 </span>Gossiping</a>\n",
       "<a class=\"right small\" href=\"/about.html\">關於我們</a>\n",
       "<a class=\"right small\" href=\"/contact.html\">聯絡資訊</a>\n",
       "</div>\n",
       "</div>\n",
       "<div id=\"main-container\">\n",
       "<div id=\"action-bar-container\">\n",
       "<div class=\"action-bar\">\n",
       "<div class=\"btn-group btn-group-dir\">\n",
       "<a class=\"btn selected\" href=\"/bbs/Gossiping/index.html\">看板</a>\n",
       "<a class=\"btn\" href=\"/man/Gossiping/index.html\">精華區</a>\n",
       "</div>\n",
       "<div class=\"btn-group btn-group-paging\">\n",
       "<a class=\"btn wide\" href=\"/bbs/Gossiping/index1.html\">最舊</a>\n",
       "<a class=\"btn wide\" href=\"/bbs/Gossiping/index20936.html\">‹ 上頁</a>\n",
       "<a class=\"btn wide disabled\">下頁 ›</a>\n",
       "<a class=\"btn wide\" href=\"/bbs/Gossiping/index.html\">最新</a>\n",
       "</div>\n",
       "</div>\n",
       "</div>\n",
       "<div class=\"r-list-container action-bar-margin bbs-screen\">\n",
       "<div class=\"r-ent\">\n",
       "<div class=\"nrec\"><span class=\"hl f2\">5</span></div>\n",
       "<div class=\"mark\"></div>\n",
       "<div class=\"title\">\n",
       "<a href=\"/bbs/Gossiping/M.1490059127.A.AAF.html\">[問卦] 每天固定時間大便會怎樣?</a>\n",
       "</div>\n",
       "<div class=\"meta\">\n",
       "<div class=\"date\"> 3/21</div>\n",
       "<div class=\"author\">sai5566</div>\n",
       "</div>\n",
       "</div>\n",
       "<div class=\"r-ent\">\n",
       "<div class=\"nrec\"></div>\n",
       "<div class=\"mark\"></div>\n",
       "<div class=\"title\">\n",
       "<a href=\"/bbs/Gossiping/M.1490059167.A.9E2.html\">Re: [新聞] 房屋稅補助 柯P擬動用二備金</a>\n",
       "</div>\n",
       "<div class=\"meta\">\n",
       "<div class=\"date\"> 3/21</div>\n",
       "<div class=\"author\">beanseven</div>\n",
       "</div>\n",
       "</div>\n",
       "<div class=\"r-ent\">\n",
       "<div class=\"nrec\"><span class=\"hl f2\">1</span></div>\n",
       "<div class=\"mark\"></div>\n",
       "<div class=\"title\">\n",
       "<a href=\"/bbs/Gossiping/M.1490059243.A.405.html\">Re: [問卦] 一例一休不好嗎?加班$$多</a>\n",
       "</div>\n",
       "<div class=\"meta\">\n",
       "<div class=\"date\"> 3/21</div>\n",
       "<div class=\"author\">trashpoking</div>\n",
       "</div>\n",
       "</div>\n",
       "<div class=\"r-ent\">\n",
       "<div class=\"nrec\"><span class=\"hl f2\">2</span></div>\n",
       "<div class=\"mark\"></div>\n",
       "<div class=\"title\">\n",
       "<a href=\"/bbs/Gossiping/M.1490059252.A.1C5.html\">[問卦] 為什麼無法用意志力阻止身寸</a>\n",
       "</div>\n",
       "<div class=\"meta\">\n",
       "<div class=\"date\"> 3/21</div>\n",
       "<div class=\"author\">SupCat</div>\n",
       "</div>\n",
       "</div>\n",
       "<div class=\"r-ent\">\n",
       "<div class=\"nrec\"><span class=\"hl f2\">2</span></div>\n",
       "<div class=\"mark\"></div>\n",
       "<div class=\"title\">\n",
       "<a href=\"/bbs/Gossiping/M.1490059285.A.51A.html\">[新聞] 嘿咻要提前2周告知　女友的要求是為了...</a>\n",
       "</div>\n",
       "<div class=\"meta\">\n",
       "<div class=\"date\"> 3/21</div>\n",
       "<div class=\"author\">stw0975</div>\n",
       "</div>\n",
       "</div>\n",
       "<div class=\"r-ent\">\n",
       "<div class=\"nrec\"><span class=\"hl f2\">2</span></div>\n",
       "<div class=\"mark\"></div>\n",
       "<div class=\"title\">\n",
       "<a href=\"/bbs/Gossiping/M.1490059358.A.AAD.html\">Re: [新聞] 秘錄器逐字稿全曝光　李永得這樣說</a>\n",
       "</div>\n",
       "<div class=\"meta\">\n",
       "<div class=\"date\"> 3/21</div>\n",
       "<div class=\"author\">ds1999h</div>\n",
       "</div>\n",
       "</div>\n",
       "<div class=\"r-ent\">\n",
       "<div class=\"nrec\"></div>\n",
       "<div class=\"mark\"></div>\n",
       "<div class=\"title\">\n",
       "<a href=\"/bbs/Gossiping/M.1490059376.A.C8C.html\">[問卦] 大嫂想跟本宅做愛</a>\n",
       "</div>\n",
       "<div class=\"meta\">\n",
       "<div class=\"date\"> 3/21</div>\n",
       "<div class=\"author\">PPTT0205</div>\n",
       "</div>\n",
       "</div>\n",
       "<div class=\"r-ent\">\n",
       "<div class=\"nrec\"><span class=\"hl f3\">25</span></div>\n",
       "<div class=\"mark\"></div>\n",
       "<div class=\"title\">\n",
       "<a href=\"/bbs/Gossiping/M.1490059437.A.BEB.html\">[新聞] 兒子當面強吻妹妹...母親怒帶女兒報警　1</a>\n",
       "</div>\n",
       "<div class=\"meta\">\n",
       "<div class=\"date\"> 3/21</div>\n",
       "<div class=\"author\">area41gold</div>\n",
       "</div>\n",
       "</div>\n",
       "<div class=\"r-ent\">\n",
       "<div class=\"nrec\"></div>\n",
       "<div class=\"mark\"></div>\n",
       "<div class=\"title\">\n",
       "<a href=\"/bbs/Gossiping/M.1490059495.A.F37.html\">Re: [問卦] 為什麼西門町不是翻成westdoor？</a>\n",
       "</div>\n",
       "<div class=\"meta\">\n",
       "<div class=\"date\"> 3/21</div>\n",
       "<div class=\"author\">eddisontw</div>\n",
       "</div>\n",
       "</div>\n",
       "<div class=\"r-ent\">\n",
       "<div class=\"nrec\"><span class=\"hl f2\">2</span></div>\n",
       "<div class=\"mark\"></div>\n",
       "<div class=\"title\">\n",
       "<a href=\"/bbs/Gossiping/M.1490059586.A.443.html\">[問卦]子魚 有沒有可能被瘋狂潛規則?? </a>\n",
       "</div>\n",
       "<div class=\"meta\">\n",
       "<div class=\"date\"> 3/21</div>\n",
       "<div class=\"author\">TaylorMade</div>\n",
       "</div>\n",
       "</div>\n",
       "<div class=\"r-ent\">\n",
       "<div class=\"nrec\"></div>\n",
       "<div class=\"mark\"></div>\n",
       "<div class=\"title\">\n",
       "<a href=\"/bbs/Gossiping/M.1490059608.A.715.html\">[問卦] 花學姐算過得幸福嗎?</a>\n",
       "</div>\n",
       "<div class=\"meta\">\n",
       "<div class=\"date\"> 3/21</div>\n",
       "<div class=\"author\">CavendishJr</div>\n",
       "</div>\n",
       "</div>\n",
       "<div class=\"r-ent\">\n",
       "<div class=\"nrec\"></div>\n",
       "<div class=\"mark\"></div>\n",
       "<div class=\"title\">\n",
       "<a href=\"/bbs/Gossiping/M.1490059629.A.DE3.html\">[問卦] 臨檢跟盤查是不是一樣？</a>\n",
       "</div>\n",
       "<div class=\"meta\">\n",
       "<div class=\"date\"> 3/21</div>\n",
       "<div class=\"author\">ypc1994</div>\n",
       "</div>\n",
       "</div>\n",
       "<div class=\"r-ent\">\n",
       "<div class=\"nrec\"></div>\n",
       "<div class=\"mark\"></div>\n",
       "<div class=\"title\">\n",
       "<a href=\"/bbs/Gossiping/M.1490059655.A.A13.html\">Re: [問卦] 警察不能盤查是不是酒駕就無敵了?</a>\n",
       "</div>\n",
       "<div class=\"meta\">\n",
       "<div class=\"date\"> 3/21</div>\n",
       "<div class=\"author\">EAFV</div>\n",
       "</div>\n",
       "</div>\n",
       "<div class=\"r-ent\">\n",
       "<div class=\"nrec\"></div>\n",
       "<div class=\"mark\"></div>\n",
       "<div class=\"title\">\n",
       "<a href=\"/bbs/Gossiping/M.1490059676.A.DB9.html\">[問卦] 陰屍路的臨時演員 薪水如何</a>\n",
       "</div>\n",
       "<div class=\"meta\">\n",
       "<div class=\"date\"> 3/21</div>\n",
       "<div class=\"author\">seabox</div>\n",
       "</div>\n",
       "</div>\n",
       "<div class=\"r-list-sep\"></div>\n",
       "<div class=\"r-ent\">\n",
       "<div class=\"nrec\"></div>\n",
       "<div class=\"mark\">!</div>\n",
       "<div class=\"title\">\n",
       "<a href=\"/bbs/Gossiping/M.1471338439.A.5B1.html\">[公告] 八卦板板規(2016.08.16)</a>\n",
       "</div>\n",
       "<div class=\"meta\">\n",
       "<div class=\"date\"> 8/16</div>\n",
       "<div class=\"author\">Bignana</div>\n",
       "</div>\n",
       "</div>\n",
       "<div class=\"r-ent\">\n",
       "<div class=\"nrec\"><span class=\"hl f3\">29</span></div>\n",
       "<div class=\"mark\"></div>\n",
       "<div class=\"title\">\n",
       "<a href=\"/bbs/Gossiping/M.1489250477.A.6A1.html\">[徵求] 03/09 10:30高楠公路行車紀錄器</a>\n",
       "</div>\n",
       "<div class=\"meta\">\n",
       "<div class=\"date\"> 3/12</div>\n",
       "<div class=\"author\">francaise</div>\n",
       "</div>\n",
       "</div>\n",
       "<div class=\"r-ent\">\n",
       "<div class=\"nrec\"><span class=\"hl f3\">98</span></div>\n",
       "<div class=\"mark\">M</div>\n",
       "<div class=\"title\">\n",
       "<a href=\"/bbs/Gossiping/M.1489908451.A.E0B.html\">[爆卦] 反黑箱服貿相關訴訟案件進度追蹤報告</a>\n",
       "</div>\n",
       "<div class=\"meta\">\n",
       "<div class=\"date\"> 3/19</div>\n",
       "<div class=\"author\">billy3321</div>\n",
       "</div>\n",
       "</div>\n",
       "<div class=\"r-ent\">\n",
       "<div class=\"nrec\"><span class=\"hl f3\">61</span></div>\n",
       "<div class=\"mark\">M</div>\n",
       "<div class=\"title\">\n",
       "<a href=\"/bbs/Gossiping/M.1488298984.A.E75.html\">[公告] 三月份置底閒聊區</a>\n",
       "</div>\n",
       "<div class=\"meta\">\n",
       "<div class=\"date\"> 3/01</div>\n",
       "<div class=\"author\">Mews</div>\n",
       "</div>\n",
       "</div>\n",
       "</div>\n",
       "<div class=\"bbs-screen bbs-footer-message\">本網站已依台灣網站內容分級規定處理。此區域為限制級，未滿十八歲者不得瀏覽。</div>\n",
       "</div>\n",
       "<script>\n",
       "  (function(i,s,o,g,r,a,m){i['GoogleAnalyticsObject']=r;i[r]=i[r]||function(){\n",
       "  (i[r].q=i[r].q||[]).push(arguments)},i[r].l=1*new Date();a=s.createElement(o),\n",
       "  m=s.getElementsByTagName(o)[0];a.async=1;a.src=g;m.parentNode.insertBefore(a,m)\n",
       "  })(window,document,'script','https://www.google-analytics.com/analytics.js','ga');\n",
       "\n",
       "  ga('create', 'UA-32365737-1', {\n",
       "    cookieDomain: 'ptt.cc',\n",
       "    legacyCookieDomain: 'ptt.cc'\n",
       "  });\n",
       "  ga('send', 'pageview');\n",
       "</script>\n",
       "<script src=\"//ajax.googleapis.com/ajax/libs/jquery/2.1.1/jquery.min.js\"></script>\n",
       "<script src=\"//images.ptt.cc/bbs/v2.22/bbs.js\"></script>\n",
       "</body>\n",
       "</html>"
      ]
     },
     "execution_count": 4,
     "metadata": {},
     "output_type": "execute_result"
    }
   ],
   "source": [
    "soup = BeautifulSoup(res.text, 'lxml')\n",
    "soup"
   ]
  },
  {
   "cell_type": "code",
   "execution_count": 6,
   "metadata": {
    "collapsed": false
   },
   "outputs": [
    {
     "data": {
      "text/plain": [
       "[<a class=\"btn wide\" href=\"/bbs/Gossiping/index1.html\">最舊</a>,\n",
       " <a class=\"btn wide\" href=\"/bbs/Gossiping/index20936.html\">‹ 上頁</a>,\n",
       " <a class=\"btn wide disabled\">下頁 ›</a>,\n",
       " <a class=\"btn wide\" href=\"/bbs/Gossiping/index.html\">最新</a>]"
      ]
     },
     "execution_count": 6,
     "metadata": {},
     "output_type": "execute_result"
    }
   ],
   "source": [
    "btn_list = soup.select(\"#action-bar-container > div > div.btn-group.btn-group-paging > a\")\n",
    "btn_list"
   ]
  },
  {
   "cell_type": "code",
   "execution_count": 7,
   "metadata": {
    "collapsed": false
   },
   "outputs": [
    {
     "data": {
      "text/plain": [
       "<a class=\"btn wide\" href=\"/bbs/Gossiping/index20936.html\">‹ 上頁</a>"
      ]
     },
     "execution_count": 7,
     "metadata": {},
     "output_type": "execute_result"
    }
   ],
   "source": [
    "btn_list[1]"
   ]
  },
  {
   "cell_type": "code",
   "execution_count": 9,
   "metadata": {
    "collapsed": false
   },
   "outputs": [
    {
     "data": {
      "text/plain": [
       "'/bbs/Gossiping/index20936.html'"
      ]
     },
     "execution_count": 9,
     "metadata": {},
     "output_type": "execute_result"
    }
   ],
   "source": [
    "last_page = btn_list[1]['href']\n",
    "last_page"
   ]
  },
  {
   "cell_type": "code",
   "execution_count": 10,
   "metadata": {
    "collapsed": false
   },
   "outputs": [
    {
     "data": {
      "text/plain": [
       "['/bbs/Gossiping/', '20936.html']"
      ]
     },
     "execution_count": 10,
     "metadata": {},
     "output_type": "execute_result"
    }
   ],
   "source": [
    "last_page.split(\"index\")"
   ]
  },
  {
   "cell_type": "code",
   "execution_count": 11,
   "metadata": {
    "collapsed": false
   },
   "outputs": [
    {
     "data": {
      "text/plain": [
       "'20936.html'"
      ]
     },
     "execution_count": 11,
     "metadata": {},
     "output_type": "execute_result"
    }
   ],
   "source": [
    "last_page.split(\"index\")[1]"
   ]
  },
  {
   "cell_type": "code",
   "execution_count": 12,
   "metadata": {
    "collapsed": false
   },
   "outputs": [
    {
     "data": {
      "text/plain": [
       "['20936', '']"
      ]
     },
     "execution_count": 12,
     "metadata": {},
     "output_type": "execute_result"
    }
   ],
   "source": [
    "last_page.split(\"index\")[1].split(\".html\")"
   ]
  },
  {
   "cell_type": "code",
   "execution_count": 14,
   "metadata": {
    "collapsed": false
   },
   "outputs": [
    {
     "data": {
      "text/plain": [
       "'20936'"
      ]
     },
     "execution_count": 14,
     "metadata": {},
     "output_type": "execute_result"
    }
   ],
   "source": [
    "page_str = last_page.split(\"index\")[1].split(\".html\")[0]\n",
    "page_str"
   ]
  },
  {
   "cell_type": "code",
   "execution_count": 16,
   "metadata": {
    "collapsed": false
   },
   "outputs": [
    {
     "data": {
      "text/plain": [
       "20936"
      ]
     },
     "execution_count": 16,
     "metadata": {},
     "output_type": "execute_result"
    }
   ],
   "source": [
    "page_int = int(page_str) + 1\n",
    "page_int # 總頁數"
   ]
  },
  {
   "cell_type": "code",
   "execution_count": 24,
   "metadata": {
    "collapsed": false
   },
   "outputs": [
    {
     "name": "stdout",
     "output_type": "stream",
     "text": [
      "[DEBUG] Crawling page 20936\n",
      "[DEBUG] Current page is https://www.ptt.cc/bbs/Gossiping/index20936.html\n",
      "[DEBUG] Crawling page 20935\n",
      "[DEBUG] Current page is https://www.ptt.cc/bbs/Gossiping/index20935.html\n",
      "[DEBUG] Crawling page 20934\n",
      "[DEBUG] Current page is https://www.ptt.cc/bbs/Gossiping/index20934.html\n",
      "[DEBUG] Crawling page 20933\n",
      "[DEBUG] Current page is https://www.ptt.cc/bbs/Gossiping/index20933.html\n",
      "[DEBUG] Crawling page 20932\n",
      "[DEBUG] Current page is https://www.ptt.cc/bbs/Gossiping/index20932.html\n",
      "[DEBUG] Crawling page 20931\n",
      "[DEBUG] Current page is https://www.ptt.cc/bbs/Gossiping/index20931.html\n",
      "[DEBUG] Crawling page 20930\n",
      "[DEBUG] Current page is https://www.ptt.cc/bbs/Gossiping/index20930.html\n",
      "[DEBUG] Crawling page 20929\n",
      "[DEBUG] Current page is https://www.ptt.cc/bbs/Gossiping/index20929.html\n",
      "[DEBUG] Crawling page 20928\n",
      "[DEBUG] Current page is https://www.ptt.cc/bbs/Gossiping/index20928.html\n",
      "[DEBUG] Crawling page 20927\n",
      "[DEBUG] Current page is https://www.ptt.cc/bbs/Gossiping/index20927.html\n"
     ]
    }
   ],
   "source": [
    "# 開始組合八掛板列表頁URL\n",
    "PAGE_TO_CRAWL = 10\n",
    "URL_TEMPLATE = \"/bbs/Gossiping/index{}.html\"\n",
    "for page in range(page_int, page_int - PAGE_TO_CRAWL, -1):\n",
    "    print(\"[DEBUG] Crawling page %s\"%(page))\n",
    "    URL = HOST + URL_TEMPLATE.format(page)\n",
    "    print(\"[DEBUG] Current page is %s\"%(URL))"
   ]
  },
  {
   "cell_type": "code",
   "execution_count": 41,
   "metadata": {
    "collapsed": true
   },
   "outputs": [],
   "source": [
    "def crawl_list(url):\n",
    "    # input: <String> list page url\n",
    "    # output: <List> list of article urls\n",
    "    headers = {\n",
    "        'cookie': \"over18=1\"\n",
    "    }\n",
    "    res = requests.get(url, headers=headers)\n",
    "    #print(\"[DEBUG] res page is %s\"%(res.text))\n",
    "    soup = BeautifulSoup(res.text, 'lxml')\n",
    "    a_tags = soup.select(\"#main-container > div.r-list-container.action-bar-margin.bbs-screen > div > div.title > a\")\n",
    "    article_urls = [HOST + link['href'] for link in a_tags]\n",
    "    return article_urls"
   ]
  },
  {
   "cell_type": "code",
   "execution_count": 42,
   "metadata": {
    "collapsed": false
   },
   "outputs": [
    {
     "data": {
      "text/plain": [
       "['https://www.ptt.cc/bbs/Gossiping/M.1490058065.A.60A.html',\n",
       " 'https://www.ptt.cc/bbs/Gossiping/M.1490058101.A.38F.html',\n",
       " 'https://www.ptt.cc/bbs/Gossiping/M.1490058123.A.5DC.html',\n",
       " 'https://www.ptt.cc/bbs/Gossiping/M.1490058155.A.4F8.html',\n",
       " 'https://www.ptt.cc/bbs/Gossiping/M.1490058169.A.25C.html',\n",
       " 'https://www.ptt.cc/bbs/Gossiping/M.1490058180.A.A6B.html',\n",
       " 'https://www.ptt.cc/bbs/Gossiping/M.1490058221.A.A91.html',\n",
       " 'https://www.ptt.cc/bbs/Gossiping/M.1490058241.A.912.html',\n",
       " 'https://www.ptt.cc/bbs/Gossiping/M.1490058279.A.05E.html',\n",
       " 'https://www.ptt.cc/bbs/Gossiping/M.1490058569.A.8B7.html',\n",
       " 'https://www.ptt.cc/bbs/Gossiping/M.1490058578.A.8DF.html',\n",
       " 'https://www.ptt.cc/bbs/Gossiping/M.1490058588.A.D1A.html',\n",
       " 'https://www.ptt.cc/bbs/Gossiping/M.1490058627.A.ECF.html',\n",
       " 'https://www.ptt.cc/bbs/Gossiping/M.1490058667.A.472.html',\n",
       " 'https://www.ptt.cc/bbs/Gossiping/M.1490058712.A.BF7.html',\n",
       " 'https://www.ptt.cc/bbs/Gossiping/M.1490058761.A.CD6.html',\n",
       " 'https://www.ptt.cc/bbs/Gossiping/M.1490058784.A.655.html',\n",
       " 'https://www.ptt.cc/bbs/Gossiping/M.1490058955.A.571.html',\n",
       " 'https://www.ptt.cc/bbs/Gossiping/M.1490059020.A.3AB.html',\n",
       " 'https://www.ptt.cc/bbs/Gossiping/M.1490059055.A.9EC.html']"
      ]
     },
     "execution_count": 42,
     "metadata": {},
     "output_type": "execute_result"
    }
   ],
   "source": [
    "crawl_list(\"https://www.ptt.cc/bbs/Gossiping/index20936.html\")"
   ]
  },
  {
   "cell_type": "code",
   "execution_count": 74,
   "metadata": {
    "collapsed": true
   },
   "outputs": [],
   "source": [
    "def crawl_page(url):\n",
    "    # input: <String> article page url\n",
    "    # output: <Dictionary> article object\n",
    "    print(\"[DEBUG] crawl_page at %s\"%(url))\n",
    "    article_dict = {}\n",
    "    \n",
    "    headers = {\n",
    "        'cookie': \"over18=1\"\n",
    "    }\n",
    "    res = requests.get(url, headers=headers)\n",
    "    #print(\"[DEBUG] res page is %s\"%(res.text))\n",
    "    soup = BeautifulSoup(res.text, 'lxml')\n",
    "    meta_list = soup.select(\"#main-content > div > span.article-meta-value\") # [kohanchen (kohanchen), Gossiping...]\n",
    "    article_dict['author'] = meta_list[0].text\n",
    "    article_dict['board'] = meta_list[1].text\n",
    "    article_dict['title'] = meta_list[2].text\n",
    "    article_dict['dt'] = meta_list[3].text\n",
    "    \n",
    "    article_dict['ip'] = soup.select_one(\"#main-content\").text.split(\"發信站: 批踢踢實業坊(ptt.cc), 來自: \")[1].split(\"\\n※ 文章網址:\")[0].strip()\n",
    "    \n",
    "    # 刪除不需要的elemets....\n",
    "    for meta in meta_list:\n",
    "        meta.extract()\n",
    "    for meta in soup.select(\"#main-content > div > span.article-meta-tag\"):\n",
    "        meta.extract()\n",
    "    for push in soup.select(\"div.push\"):\n",
    "        push.extract() \n",
    "    for push in soup.select(\"span.f2\"):\n",
    "        push.extract()\n",
    "\n",
    "    article_dict['content'] = soup.select_one(\"#main-content\").text.strip()\n",
    "    \n",
    "    return article_dict"
   ]
  },
  {
   "cell_type": "code",
   "execution_count": 75,
   "metadata": {
    "collapsed": false
   },
   "outputs": [
    {
     "name": "stdout",
     "output_type": "stream",
     "text": [
      "[DEBUG] crawl_page at https://www.ptt.cc/bbs/Gossiping/M.1490058569.A.8B7.html\n"
     ]
    },
    {
     "data": {
      "text/plain": [
       "{'author': 'kohanchen (kohanchen)',\n",
       " 'board': 'Gossiping',\n",
       " 'content': '我們兩手十指交錯 也就是兩手\\n\\n握住彼此時 有一個習慣的順序\\n\\n像是右手手指總是在左手同樣\\n\\n對應手指的上面\\n\\n如果反過來 用非習慣順序握久了\\n\\n你會開始產生不安全 不舒適的感覺\\n\\n這是為什麼?\\n\\n--',\n",
       " 'dt': 'Tue Mar 21 09:09:26 2017',\n",
       " 'ip': '101.12.36.131',\n",
       " 'title': '[問卦] 非習慣的兩手十指交錯順序為何會不舒適?'}"
      ]
     },
     "execution_count": 75,
     "metadata": {},
     "output_type": "execute_result"
    }
   ],
   "source": [
    "# main-content.text會把不是文章內容也一起select出來....\n",
    "crawl_page(\"https://www.ptt.cc/bbs/Gossiping/M.1490058569.A.8B7.html\")"
   ]
  },
  {
   "cell_type": "code",
   "execution_count": 80,
   "metadata": {
    "collapsed": false
   },
   "outputs": [
    {
     "name": "stdout",
     "output_type": "stream",
     "text": [
      "[DEBUG] Crawling page 20936\n",
      "[DEBUG] Current page is https://www.ptt.cc/bbs/Gossiping/index20936.html\n",
      "[DEBUG] crawl_page at https://www.ptt.cc/bbs/Gossiping/M.1490058065.A.60A.html\n",
      "{'author': 'Kurosagi5566 (浩南哥5566)', 'board': 'Gossiping', 'title': '[問卦] 飛機上都沒人該怎麼辦', 'dt': 'Tue Mar 21 09:01:00 2017', 'ip': '101.139.93.153', 'content': 'http://i.imgur.com/PNQGlQU.jpg\\n\\n好像要起飛了\\n\\n但我前後左右都沒人\\n\\n怎麼辦\\n\\n我是不是錯過了什麼\\n\\n--'}\n",
      "[DEBUG] crawl_page at https://www.ptt.cc/bbs/Gossiping/M.1490058101.A.38F.html\n",
      "{'author': 'loserfatotak (家裡蹲魯肥宅(T^T))', 'board': 'Gossiping', 'title': '[問卦] 高鐵的票是回收紙類嗎', 'dt': 'Tue Mar 21 09:01:38 2017', 'ip': '223.140.124.97', 'content': '如題(づ′・ω・）づ\\n\\n之前有搭高鐵\\n\\n目前打掃時發現票沒被高鐵收走\\n\\nhttp://i.imgur.com/UCFL4Ru.jpg\\n\\n這東西是直接丟掉嗎\\n\\n還是當紙類回收\\n\\n為什麼高鐵不把票收走\\n\\n有沒有八卦\\n\\n--'}\n",
      "[DEBUG] crawl_page at https://www.ptt.cc/bbs/Gossiping/M.1490058123.A.5DC.html\n",
      "{'author': 'Beanoodle (津崎似超人平匡先生)', 'board': 'Gossiping', 'title': 'Re: [問卦] 挪威的森林真的是100%愛情小說嗎', 'dt': 'Tue Mar 21 09:02:00 2017', 'ip': '111.242.158.159', 'content': '這本主角就是個有自閉症的肥宅的內心告白日記而已啊\\n\\n痾....應該說他的書的主角大部分都是有自閉症的肥宅\\n\\n就這樣說好了\\n\\n把他的書看成是文筆比較好的有文青特質的自閉症的肥宅的日記來看\\n\\n剛好台灣跟日本這兩個社會(中國應該也是)\\n\\n有很多自閉症跟想當文青的肥宅\\n\\n就這樣不小心深深觸動了這些肥宅的內心世界\\n\\n論文筆還不是被刃太屌打\\n\\nhttp://i.imgur.com/bYxvOhO.jpg\\n\\n: 安安各位肥宅哇洗黑金平\\n: 打給熬炸\\n: 魯伯我最近拜讀了日本Peter Su-村上春樹的小說《挪威的森林》\\n: 蠻多橋段都是渡邊在%%%\\n: 跟直子、跟綠\\n: 還常僅僅以「睡覺」來替代相關詞彙\\n: 我看根本就是100個%%%愛情小說吧\\n: 肛五八卦\\n: -----\\n: Sent from JPTT on my Sony F3115.\\n\\n--\\n你才反串，你全家都反串'}\n",
      "[DEBUG] crawl_page at https://www.ptt.cc/bbs/Gossiping/M.1490058155.A.4F8.html\n",
      "{'author': 'mstory (m的故事)', 'board': 'Gossiping', 'title': 'Re: [問卦] 外勞是幫了台灣還是害了台灣', 'dt': 'Tue Mar 21 09:02:32 2017', 'ip': '101.11.1.124', 'content': '一半一半\\n對慣老闆而言，外勞幫他們省了錢，讓慣老闆賺飽飽，買超跑，炒地皮\\n\\n對勞工而言，他們就是壓低薪水的理由，反正你不做，還有外勞做，讓政府跟慣老闆恐嚇\\n勞工的理由，也是讓台灣勞工薪水起不來的兇手之一\\n\\n所以是否害了台灣，要看從誰的角度去看了\\n\\n--'}\n",
      "[DEBUG] crawl_page at https://www.ptt.cc/bbs/Gossiping/M.1490058169.A.25C.html\n",
      "{'author': 'r1006274 (毛頭)', 'board': 'Gossiping', 'title': '[問卦] 板上有肥油大亨嗎？', 'dt': 'Tue Mar 21 09:02:46 2017', 'ip': '115.82.3.67', 'content': '石油造成環境污染日益嚴重\\n是該找尋乾淨的能源了\\n本肥苦思許久\\n\\n肥油應該是理想的能源\\n以我的計算\\n一桶100公斤的肥油能驅動滑板車5分鐘\\n如果要增加里程就需要更多的肥油\\n\\n我需要找贊助商\\n請問各位有沒有認識肥油大亨？\\n\\n--'}\n",
      "[DEBUG] crawl_page at https://www.ptt.cc/bbs/Gossiping/M.1490058180.A.A6B.html\n",
      "{'author': 'rechin0917 (rechin0917 )', 'board': 'Gossiping', 'title': 'Re: [新聞] 李永得事件\\u3000基層警：「不如卸甲歸田！」', 'dt': 'Tue Mar 21 09:02:57 2017', 'ip': '39.9.72.146', 'content': ': 自嘲：「以後盤查要看對象，千萬不要查到大官！」\\n\\n欸你這句話讓我覺得受到侮辱喔\\n\\n平民百姓沒人權喔 差別待遇欸\\n\\n你們警察跟大官的事關一般老百姓屁事喔\\n\\n別亂扯好嗎 你們兩邊都有牌流氓\\n\\n拿我們出來說嘴搞屁啊\\n\\n說這句的員警你要不要先檢討自己\\n\\n然後那議員也太大驚小怪\\n\\n怎樣當官都不能查的逆\\n\\ntm以後整形都不是整好看的\\n\\n整的跟議員立委一樣萬歲\\n\\n警察走到路上想找一個查都有困難\\n\\n是個擅長官威逼人的朋友呢\\n\\n-----\\nSent from JPTT on my Samsung SM-N9208.\\n\\n--\\n你說的我是不知道啦 不過我記得好像有人說台北戒嚴 盤個查就要戒嚴這是什麼概念 反正我就是在婊說這句的人\\n法律之前人人平等欸 那個警察意思不就是說以後只查沒官的'}\n",
      "[DEBUG] crawl_page at https://www.ptt.cc/bbs/Gossiping/M.1490058221.A.A91.html\n",
      "{'author': 'AZBTPATONY (AZBTPATONY)', 'board': 'Gossiping', 'title': '[新聞] 青少年聊天疑遭尋仇\\u3000脖子中刀1傷1命危', 'dt': 'Tue Mar 21 09:03:37 2017', 'ip': '36.234.201.187', 'content': '新聞來源：蘋果日報\\n\\n北市三重區仁政街上的威天宮前，今天清晨6時許，發生疑似尋仇2男遭砍事件，警方獲報\\n到場發現2名傷者，立即通知救護車送醫，其中一名19歲男子脖子遭砍傷，送醫時已無呼\\n吸脈搏，另一名傷者頭部5公分刀傷，所幸意識清楚，警消將兩人分別送往醫院急救。\\n\\n警方到場時發現，威天宮前兩名男子受傷，其中一名19歲男子，脖子大量出血，由救護車\\n急救送醫時無呼吸脈搏，另一名傷者意識清楚，目前已經封鎖現場，並調閱附近監視器。\\n\\n附近店家及宮廟人士說，一群年輕人在宮廟旁早餐店前聊天，突然開來一輛白色的汽車，\\n下來3、4名惡煞，持刀棍就開始攻擊這2人後逃逸，目前警方已經調閱附近監視器，勢必\\n要將動手一方緝捕歸案。(突發中心陸運鋒/新北報導)\\n\\nhttp://m.appledaily.com.tw/realtimenews/article/new/20170321/1080716/\\n\\n---------------------------\\n新北三重日常\\n\\n--'}\n",
      "[DEBUG] crawl_page at https://www.ptt.cc/bbs/Gossiping/M.1490058241.A.912.html\n",
      "{'author': 'caeasonfb (eason)', 'board': 'Gossiping', 'title': '[問卦] 宗瑞哥何時才會被平反?', 'dt': 'Tue Mar 21 09:03:58 2017', 'ip': '27.105.224.105', 'content': '看到一些烏煙瘴氣的案子都準備被平反.\\n\\n還有來自高層的加油打氣.\\n\\n實在很替宗瑞哥抱不平,\\n\\n聽說影片裡那些小模明明都笑得合不攏嘴.\\n\\n為何宗瑞哥還被判的這麼重, 也沒重量人士敢幫平反.\\n\\n有卦嗎?\\n\\n\\n--'}\n",
      "[DEBUG] crawl_page at https://www.ptt.cc/bbs/Gossiping/M.1490058279.A.05E.html\n",
      "{'author': 'Safin (沙皇)', 'board': 'Gossiping', 'title': '[新聞] 特支費養「馬小九」馬英九獲不起訴', 'dt': 'Tue Mar 21 09:04:35 2017', 'ip': '220.138.219.171', 'content': 'apple\\n\\n特支費養「馬小九」馬英九獲不起訴\\n\\n【法庭中心、張文馨╱台北報導】前總統馬英九日前才因洩密案被起訴，台北地檢署昨再\\n針對他被控在台北市長任內，用首長特支費養流浪狗「馬小九」，以及涉用假發票報帳請\\n領特別費案做出調查結論，檢察官根據特別費六年前已立法通過相關報支、核銷行為的除\\n罪化等理由，因此處分不起訴馬英九。\\n\\n檢認定已除罪化\\n\\n馬是遭告發一九九九年擔任台北市長期間，領養的馬小九一度因呼吸道感染住院醫療，卻\\n用首長特支費以「禮品」名目核銷相關九千九百元的開銷；另還涉在一九九八年十二月至\\n二○○三年十二月間，先每月請領半數的市長特別費、十七萬元，轉匯到妻子周美青的帳\\n戶內。\\n\\n北檢調查認為，立法院在二○一一年五月間，通過特別費除罪化法案，二○○六年底以前\\n的首長特別費相關案件，如涉刑事責任者，不罰，因此馬小九案不再追訴。另外，馬先前\\n已因特別費案遭起訴過，且經最高法院判決無罪確定，檢察官認為這次遭控涉嫌每月轉匯\\n半數特別費給妻子的部分，屬同一案件等理由，因此也做出不起訴處分。馬英九辦公室昨\\n對此沒有評論。\\n\\nhttp://m.appledaily.com.tw/appledaily/article/headline/20170321/37590330/\\n\\n\\n\\n--'}\n",
      "[DEBUG] crawl_page at https://www.ptt.cc/bbs/Gossiping/M.1490058569.A.8B7.html\n",
      "{'author': 'kohanchen (kohanchen)', 'board': 'Gossiping', 'title': '[問卦] 非習慣的兩手十指交錯順序為何會不舒適?', 'dt': 'Tue Mar 21 09:09:26 2017', 'ip': '101.12.36.131', 'content': '我們兩手十指交錯 也就是兩手\\n\\n握住彼此時 有一個習慣的順序\\n\\n像是右手手指總是在左手同樣\\n\\n對應手指的上面\\n\\n如果反過來 用非習慣順序握久了\\n\\n你會開始產生不安全 不舒適的感覺\\n\\n這是為什麼?\\n\\n--'}\n",
      "[DEBUG] crawl_page at https://www.ptt.cc/bbs/Gossiping/M.1490058578.A.8DF.html\n",
      "{'author': 'ptt888 (op)', 'board': 'Gossiping', 'title': '[問卦] iphone使用者都喜歡裸機或用透明皮套?', 'dt': 'Tue Mar 21 09:09:35 2017', 'ip': '180.204.166.144', 'content': '台灣大部分的iphone使用者，幾乎沒有人裝保護殼或有色皮套\\n\\n似乎都喜歡裸機或是用透明皮套，好像很怕把蘋果的商標遮住?\\n\\n很怕別人不知道他用iphone\\n\\n買iphone,不是重視功能嗎？難道是買來炫耀的?\\n\\n有iphone使用者都喜歡裸機或用透明皮套的八卦嗎?\\n\\n--'}\n",
      "[DEBUG] crawl_page at https://www.ptt.cc/bbs/Gossiping/M.1490058588.A.D1A.html\n",
      "{'author': 'justmydesign (小雪)', 'board': 'Gossiping', 'title': '[新聞] 免費讀軍校+零用金 免當兵上班月領5萬4起', 'dt': 'Tue Mar 21 09:09:44 2017', 'ip': '123.51.162.152', 'content': '蘋果日報：https://goo.gl/KdVgzU\\n免費讀軍校+零用金\\u3000免當兵上班月領5萬4起\\nhttp://imgur.com/VBArK3Q\\n\\n2017年03月21日08:51\\n\\n公費讀軍校，每月有零用金，畢業後不必下部隊當軍人，直接到公家科技單位上班，月薪\\n5萬4000元起跳，心動了嗎？\\n\\n《聯合新聞網》報導，國防部為招攬人才，今年起提供全國成績優異的高三學生，比照公\\n費生待遇，以「中科院代訓生」名義，就讀國防大學理工學院，畢業後直接到中科院上班\\n。2017年甄選專長是資訊工程、化學及材料工程、電機電子工程、動力及系統工程、機械\\n及航太工程系各2名，共計10名。\\n\\n中科院也針對全國大專理工相關科系大四以上在校生，提供獎助金，每年約50名。畢業後\\n到中科院上班，通過試用後，學士5萬4000元，碩士5萬7600元，博士6萬9000元左右。\\n\\n--\\n\\n--'}\n",
      "[DEBUG] crawl_page at https://www.ptt.cc/bbs/Gossiping/M.1490058627.A.ECF.html\n",
      "{'author': 'forefinger (鏡子)', 'board': 'Gossiping', 'title': 'Re: [問卦] 補習班老師到底賺多少', 'dt': 'Tue Mar 21 09:10:24 2017', 'ip': '163.22.79.66', 'content': ': 乳題\\n: 本宅高三時在某補習班補數甲\\n: 一班200up的那種\\n: 坐前面還好\\n: 坐後面只能看電視上的老師尻尻\\n: 換算一堂700好了\\n: 總共24堂共16800\\n: x200就好還是有3360000\\n: 還不用像台gg一樣報一堆稅\\n: 開跑車爽幹高中妹子\\n: 只不過都是平日晚上或假日工作比較不方便\\n: 有沒有補習班老師賺多少的八卦啊\\n\\n\\n   我有教過一年多(高中物理)\\n\\n   一開始其實是跟課助理\\n   就是負責喬攝影機 準備教具和下課幫解題\\n   就工讀生 當時是週薪 4000元\\n\\n   後來主任要我幫忙帶過幾堂\\n   就是他負責正課 我負責類似考題班之類的\\n   一堂課2000\\n\\n   我猜那是看我帶班能力啦\\n   所以後來開一個小班讓我上(國三畢業的高一先修班)\\n   就直接領底薪37000\\n\\n   真正開始賺的時候\\n   是真的上大班教學(其實也不大啦 才300人)\\n   跟當時的跟課教師對開\\n   就是用同樣的講義\\n   但是不同老師教 就是沒搶到跟課老師的就只能選我\\n\\n   抽10%\\n   我記得跟課老師好像抽到50%的樣子\\n   第一次領薪水嚇到\\n   戶頭一次多了十幾萬\\n   那時不知道錢怎算的\\n   總之覺得很多\\n\\n   但後來要開始配合南北調度\\n   我就沒繼續待了\\n   那時抽到15%\\n   一個月20出頭萬\\n\\n   也是有這段經歷\\n   我才真正的了解\\n   原來以前補習班名師說自己開跑車買豪宅都是真的\\n\\n   想想那種700大班教學 抽50% 又抽錄影帶班的\\n   一個月不知道賺多少\\n\\n--'}\n",
      "[DEBUG] crawl_page at https://www.ptt.cc/bbs/Gossiping/M.1490058667.A.472.html\n",
      "{'author': 'just10110 (阿肥)', 'board': 'Gossiping', 'title': '[問卦] 有沒有法律系很有競爭力的八卦', 'dt': 'Tue Mar 21 09:11:04 2017', 'ip': '223.140.26.253', 'content': '最近盤查大戰戰的不要不要的\\n\\n\\n法律系更是火力全開一直找法條要教訓鄉民教訓警察\\n\\n\\n有沒有法律系自身很有優越感，而且是莫名的那種\\n\\n\\n只想爭辯爭到贏好有競爭力\\n\\n\\n請問有掛嗎？\\n\\n\\n理性！勿戰！\\n\\n--'}\n",
      "[DEBUG] crawl_page at https://www.ptt.cc/bbs/Gossiping/M.1490058712.A.BF7.html\n",
      "{'author': 'jkljkl112233 (小雨)', 'board': 'Gossiping', 'title': 'Re: [問卦] 不知道在唱三小卻很紅的歌？', 'dt': 'Tue Mar 21 09:11:49 2017', 'ip': '114.47.151.132', 'content': ': 餓死抬頭\\n: 像是前幾年陳芳語那個愛你\\n: 完全不懂\\n: 她到底在唱三小\\n: 但卻還是\\n: 很莫名的紅了起來\\n: 想要請問\\n: 還有哪些歌像這樣不知道在唱三小卻很紅的\\n\\n\\n\\n癡情玫瑰花\\n\\n我覺得很難聽 居然點閱率高\\n\\n我感覺很丟臉 這爛歌居然那麼高\\n\\n說唱功沒唱功 就只是靠旋律撐住而已\\n\\n\\n\\n再來就是oh my god\\n\\n居然扮起穆斯林拿AK47\\n\\n請問黃明志跟911各位難道不知道這是禁忌?\\n\\n結果最後911拍影片道歉 春風翹腳感覺很不滿\\n\\n說他腳痛 重點是 我腳痛我也沒翹腳阿\\n\\n\\n\\n還有911所有歌曲\\n\\n沒唱功 甚至也不會作詞作曲\\n\\n\\n\\n還有田亞霍的歌曲 明明沒唱功 沒實力\\n\\n居然還會想出?\\n\\n\\n\\n\\n反觀人家歐美音樂\\n\\n有糞 但是就算在糞 跟台灣比 算是神曲\\n\\n--'}\n",
      "[DEBUG] crawl_page at https://www.ptt.cc/bbs/Gossiping/M.1490058761.A.CD6.html\n",
      "{'author': 'RoroyaZoro (最賤．問天譴)', 'board': 'Gossiping', 'title': 'Re: [問卦] 警察不能盤查是不是酒駕就無敵了?', 'dt': 'Tue Mar 21 09:12:39 2017', 'ip': '1.171.67.175', 'content': '雖然知道大家都痛恨當官的啦\\n但我還是要說\\n這次李永得真的沒說錯\\n\\n你要盤查人  最起碼要有理由啊\\n總不能因為人長得醜  就要盤查人吧\\n事實上也有些警察根本柿子挑軟的吃啊\\n專找看起來無害的玩一下問一下\\n一些頭髮五顏六色車改的跟什麼一樣的  都當沒看到\\n晚上便利商店聚集一堆屁孩  也沒看他們簽巡邏箱的時候問過\\n倒是很喜歡問一些看起來宅宅的  科科\\n\\n如果態度好就算了\\n但不少警察盤問人的態度都是直接預設你是罪犯\\n不論你配不配合  一開始就口氣就很差勁\\n柿子挑軟的吃大家可以諒解\\n但明明就是來問爽演演戲的  態度還這個樣子 任誰被問都會火大吧\\n你要別人配合  為何編號不敢讓人看?\\n套一句鄉民邏輯 若真是合理察查  還怕編號讓人知道?\\n有些人會說  那以後通緝犯也來這招不就可以唬過\\n拜託  用點腦好嗎  通常一般人看到亮編號配合度就會上升一點了\\n通緝犯不管你亮不亮他都會跑好嗎\\n\\n很多人都覺得警察可以任意盤查是保障大家的安全\\n拜託  如果這種權力沒有限縮  那我也來考警察\\n然後在路上專盤正妹  回去肉搜他個資找他ig或fb\\n心情不好就找個看起來無害的阿宅問一問  耍一下官威爽一下\\n以為這種權力會全都被用在保護社會治安的人\\n請用點腦想一下  警察也是人啊  全都好人嗎?\\n真的全都好人就不會有這麼多養生館了\\n真的全都好人  就不會把手無寸鐵的抗議民眾往死裡打了\\n真的全都好人  就不會有照片卻三年都還找不到打人兇手了\\n\\n\\n一堆阿呆覺得限制這樣的權力會助長犯罪\\n也沒人要全禁止   只是執行方式可以改進和討論\\n好比執勤前先亮編號  證件之類的  很多方式可以改善\\n而不是用一句\"維持社會治安\"就可以無限自由心證\\n\\n\\n\\n\\n\\n: 現在警察都不能隨便盤查了\\n: 那是不是可以大方酒駕了?\\n: 以前那些酒駕的是不是太笨了\\n: 遇到攔檢幹嘛停下來阿?\\n: 警察又不能隨便盤查\\n: 還乖乖的停車是要幹嘛?\\n: 以後碰到臨檢的就直接投訴警察吧\\n: 以免台灣變成警察國家\\n\\n--\\n有問題嗎?  一般人看到你敢亮編號  通常證件就會拿出來了吧\\n通緝犯再怎麼裝  裝到這一步他還是得跑啊  很難理解?'}\n",
      "[DEBUG] crawl_page at https://www.ptt.cc/bbs/Gossiping/M.1490058784.A.655.html\n",
      "{'author': 'Beanoodle (津崎似超人平匡先生)', 'board': 'Gossiping', 'title': '[問卦] 現在的社會生女生是不是比較好', 'dt': 'Tue Mar 21 09:13:00 2017', 'ip': '111.242.158.159', 'content': '大家安安\\n\\n乳題阿\\n\\n本肥一直以來都比較想生女森\\n\\n畢竟有本肥自身失敗的例子\\n\\n深深覺得當男生沒什麼優勢\\n\\n長大估計也是跟爸爸一樣當魯蛇而已\\n\\n除非他考上醬料拉\\n\\n大家是不是也根本肥一樣\\n\\n覺得生女生比較好呢?\\n\\n--'}\n",
      "[DEBUG] crawl_page at https://www.ptt.cc/bbs/Gossiping/M.1490058955.A.571.html\n",
      "{'author': 'darkage (阿迦囉)', 'board': 'Gossiping', 'title': '[新聞] 挪威登全球最幸福國家 台灣進步排第33', 'dt': 'Tue Mar 21 09:15:49 2017', 'ip': '115.82.177.185', 'content': '1.媒體來源:\\n\\n新頭殼\\n\\n\\n2.完整新聞標題:\\n\\n挪威登全球最幸福國家 台灣進步排第33\\n\\n\\n3.完整新聞內文:\\n\\n新頭殼newtalk | 洪翠蓮 綜合報導\\n\\n發布 2017.03.21 | 08:46\\n\\n聯合國公布《2017世界幸福報告》（World Happiness Report 2017），全世界最幸福的\\n國家是去年的第4名挪威，它擠下鄰國丹麥，連升3名；而台灣進步2名，變成全球第33名\\n快樂的國家。\\n\\n聯合國（UN）自2012年發起全球行動「永續發展方案網絡」（SDSN），根據各國國內生產\\n值（GDP）、國民健康、社會進步及公共政策，調查「幸福程度」的評分標準。這次針對\\n全球156個國家與地區、1000多人進行提問，以0~10分來打分數。結果，第1名挪威以平均\\n7.54分拿下冠軍，而中非共和國則以2.69分墊底。\\n\\n除了挪威外，其他前5名國家包括丹麥、冰島、瑞士與芬蘭，都是歐洲國家；加拿大是擠\\n進前10名美洲國家，美國排在第14名；而紐西蘭與澳大利亞分居第8、9名，歐洲的瑞典則\\n是第10名。\\n\\n東亞國家中，新加坡是最快樂的國家，卻比去年退步，排名第26名；台灣則進步到第33名\\n，泰國排在台灣前面，而日本則遠遠落後，排在第51名。香港第71名，中國則是第79名。\\n\\n\\n4.完整新聞連結 (或短網址):\\n\\nhttps://goo.gl/1Vu9RV\\n\\n\\n5.備註:\\n被刪或自刪也算額度內超貼者水桶\\n\\n\\\\Thailand/\\\\Thailand/\\\\Thailand/\\n\\n--\\n故善戰者，求之于勢，不責于人，故能擇人而任勢。\\n任勢者，其戰人也，如轉木石。木石之性，安則靜，\\n危則動，方則止，圓則行。故善戰人之勢，\\n如轉圓石于千仞之山者，勢也。\\n <孫子兵法> 兵勢篇第五\\n\\n--'}\n",
      "[DEBUG] crawl_page at https://www.ptt.cc/bbs/Gossiping/M.1490059020.A.3AB.html\n",
      "{'author': 'miboo0226 (成大吃貨)', 'board': 'Gossiping', 'title': '[問卦]大學 那些跑活動但沒交到女友的', 'dt': 'Tue Mar 21 09:16:57 2017', 'ip': '140.116.1.136', 'content': '到底在想什麼\\n\\n跑一陣子沒交到\\n\\n就要知道 不是有沒有跑活動的關係了\\n\\n還在那邊催眠自己\\n\\n肥宅不會因為跑活動就交到\\n\\n醒醒吧 你只是工具人\\n\\n像我在家睡飽飽  才是對的\\n\\n\\n\\n-----\\nSent from JPTT on my Asus ASUS_Z012DA.\\n\\n--'}\n",
      "[DEBUG] crawl_page at https://www.ptt.cc/bbs/Gossiping/M.1490059055.A.9EC.html\n",
      "{'author': 'raysun011081 (小海豹)', 'board': 'Gossiping', 'title': 'Re: [問卦] 我這樣會不會犯法啊的八卦?', 'dt': 'Tue Mar 21 09:17:32 2017', 'ip': '140.116.1.136', 'content': '手機排版請見諒\\n\\n目前只是一個法律系大三生 前陣子剛好複習了下刑法分則有關財產犯罪的部分\\n盡量來解惑一下\\n題目大概就是\\n某甲某天拿著乙公司給甲的ABC三張優惠卷密碼，輸入電腦，拿到了三張優惠卷後，甲發現了其他優惠卷的密碼，一連串輸入後又拿到了三張優惠卷，問：某甲成立何罪？\\n\\n基本上在這個案例當中，我們主要可以討論的法條有竊盜、侵占、詐欺三種。\\n竊盜跟侵占的差別在於竊盜罪是破壞他人持有的犯罪，而侵占罪是破壞他人所有的犯罪。因此在這個案例中，優惠卷是在乙公司的持有之下，甲在未得乙公司之同意下將其取走據為己有應該是去討論是否成立竊盜罪而非討論侵占。\\n不過竊盜罪保護的對象是「物」而非「利益」，刑法上沒有竊盜得利這種東西，因此甲雖未經同意取得網路折價卷這種虛擬物品，但因為不是「物」，從而不會成立竊盜罪。\\n至於詐欺罪的部分，可以去討論是否成立刑法339和刑法339-3。\\n有關刑法339之部分，有認為，普通詐欺罪是要「對人詐欺」而非「對機器」詐欺，因此若採此一見解，因為甲是對電腦施用詐術，所以不該當犯罪客觀構成要件，從而不成立本罪；惟亦有認為，電腦機器是人之延伸，對電腦詐欺可視為對人詐欺，若採此見解，甲最後兩個拿取優惠卷的行為就很可能成立普通詐欺罪了，第一個拿取優惠卷不成立犯罪的原因是因為甲是偶然不小心的發現到密碼，當下並非故意施用詐術使人限於錯誤，充其量僅為過失，因此不成立詐欺罪。\\n至於刑法339-3的部分，有以「不正方法…」此一客觀構成要件，所謂的不正方法是如投假幣進自動販賣機這樣才算，如果是投10元幣結果機器誤認為你是投50元幣，這種方式稱不上「不正方法」。在這個案例當中，領取優惠卷之規則就是將優惠卷之密碼輸入之，某甲也是將優惠卷之密碼輸入後，取得優惠卷，因此並非利用「不正方法」領取之(是否有權限領取是另一回事，但是絕對不是利用不正方法)。\\n\\n有關刑法本文的部分大guy4這樣，不過是否成立其他特別法我就不知道惹ㄎㄎ\\n\\n--'}\n"
     ]
    }
   ],
   "source": [
    "# 解決方法: 把不需要的element給刪掉(如作者，標題...)\\\n",
    "# 開始組合八掛板列表頁URL\n",
    "import logging # https://docs.python.org/2/library/logging.html\n",
    "logging.basicConfig(filename='crawler.log',level=logging.DEBUG)\n",
    "logger = logging.getLogger(\"crawler\")\n",
    "logger.debug('This message should go to the log file')\n",
    "\n",
    "\n",
    "PAGE_TO_CRAWL = 1\n",
    "URL_TEMPLATE = \"/bbs/Gossiping/index{}.html\"\n",
    "for page in range(page_int, page_int - PAGE_TO_CRAWL, -1):\n",
    "    print(\"[DEBUG] Crawling page %s\"%(page))\n",
    "    URL = HOST + URL_TEMPLATE.format(page)\n",
    "    print(\"[DEBUG] Current page is %s\"%(URL))\n",
    "    for article in crawl_list(URL):\n",
    "        try:\n",
    "            article_dict = crawl_page(article)\n",
    "        except Exception:\n",
    "            logger.error(\"crawl_page failed, url is %s\"%(article))\n",
    "        \n",
    "        print(article_dict)"
   ]
  },
  {
   "cell_type": "code",
   "execution_count": null,
   "metadata": {
    "collapsed": true
   },
   "outputs": [],
   "source": []
  }
 ],
 "metadata": {
  "kernelspec": {
   "display_name": "Python 3",
   "language": "python",
   "name": "python3"
  },
  "language_info": {
   "codemirror_mode": {
    "name": "ipython",
    "version": 3
   },
   "file_extension": ".py",
   "mimetype": "text/x-python",
   "name": "python",
   "nbconvert_exporter": "python",
   "pygments_lexer": "ipython3",
   "version": "3.6.0"
  }
 },
 "nbformat": 4,
 "nbformat_minor": 2
}
