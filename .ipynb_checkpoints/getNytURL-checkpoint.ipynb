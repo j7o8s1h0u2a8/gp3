{
 "cells": [
  {
   "cell_type": "code",
   "execution_count": 1,
   "metadata": {
    "collapsed": false,
    "scrolled": true
   },
   "outputs": [
    {
     "name": "stdout",
     "output_type": "stream",
     "text": [
      "Requirement already satisfied: requests in d:\\anaconda3_4.3.1\\lib\\site-packages\n",
      "Requirement already satisfied: beautifulsoup4 in d:\\anaconda3_4.3.1\\lib\\site-packages\n",
      "Requirement already satisfied: lxml in d:\\anaconda3_4.3.1\\lib\\site-packages\n"
     ]
    }
   ],
   "source": [
    "!pip install requests\n",
    "!pip install beautifulsoup4\n",
    "!pip install lxml"
   ]
  },
  {
   "cell_type": "code",
   "execution_count": 2,
   "metadata": {
    "collapsed": false
   },
   "outputs": [],
   "source": [
    "from bs4 import BeautifulSoup\n",
    "import lxml\n",
    "import requests as r\n",
    "import json\n",
    "from datetime import date\n",
    "from datetime import timedelta\n",
    "import json"
   ]
  },
  {
   "cell_type": "code",
   "execution_count": 3,
   "metadata": {
    "collapsed": false
   },
   "outputs": [],
   "source": [
    "#Get urls list of x days ... range(-x,0)\n",
    "def getList(nDays):\n",
    "    url_dict = {}\n",
    "    count = 1\n",
    "    \n",
    "    for delta in range(-nDays,0):\n",
    "        \n",
    "        day = date.today() + timedelta(delta)\n",
    "        daily_url = 'http://www.nytimes.com/indexes/' + day.strftime('%Y/%m/%d') + '/todayspaper/index.html'\n",
    "        \n",
    "        res = r.get(daily_url)\n",
    "        res.encoding='unicode'\n",
    "        soup = BeautifulSoup(res.text,'lxml')\n",
    "        articles = soup.select('#SpanABMiddleRegion h6 a')\n",
    "        \n",
    "        for num in range(len(articles)):\n",
    "            title = articles[num].text.strip()\n",
    "            url = articles[num]['href']\n",
    "            url_dict[count] = '{},{},NYT,{}'.format(title,day.strftime('%Y/%m/%d'),url)\n",
    "            count += 1\n",
    "    return url_dict"
   ]
  },
  {
   "cell_type": "code",
   "execution_count": null,
   "metadata": {
    "collapsed": false
   },
   "outputs": [],
   "source": [
    "#Get articles title and url\n",
    "def getCollections(url):\n",
    "    res = r.get(url)\n",
    "    res.encoding='unicode'\n",
    "    soup = BeautifulSoup(res.text,'lxml')\n",
    "    articles = soup.select('#SpanABMiddleRegion h6 a')\n",
    "    \n",
    "    articles_dict = {}\n",
    "\n",
    "    for num in range(len(articles)):\n",
    "        articleDetail = {}\n",
    "        articleDetail['title'] = articles[num].text.strip()\n",
    "        articleDetail['date'] = date\n",
    "        articleDetail['url'] = articles[num]['href']\n",
    "        articleDetail['content'] = getArticleContent(articles[num]['href'])\n",
    "        articles_dict[num+1] = articleDetail\n",
    "    \n",
    "    return articles_dict"
   ]
  },
  {
   "cell_type": "code",
   "execution_count": null,
   "metadata": {
    "collapsed": false
   },
   "outputs": [],
   "source": [
    "def jsonOut(dict):\n",
    "    with open('contents.json', 'w') as f:\n",
    "        json.dump(dict, f)"
   ]
  },
  {
   "cell_type": "code",
   "execution_count": null,
   "metadata": {
    "collapsed": false,
    "scrolled": true
   },
   "outputs": [],
   "source": [
    "#Get single article content\n",
    "def getContent(url):\n",
    "    res = r.get(url)\n",
    "    res.encoding='unicode'\n",
    "    soup = BeautifulSoup(res.text,'lxml')\n",
    "    contents = soup.select('.story-body-supplemental .story-body-text.story-content')\n",
    "    \n",
    "    contents_dict= {}\n",
    "    \n",
    "    for paraNum in range(len(contents)):\n",
    "        contents_dict[paraNum+1] = contents[paraNum].text.strip()\n",
    "    return contents_dict"
   ]
  }
 ],
 "metadata": {
  "kernelspec": {
   "display_name": "Python 3",
   "language": "python",
   "name": "python3"
  },
  "language_info": {
   "codemirror_mode": {
    "name": "ipython",
    "version": 3
   },
   "file_extension": ".py",
   "mimetype": "text/x-python",
   "name": "python",
   "nbconvert_exporter": "python",
   "pygments_lexer": "ipython3",
   "version": "3.6.0"
  }
 },
 "nbformat": 4,
 "nbformat_minor": 2
}
