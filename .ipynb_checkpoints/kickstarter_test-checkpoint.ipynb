{
 "cells": [
  {
   "cell_type": "markdown",
   "metadata": {},
   "source": [
    "# Kickstarter"
   ]
  },
  {
   "cell_type": "code",
   "execution_count": 1,
   "metadata": {
    "collapsed": false,
    "scrolled": true
   },
   "outputs": [
    {
     "name": "stdout",
     "output_type": "stream",
     "text": [
      "Requirement already satisfied: requests in d:\\anaconda3_4.3.1\\lib\\site-packages\n",
      "Requirement already satisfied: beautifulsoup4 in d:\\anaconda3_4.3.1\\lib\\site-packages\n",
      "Requirement already satisfied: lxml in d:\\anaconda3_4.3.1\\lib\\site-packages\n"
     ]
    }
   ],
   "source": [
    "!pip install requests\n",
    "!pip install beautifulsoup4\n",
    "!pip install lxml"
   ]
  },
  {
   "cell_type": "code",
   "execution_count": 2,
   "metadata": {
    "collapsed": false
   },
   "outputs": [],
   "source": [
    "from bs4 import BeautifulSoup\n",
    "import lxml\n",
    "import requests as r\n",
    "import json"
   ]
  },
  {
   "cell_type": "code",
   "execution_count": 21,
   "metadata": {
    "collapsed": false
   },
   "outputs": [],
   "source": [
    "URL = 'https://www.kickstarter.com/discover/advanced?ref=discovery_overlay'\n",
    "res = r.get(URL)"
   ]
  },
  {
   "cell_type": "code",
   "execution_count": 22,
   "metadata": {
    "collapsed": false
   },
   "outputs": [
    {
     "data": {
      "text/plain": [
       "200"
      ]
     },
     "execution_count": 22,
     "metadata": {},
     "output_type": "execute_result"
    }
   ],
   "source": [
    "res.status_code"
   ]
  },
  {
   "cell_type": "code",
   "execution_count": 31,
   "metadata": {
    "collapsed": false
   },
   "outputs": [
    {
     "data": {
      "text/plain": [
       "list"
      ]
     },
     "execution_count": 31,
     "metadata": {},
     "output_type": "execute_result"
    }
   ],
   "source": [
    "soup = BeautifulSoup(res.text,'lxml')\n",
    "itemlist = soup.select('#advanced_container > #projects > div > #projects_list > div > li > div > div > h6 > a')\n",
    "type(itemlist)"
   ]
  },
  {
   "cell_type": "code",
   "execution_count": 40,
   "metadata": {
    "collapsed": false
   },
   "outputs": [
    {
     "name": "stdout",
     "output_type": "stream",
     "text": [
      "Lorica Clothing - Armored Leggings\n",
      "Mindset: smart headphones that improve your concentration\n",
      "UrbanX | Convert Any Bike to an Electric Bike in 60 Seconds\n",
      "Make Influx Press Bigger and Better\n",
      "Snapmaker : The All-Metal 3D Printer\n",
      "Bingo Love\n",
      "Toronto Comics: Yonge at Heart\n",
      "The Knit Show with Vickie Howell\n",
      "Sugar Hill Creamery\n",
      "Hidden Time Watch\n",
      "Cytosis: A Cell Biology Board Game\n",
      "junior high part ii\n",
      "Oak Honey Whiskey Tumbler\n",
      "Narita Boy -The retro futuristic pixel game\n",
      "Goodnewspaper - A printed newspaper full of good news\n",
      "Creating The Perfect Lab Notebook\n",
      "ANGELUS | experiential chakra workbook\n",
      "New Farm Shop Food Hub, Butchery, Kitchen and Event Space\n",
      "878 Vikings - Invasions of England\n",
      "American Protest - A Broadside Portfolio\n"
     ]
    }
   ],
   "source": [
    "for item in itemlist:\n",
    "    print(item.text)"
   ]
  }
 ],
 "metadata": {
  "kernelspec": {
   "display_name": "Python 3",
   "language": "python",
   "name": "python3"
  },
  "language_info": {
   "codemirror_mode": {
    "name": "ipython",
    "version": 3
   },
   "file_extension": ".py",
   "mimetype": "text/x-python",
   "name": "python",
   "nbconvert_exporter": "python",
   "pygments_lexer": "ipython3",
   "version": "3.6.0"
  }
 },
 "nbformat": 4,
 "nbformat_minor": 2
}
