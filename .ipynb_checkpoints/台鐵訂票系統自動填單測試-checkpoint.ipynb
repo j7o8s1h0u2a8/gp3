{
 "cells": [
  {
   "cell_type": "code",
   "execution_count": 1,
   "metadata": {
    "collapsed": false
   },
   "outputs": [
    {
     "name": "stdout",
     "output_type": "stream",
     "text": [
      "Collecting splinter\n",
      "  Downloading splinter-0.7.5.tar.gz\n",
      "Collecting selenium>=2.53.6 (from splinter)\n",
      "  Downloading selenium-3.3.1-py2.py3-none-any.whl (930kB)\n",
      "Building wheels for collected packages: splinter\n",
      "  Running setup.py bdist_wheel for splinter: started\n",
      "  Running setup.py bdist_wheel for splinter: finished with status 'done'\n",
      "  Stored in directory: C:\\Users\\BIG DATA\\AppData\\Local\\pip\\Cache\\wheels\\00\\42\\c2\\24111557fd99b18cb53e301d060d2f04b17cdab3ac467f3314\n",
      "Successfully built splinter\n",
      "Installing collected packages: selenium, splinter\n",
      "Successfully installed selenium-3.3.1 splinter-0.7.5\n"
     ]
    }
   ],
   "source": [
    "#test for splinter & selenium\n",
    "!pip install splinter"
   ]
  },
  {
   "cell_type": "code",
   "execution_count": 6,
   "metadata": {
    "collapsed": false
   },
   "outputs": [],
   "source": [
    "from splinter import Browser"
   ]
  },
  {
   "cell_type": "code",
   "execution_count": 26,
   "metadata": {
    "collapsed": false
   },
   "outputs": [],
   "source": [
    "browser = Browser('chrome',executable_path='./chromedriver.exe')"
   ]
  },
  {
   "cell_type": "code",
   "execution_count": 27,
   "metadata": {
    "collapsed": true
   },
   "outputs": [],
   "source": [
    "browser.visit(\"http://railway.hinet.net/ctno1.htm\")"
   ]
  },
  {
   "cell_type": "code",
   "execution_count": 55,
   "metadata": {
    "collapsed": false
   },
   "outputs": [],
   "source": [
    "browser.find_by_id('person_id').fill(\"A125983172\")"
   ]
  },
  {
   "cell_type": "code",
   "execution_count": 56,
   "metadata": {
    "collapsed": false
   },
   "outputs": [],
   "source": [
    "browser.find_by_id('from_station').select('175')"
   ]
  },
  {
   "cell_type": "code",
   "execution_count": 57,
   "metadata": {
    "collapsed": true
   },
   "outputs": [],
   "source": [
    "browser.find_by_id('to_station').select('106')"
   ]
  },
  {
   "cell_type": "code",
   "execution_count": 58,
   "metadata": {
    "collapsed": true
   },
   "outputs": [],
   "source": [
    "browser.find_by_id('getin_date').select('2017/04/04-14')"
   ]
  },
  {
   "cell_type": "code",
   "execution_count": 59,
   "metadata": {
    "collapsed": true
   },
   "outputs": [],
   "source": [
    "browser.find_by_id('train_no').fill('136')"
   ]
  },
  {
   "cell_type": "code",
   "execution_count": 60,
   "metadata": {
    "collapsed": true
   },
   "outputs": [],
   "source": [
    "browser.find_by_tag('body').click()"
   ]
  },
  {
   "cell_type": "code",
   "execution_count": 61,
   "metadata": {
    "collapsed": true
   },
   "outputs": [],
   "source": [
    "browser.find_by_id('n_order_qty_str').select('1')"
   ]
  },
  {
   "cell_type": "code",
   "execution_count": 54,
   "metadata": {
    "collapsed": false
   },
   "outputs": [],
   "source": [
    "browser.find_by_tag('button').click()"
   ]
  }
 ],
 "metadata": {
  "kernelspec": {
   "display_name": "Python 3",
   "language": "python",
   "name": "python3"
  },
  "language_info": {
   "codemirror_mode": {
    "name": "ipython",
    "version": 3
   },
   "file_extension": ".py",
   "mimetype": "text/x-python",
   "name": "python",
   "nbconvert_exporter": "python",
   "pygments_lexer": "ipython3",
   "version": "3.6.0"
  }
 },
 "nbformat": 4,
 "nbformat_minor": 2
}
