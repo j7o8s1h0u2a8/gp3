{
 "cells": [
  {
   "cell_type": "code",
   "execution_count": 19,
   "metadata": {
    "collapsed": false
   },
   "outputs": [],
   "source": [
    "import csv\n",
    "import pymongo\n",
    "from textblob import Word\n",
    "from pprint import pprint\n",
    "from collections import Counter\n",
    "import operator"
   ]
  },
  {
   "cell_type": "markdown",
   "metadata": {},
   "source": [
    "<h2>讀取等級字典</h2>"
   ]
  },
  {
   "cell_type": "code",
   "execution_count": 2,
   "metadata": {
    "collapsed": true
   },
   "outputs": [],
   "source": [
    "with open('vocabulary_list_new.csv', mode='r') as infile:\n",
    "    reader = csv.reader(infile)\n",
    "    mydict = {rows[0]:rows[1] for rows in reader}"
   ]
  },
  {
   "cell_type": "code",
   "execution_count": 10,
   "metadata": {
    "collapsed": false,
    "scrolled": true
   },
   "outputs": [
    {
     "name": "stdout",
     "output_type": "stream",
     "text": [
      "Counter({'6': 1090, '5': 1084, '3': 1069, '4': 1067, '2': 1007, '1': 749})\n"
     ]
    }
   ],
   "source": [
    "counts = Counter(mydict.values())\n",
    "print(counts)"
   ]
  },
  {
   "cell_type": "code",
   "execution_count": 47,
   "metadata": {
    "collapsed": true
   },
   "outputs": [],
   "source": [
    "connection = pymongo.MongoClient('127.0.0.1:27017')\n",
    "db = connection['MyTest']\n",
    "DB_news = db['news']\n",
    "DB_word_dict = db['word_dict']\n",
    "DB_art_keywords = db['art_keywords']"
   ]
  },
  {
   "cell_type": "code",
   "execution_count": 52,
   "metadata": {
    "collapsed": true
   },
   "outputs": [],
   "source": [
    "# 只考慮關鍵字\n",
    "def define_level(article,mydict):\n",
    "    level_dict = {'1':0,'2':0,'3':0,'4':0,'5':0,'6':0}\n",
    "    for word in article['keywords'].keys():\n",
    "        if word in mydict:\n",
    "            level_dict[mydict[word]] += 1\n",
    "    sorted_dict = sorted(level_dict.items(), key=operator.itemgetter(1), reverse=True)\n",
    "    leveltag = sorted_dict[0][0]\n",
    "    return leveltag"
   ]
  },
  {
   "cell_type": "code",
   "execution_count": 53,
   "metadata": {
    "collapsed": false
   },
   "outputs": [
    {
     "name": "stdout",
     "output_type": "stream",
     "text": [
      "{'1': 723, '2': 331, '3': 143, '4': 75, '5': 25, '6': 25}\n"
     ]
    }
   ],
   "source": [
    "articles = DB_art_keywords.find({'level':{'$exists':False}})\n",
    "count=1\n",
    "for article in articles:\n",
    "    leveltag = define_level(article,mydict)\n",
    "    DB_news.find_one_and_update({'_id':article['_id']},{'$set':{'level':leveltag}})\n",
    "    print(count, ' is updated level tag.')\n",
    "    count += 1"
   ]
  },
  {
   "cell_type": "markdown",
   "metadata": {},
   "source": [
    "<h2>文章分級方法決定</h2>"
   ]
  },
  {
   "cell_type": "markdown",
   "metadata": {},
   "source": [
    "https://www.raz-kids.com/main/ViewPage/name/text-leveling-system/"
   ]
  },
  {
   "cell_type": "code",
   "execution_count": null,
   "metadata": {
    "collapsed": true
   },
   "outputs": [],
   "source": [
    "# 只考慮關鍵字\n",
    "def method5(article,mydict):\n",
    "    level_dict = {'1':0,'2':0,'3':0,'4':0,'5':0,'6':0}\n",
    "    for word in article['keywords'].keys():\n",
    "        if word in mydict:\n",
    "            level_dict[mydict[word]] += 1\n",
    "    sorted_dict = sorted(level_dict.items(), key=operator.itemgetter(1), reverse=True)\n",
    "    leveltag = sorted_dict[0][0]\n",
    "    return leveltag"
   ]
  },
  {
   "cell_type": "code",
   "execution_count": 50,
   "metadata": {
    "collapsed": false
   },
   "outputs": [
    {
     "name": "stdout",
     "output_type": "stream",
     "text": [
      "{'1': 723, '2': 331, '3': 143, '4': 75, '5': 25, '6': 25}\n"
     ]
    }
   ],
   "source": [
    "articles = DB_art_keywords.find()\n",
    "l_dict ={'1':0,'2':0,'3':0,'4':0,'5':0,'6':0}\n",
    "for article in articles:\n",
    "    l_dict[method5(article,mydict)] += 1\n",
    "print(l_dict)"
   ]
  },
  {
   "cell_type": "code",
   "execution_count": 21,
   "metadata": {
    "collapsed": true
   },
   "outputs": [],
   "source": [
    "# 加入 IDF 比重\n",
    "def method4(article, DB_word_dict):\n",
    "    level_dict = {'1':0,'2':0,'3':0,'4':0,'5':0,'6':0}\n",
    "    for word in article['wordset'].keys():\n",
    "        if word in mydict:\n",
    "            fword = DB_word_dict.find_one({'_id':word})\n",
    "            level_dict[mydict[word]] += fword['IDF']\n",
    "    sorted_dict = sorted(level_dict.items(), key=operator.itemgetter(1), reverse=True)\n",
    "    leveltag = sorted_dict[0][0]\n",
    "    return leveltag"
   ]
  },
  {
   "cell_type": "code",
   "execution_count": 24,
   "metadata": {
    "collapsed": false
   },
   "outputs": [
    {
     "name": "stdout",
     "output_type": "stream",
     "text": [
      "{'1': 86, '2': 12, '3': 0, '4': 2, '5': 0, '6': 0}\n"
     ]
    }
   ],
   "source": [
    "articles = DB_news.find()\n",
    "l_dict ={'1':0,'2':0,'3':0,'4':0,'5':0,'6':0}\n",
    "for article in articles[:100]:\n",
    "    l_dict[method4(article,DB_word_dict)] += 1\n",
    "print(l_dict)"
   ]
  },
  {
   "cell_type": "code",
   "execution_count": 25,
   "metadata": {
    "collapsed": true
   },
   "outputs": [],
   "source": [
    "# 加入TF(詞頻) & IDF 比重\n",
    "def method3(article, DB_word_dict):\n",
    "    level_dict = {'1':0,'2':0,'3':0,'4':0,'5':0,'6':0}\n",
    "    for word in article['wordset'].keys():\n",
    "        if word in mydict:\n",
    "            fword = DB_word_dict.find_one({'_id':word})\n",
    "            level_dict[mydict[word]] += article['wordset'][word]['TF']*fword['IDF']\n",
    "    sorted_dict = sorted(level_dict.items(), key=operator.itemgetter(1), reverse=True)\n",
    "    leveltag = sorted_dict[0][0]\n",
    "    return leveltag"
   ]
  },
  {
   "cell_type": "code",
   "execution_count": 26,
   "metadata": {
    "collapsed": false
   },
   "outputs": [
    {
     "name": "stdout",
     "output_type": "stream",
     "text": [
      "{'1': 87, '2': 9, '3': 3, '4': 1, '5': 0, '6': 0}\n"
     ]
    }
   ],
   "source": [
    "articles = DB_news.find()\n",
    "l_dict ={'1':0,'2':0,'3':0,'4':0,'5':0,'6':0}\n",
    "for article in articles[:100]:\n",
    "    l_dict[method3(article,DB_word_dict)] += 1\n",
    "print(l_dict)"
   ]
  },
  {
   "cell_type": "code",
   "execution_count": 27,
   "metadata": {
    "collapsed": false
   },
   "outputs": [],
   "source": [
    "# 加入TF(詞頻)比重\n",
    "def method2(article):\n",
    "    level_dict = {'1':0,'2':0,'3':0,'4':0,'5':0,'6':0}\n",
    "    for word in article['wordset'].keys():\n",
    "        if word in mydict:\n",
    "            level_dict[mydict[word]] += article['wordset'][word]['TF']\n",
    "    sorted_dict = sorted(level_dict.items(), key=operator.itemgetter(1), reverse=True)\n",
    "    leveltag = sorted_dict[0][0]\n",
    "    return leveltag"
   ]
  },
  {
   "cell_type": "code",
   "execution_count": 28,
   "metadata": {
    "collapsed": false
   },
   "outputs": [
    {
     "name": "stdout",
     "output_type": "stream",
     "text": [
      "{'1': 98, '2': 2, '3': 0, '4': 0, '5': 0, '6': 0}\n"
     ]
    }
   ],
   "source": [
    "articles = DB_news.find()\n",
    "l_dict ={'1':0,'2':0,'3':0,'4':0,'5':0,'6':0}\n",
    "for article in articles[:100]:\n",
    "    l_dict[method2(article)] += 1\n",
    "print(l_dict)"
   ]
  },
  {
   "cell_type": "code",
   "execution_count": 29,
   "metadata": {
    "collapsed": false
   },
   "outputs": [],
   "source": [
    "# 只考慮 wordset裡的占比\n",
    "def method1(article):\n",
    "    level_dict = {'1':0,'2':0,'3':0,'4':0,'5':0,'6':0}\n",
    "    for word in article['wordset'].keys():\n",
    "        if word in mydict:\n",
    "            level_dict[mydict[word]] += 1\n",
    "    sorted_dict = sorted(level_dict.items(), key=operator.itemgetter(1), reverse=True)\n",
    "    leveltag = sorted_dict[0][0]\n",
    "#     match_percentage = round((len(level_list)/len(article['wordset'])),3)*100\n",
    "    return leveltag"
   ]
  },
  {
   "cell_type": "code",
   "execution_count": 30,
   "metadata": {
    "collapsed": false,
    "scrolled": true
   },
   "outputs": [
    {
     "name": "stdout",
     "output_type": "stream",
     "text": [
      "{'1': 98, '2': 2, '3': 0, '4': 0, '5': 0, '6': 0}\n"
     ]
    }
   ],
   "source": [
    "articles = DB_news.find()\n",
    "l_dict ={'1':0,'2':0,'3':0,'4':0,'5':0,'6':0}\n",
    "for article in articles[:100]:\n",
    "    l_dict[method1(article)] += 1\n",
    "print(l_dict)"
   ]
  },
  {
   "cell_type": "markdown",
   "metadata": {},
   "source": [
    "<h2>建立等級字典</h2>"
   ]
  },
  {
   "cell_type": "code",
   "execution_count": null,
   "metadata": {
    "collapsed": false
   },
   "outputs": [],
   "source": [
    "# 讀取字典為 dictionary\n",
    "with open('vocabulary_list.csv', mode='r') as infile:\n",
    "    reader = csv.reader(infile)\n",
    "    mydict = {rows[0]:rows[1] for rows in reader}\n",
    "    \n",
    "# 定義 stop words\n",
    "with open('stop-word-list.txt', 'r', encoding='utf8') as mysw:\n",
    "    swlist = mysw.read().split(',')\n",
    "\n",
    "# 將字典前處理\n",
    "newdict = {}\n",
    "for key,value in mydict.items():\n",
    "    if key.lower() not in swlist:\n",
    "        finalWord = Word(key.lower()).lemmatize(\"v\")\n",
    "        newdict[finalWord]=value\n",
    "\n",
    "# 看各個等級的字數\n",
    "counts = Counter(newdict.values())\n",
    "\n",
    "# 寫出csv\n",
    "with open('vocabulary_list_new.csv', mode='w', newline='') as outfile:\n",
    "    writer = csv.writer(outfile)\n",
    "    for key, value in newdict.items():\n",
    "        writer.writerow((key, value))"
   ]
  }
 ],
 "metadata": {
  "kernelspec": {
   "display_name": "Python 3",
   "language": "python",
   "name": "python3"
  },
  "language_info": {
   "codemirror_mode": {
    "name": "ipython",
    "version": 3
   },
   "file_extension": ".py",
   "mimetype": "text/x-python",
   "name": "python",
   "nbconvert_exporter": "python",
   "pygments_lexer": "ipython3",
   "version": "3.6.0"
  }
 },
 "nbformat": 4,
 "nbformat_minor": 2
}
