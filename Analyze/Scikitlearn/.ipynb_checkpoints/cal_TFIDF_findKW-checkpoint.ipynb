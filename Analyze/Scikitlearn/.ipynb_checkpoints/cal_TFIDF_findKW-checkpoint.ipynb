{
 "cells": [
  {
   "cell_type": "code",
   "execution_count": null,
   "metadata": {
    "collapsed": true
   },
   "outputs": [],
   "source": [
    "import pymongo\n",
    "import math\n",
    "import operator\n",
    "\n",
    "connection = pymongo.MongoClient('127.0.0.1',27017)\n",
    "db = connection['news']\n",
    "DB_news = db['news']\n",
    "DB_word_dict = db['word_dict']"
   ]
  },
  {
   "cell_type": "code",
   "execution_count": null,
   "metadata": {
    "collapsed": true
   },
   "outputs": [],
   "source": [
    "# # [LocalHost Test建立 word_dict用]\n",
    "def update_DB_word_dict(wordset, DB_word_dict):\n",
    "    for word in wordset:\n",
    "        DB_word_dict.update_one({'_id': word}, {'$inc': {'count':1}}, upsert=True)"
   ]
  },
  {
   "cell_type": "code",
   "execution_count": null,
   "metadata": {
    "collapsed": true
   },
   "outputs": [],
   "source": [
    "# # [LocalHost Test建立 word_dict用]\n",
    "# articles = DB_news.find()\n",
    "# for article in articles:\n",
    "#     wordset = article['wordset']\n",
    "#     update_DB_word_dict(wordset, DB_word_dict)"
   ]
  },
  {
   "cell_type": "code",
   "execution_count": null,
   "metadata": {
    "collapsed": true
   },
   "outputs": [],
   "source": [
    "# 輸入總資料篇數 N 與 DB, 計算 &更新 word_dict中 IDF值\n",
    "def updateIDF(N, DB_word_dict):\n",
    "    word_dict = DB_word_dict.find()\n",
    "    for word in word_dict:\n",
    "        idf = math.log(N/word['count'])\n",
    "        DB_word_dict.update_one({'_id': word['_id']}, {'$set': {'IDF': idf}})\n",
    "    print('IDF in DB_word_dict updated.')"
   ]
  },
  {
   "cell_type": "code",
   "execution_count": null,
   "metadata": {
    "collapsed": false
   },
   "outputs": [],
   "source": [
    "N = DB_news.find().count()\n",
    "updateIDF(N, DB_word_dict)"
   ]
  },
  {
   "cell_type": "code",
   "execution_count": null,
   "metadata": {
    "collapsed": true
   },
   "outputs": [],
   "source": [
    "# Input一篇文章，與 DB_word_dict比對該文章 wordset裡的字詞\n",
    "# 計算該文章 wordset的 TFIDF，排序取前 10獲得 keywords dict\n",
    "def findkeywords(article, DB_word_dict):\n",
    "    tfidf_dict = {}\n",
    "    for word in article['wordset']:\n",
    "        ref = DB_word_dict.find_one({'_id':word})\n",
    "        try:\n",
    "            tfidf = article['wordset'][word]['TF']*ref['IDF']\n",
    "            tfidf_dict[word] = tfidf\n",
    "        except TypeError:\n",
    "            DB_news.find_one_and_update({'_id':article['_id']}, {'$unset':{word:1}})\n",
    "    kw_TFIDF = sorted(tfidf_dict.items(), key=operator.itemgetter(1), reverse=True)[0:10]\n",
    "    return dict(kw_TFIDF)"
   ]
  },
  {
   "cell_type": "code",
   "execution_count": null,
   "metadata": {
    "collapsed": true
   },
   "outputs": [],
   "source": [
    "# 新增 DB_news中該文章 keywords欄位\n",
    "def updateKWs(article, kw_TFIDF, DB_news):\n",
    "    DB_news.update_many({'_id':article['_id']}, {'$set':{'keywords':kw_TFIDF}}, upsert=True)\n",
    "    print('{} is updated keywords!'.format(article['_id']))"
   ]
  },
  {
   "cell_type": "code",
   "execution_count": null,
   "metadata": {
    "collapsed": false,
    "scrolled": true
   },
   "outputs": [],
   "source": [
    "articles = DB_news.find({'keywords':{'$exists':False}})\n",
    "for article in articles:\n",
    "#     print(type(article['wordset']['afternoon']['TF']))\n",
    "    kw_TFIDF = findkeywords(article, DB_word_dict)\n",
    "    updateKWs(article, kw_TFIDF, DB_news)"
   ]
  },
  {
   "cell_type": "markdown",
   "metadata": {},
   "source": [
    "<h2>取得每篇文章的keywords欄位</h2>"
   ]
  },
  {
   "cell_type": "code",
   "execution_count": null,
   "metadata": {
    "collapsed": false
   },
   "outputs": [],
   "source": [
    "articles = DB_news.find()\n",
    "kw_dict = {}\n",
    "for article in articles:\n",
    "    kw_dict[article['_id']] = list(article['keywords'])"
   ]
  },
  {
   "cell_type": "code",
   "execution_count": null,
   "metadata": {
    "collapsed": false
   },
   "outputs": [],
   "source": [
    "kw_dict"
   ]
  }
 ],
 "metadata": {
  "kernelspec": {
   "display_name": "Python 3",
   "language": "python",
   "name": "python3"
  },
  "language_info": {
   "codemirror_mode": {
    "name": "ipython",
    "version": 3
   },
   "file_extension": ".py",
   "mimetype": "text/x-python",
   "name": "python",
   "nbconvert_exporter": "python",
   "pygments_lexer": "ipython3",
   "version": "3.6.0"
  }
 },
 "nbformat": 4,
 "nbformat_minor": 2
}
