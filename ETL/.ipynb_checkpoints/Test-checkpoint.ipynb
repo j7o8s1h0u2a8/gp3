{
 "cells": [
  {
   "cell_type": "code",
   "execution_count": null,
   "metadata": {
    "collapsed": true
   },
   "outputs": [],
   "source": [
    "import pymysql\n",
    "from pymongo import MongoClient\n",
    "import pymongo\n",
    "\n",
    "import getNYT as gn"
   ]
  },
  {
   "cell_type": "code",
   "execution_count": null,
   "metadata": {
    "collapsed": true
   },
   "outputs": [],
   "source": [
    "# Get connection to MySQL\n",
    "try:\n",
    "    conn = pymysql.connect(host='127.0.0.1',\n",
    "                            user='root',\n",
    "                            password='m123456',\n",
    "                            db='gp3',\n",
    "                            charset='utf8',\n",
    "                            autocommit=True,\n",
    "                            cursorclass=pymysql.cursors.DictCursor)\n",
    "    c = conn.cursor()\n",
    "except:\n",
    "    print('Cannot connect to MySQL server!')"
   ]
  },
  {
   "cell_type": "code",
   "execution_count": null,
   "metadata": {
    "collapsed": true
   },
   "outputs": [],
   "source": [
    "# Get connection to MongoDB\n",
    "try:\n",
    "    client = MongoClient('127.0.0.1', 27017)\n",
    "    db = client['MyTest']\n",
    "    collection = db['news']\n",
    "except:\n",
    "    print('Cannot connect to Mongo server!')"
   ]
  },
  {
   "cell_type": "code",
   "execution_count": null,
   "metadata": {
    "collapsed": false
   },
   "outputs": [],
   "source": [
    "# Get unread url from cklist table\n",
    "records = c.execute(\n",
    "    \"\"\"SELECT url FROM cklist WHERE source = 'NYT' LIMIT 5\"\"\")\n",
    "print('Get %s records.' % (records))\n",
    "\n",
    "urls = []\n",
    "for record in c:\n",
    "    urls.append(record['url'])\n",
    "# print(urls)"
   ]
  },
  {
   "cell_type": "code",
   "execution_count": null,
   "metadata": {
    "collapsed": false,
    "scrolled": false
   },
   "outputs": [],
   "source": [
    "# Get article content and insert into MongoDB\n",
    "okcount = 0\n",
    "ngcount = 0\n",
    "\n",
    "for url in urls:\n",
    "    art_dict = gn.getArticle(url)\n",
    "\n",
    "    if (len(art_dict['content']) > 1):\n",
    "        collection.insert_one(art_dict)\n",
    "        print('[%s paras inserted!] url: %s'%(len(art_dict['content']), url))\n",
    "        okcount += 1\n",
    "    else:\n",
    "        print('\\n[NG!] %s' % (art_dict['url']))\n",
    "        print('The article has only %s paras.\\n' % (len(art_dict['content'])))\n",
    "        ngcount += 1\n",
    "\n",
    "    c.execute(\"\"\"UPDATE cklist SET tag = 'R' WHERE url = %s\"\"\", url)\n",
    "\n",
    "print('\\nCrawler finished! %s articles are inserted to MongoDB. %s are failed.\\n'%(okcount, ngcount))"
   ]
  },
  {
   "cell_type": "code",
   "execution_count": null,
   "metadata": {
    "collapsed": true
   },
   "outputs": [],
   "source": [
    "import re\n",
    "from textblob import TextBlob\n",
    "from textblob import Word\n",
    "from nltk.corpus import stopwords"
   ]
  },
  {
   "cell_type": "code",
   "execution_count": null,
   "metadata": {
    "collapsed": true
   },
   "outputs": [],
   "source": [
    "# Get connection to MongoDB@10.120.28.55\n",
    "try:\n",
    "    client = pymongo.MongoClient('127.0.0.1', 27017)\n",
    "    db = client['MyTest']\n",
    "    collection_read = db['news']\n",
    "    collection_write = db['word_dict']\n",
    "except:\n",
    "    print('Cannot connect to MongoDB server!')"
   ]
  },
  {
   "cell_type": "code",
   "execution_count": null,
   "metadata": {
    "collapsed": false
   },
   "outputs": [],
   "source": [
    "# Define stopwords\n",
    "with open('../TextProcessing/stop-word-list.txt', 'r', encoding='utf8') as mysw:\n",
    "    swlist = stopwords.words() + mysw.read().split(',')\n",
    "    mysw.close()"
   ]
  },
  {
   "cell_type": "code",
   "execution_count": null,
   "metadata": {
    "collapsed": true
   },
   "outputs": [],
   "source": [
    "def getWordList(art_id, contents):\n",
    "    wordList = []\n",
    "    for numPara in range(len(contents)):\n",
    "        para_id = str(numPara + 1)\n",
    "        para_wds = str(TextBlob(contents[para_id]).words.lower())\n",
    "\n",
    "        match = re.findall('[a-z]+', para_wds)\n",
    "\n",
    "        for word in match:\n",
    "            if word not in swlist and len(word) > 2:\n",
    "                finalWord = Word(word).singularize().lemmatize(\"v\")\n",
    "\n",
    "                word_info = {}\n",
    "                word_info['_id'] = finalWord\n",
    "                word_info['count'] = 1\n",
    "                word_info['src'] = '%s_%s' % (art_id, para_id)\n",
    "                wordList.append(word_info)\n",
    "    return wordList"
   ]
  },
  {
   "cell_type": "code",
   "execution_count": null,
   "metadata": {
    "collapsed": true
   },
   "outputs": [],
   "source": [
    "# 傳入wordlist並更新至Mongo資料庫\n",
    "def updateWord_dictCollection(wordList):\n",
    "    for obj in wordList:\n",
    "        if collection_write.find({'_id': obj['_id']}, {'Available': True}):\n",
    "            collection_write.find_one_and_update(\n",
    "                {'_id': obj['_id']},\n",
    "                {'$inc': {'count': 1}, '$addToSet': {'src': obj['src']}},\n",
    "                upsert=True)\n",
    "        else:\n",
    "            collection_write.insert_one(obj)"
   ]
  },
  {
   "cell_type": "code",
   "execution_count": null,
   "metadata": {
    "collapsed": false
   },
   "outputs": [],
   "source": [
    "articles = collection_read.find({'source': 'NYT', 'counted': 'false'})\n",
    "for article in articles:\n",
    "    try:\n",
    "        contents = article['content']\n",
    "        art_id = article['_id']\n",
    "        wordList = getWordList(art_id, contents)\n",
    "        updateWord_dictCollection(wordList)\n",
    "        collection_read.update_one({'_id': art_id}, {'$set': {'counted': 'true'}})\n",
    "        print('%s Update to MongoDB successfully!' % (art_id))\n",
    "    except Exception as e:\n",
    "        print('%s error, going to delete...' % (art_id))\n",
    "        collection_read.delete_one({'_id': art_id})\n",
    "print('Word count finished!')"
   ]
  }
 ],
 "metadata": {
  "kernelspec": {
   "display_name": "Python 3",
   "language": "python",
   "name": "python3"
  },
  "language_info": {
   "codemirror_mode": {
    "name": "ipython",
    "version": 3
   },
   "file_extension": ".py",
   "mimetype": "text/x-python",
   "name": "python",
   "nbconvert_exporter": "python",
   "pygments_lexer": "ipython3",
   "version": "3.6.0"
  }
 },
 "nbformat": 4,
 "nbformat_minor": 2
}
