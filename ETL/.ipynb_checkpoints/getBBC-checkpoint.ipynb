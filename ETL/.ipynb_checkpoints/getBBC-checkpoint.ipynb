{
 "cells": [
  {
   "cell_type": "code",
   "execution_count": 1,
   "metadata": {
    "collapsed": false,
    "scrolled": true
   },
   "outputs": [
    {
     "name": "stdout",
     "output_type": "stream",
     "text": [
      "Requirement already satisfied: requests in d:\\anaconda3_4.3.1\\lib\\site-packages\n",
      "Requirement already satisfied: beautifulsoup4 in d:\\anaconda3_4.3.1\\lib\\site-packages\n",
      "Requirement already satisfied: lxml in d:\\anaconda3_4.3.1\\lib\\site-packages\n"
     ]
    }
   ],
   "source": [
    "!pip install requests\n",
    "!pip install beautifulsoup4\n",
    "!pip install lxml"
   ]
  },
  {
   "cell_type": "code",
   "execution_count": 26,
   "metadata": {
    "collapsed": false
   },
   "outputs": [],
   "source": [
    "from bs4 import BeautifulSoup\n",
    "from datetime import datetime as d\n",
    "\n",
    "import lxml\n",
    "import requests as r\n",
    "import json"
   ]
  },
  {
   "cell_type": "code",
   "execution_count": 27,
   "metadata": {
    "collapsed": false
   },
   "outputs": [],
   "source": [
    "#get links of all categories\n",
    "def getCatLinks():\n",
    "    main_url = 'http://www.bbc.com/news'\n",
    "    res = r.get(main_url)\n",
    "    res.encoding='unicode'\n",
    "    soup = BeautifulSoup(res.text,'lxml')\n",
    "    tags = soup.select('.navigation-panel__content a')\n",
    "\n",
    "    catList = []\n",
    "\n",
    "    for tag in tags:\n",
    "        if (tag['href'].split(':')[0] != 'http'):\n",
    "            catList.append('http://www.bbc.com%s'%(tag['href']))\n",
    "    return catList"
   ]
  },
  {
   "cell_type": "code",
   "execution_count": 28,
   "metadata": {
    "collapsed": false,
    "scrolled": false
   },
   "outputs": [
    {
     "data": {
      "text/plain": [
       "['http://www.bbc.com/news/world',\n",
       " 'http://www.bbc.com/news/world/africa',\n",
       " 'http://www.bbc.com/news/world/australia',\n",
       " 'http://www.bbc.com/news/world/europe',\n",
       " 'http://www.bbc.com/news/world/latin_america',\n",
       " 'http://www.bbc.com/news/world/middle_east',\n",
       " 'http://www.bbc.com/news/world/us_and_canada',\n",
       " 'http://www.bbc.com/news/world/asia',\n",
       " 'http://www.bbc.com/news/world/asia/china',\n",
       " 'http://www.bbc.com/news/world/asia/india',\n",
       " 'http://www.bbc.com/news/uk',\n",
       " 'http://www.bbc.com/news/england',\n",
       " 'http://www.bbc.com/news/northern_ireland',\n",
       " 'http://www.bbc.com/news/scotland',\n",
       " 'http://www.bbc.com/news/wales',\n",
       " 'http://www.bbc.com/news/politics',\n",
       " 'http://www.bbc.com/news/business',\n",
       " 'http://www.bbc.com/news/business/markets',\n",
       " 'http://www.bbc.com/news/business-38507481',\n",
       " 'http://www.bbc.com/news/business/companies',\n",
       " 'http://www.bbc.com/news/business-22434141',\n",
       " 'http://www.bbc.com/news/business-11428889',\n",
       " 'http://www.bbc.com/news/business/business_of_sport',\n",
       " 'http://www.bbc.com/news/business-12686570',\n",
       " 'http://www.bbc.com/news/business/economy']"
      ]
     },
     "execution_count": 28,
     "metadata": {},
     "output_type": "execute_result"
    }
   ],
   "source": [
    "getCatLinks()"
   ]
  },
  {
   "cell_type": "code",
   "execution_count": 29,
   "metadata": {
    "collapsed": false,
    "scrolled": true
   },
   "outputs": [],
   "source": [
    "def getArticlesList(cat_url):\n",
    "    \n",
    "    articlesList = []\n",
    "\n",
    "    res = r.get(cat_url)\n",
    "    res.encoding='unicode'\n",
    "    soup = BeautifulSoup(res.text,'lxml')\n",
    "    titles = soup.select('.title-link')\n",
    "\n",
    "    for article in titles:\n",
    "        art_info = {}\n",
    "        art_info['title'] = article.text.strip()\n",
    "        art_info['url'] = 'http://www.bbc.com%s'%(article['href'])\n",
    "        art_info['source'] = 'BBC'\n",
    "\n",
    "        articlesList.append(art_info)\n",
    "\n",
    "    return articlesList"
   ]
  },
  {
   "cell_type": "code",
   "execution_count": 30,
   "metadata": {
    "collapsed": false
   },
   "outputs": [
    {
     "data": {
      "text/plain": [
       "[{'source': 'BBC',\n",
       "  'title': \"Turkey vote on Erdogan powers 'valid'\",\n",
       "  'url': 'http://www.bbc.com/news/world-europe-39618614'},\n",
       " {'source': 'BBC',\n",
       "  'title': \"US 'era of patience with N Korea over'\",\n",
       "  'url': 'http://www.bbc.com/news/world-asia-39618573'},\n",
       " {'source': 'BBC',\n",
       "  'title': 'Fate of the Furious breaks global record',\n",
       "  'url': 'http://www.bbc.com/news/entertainment-arts-39619840'},\n",
       " {'source': 'BBC',\n",
       "  'title': 'Ohio police hunt Facebook killer',\n",
       "  'url': 'http://www.bbc.com/news/world-us-canada-39617883'},\n",
       " {'source': 'BBC',\n",
       "  'title': 'Former S Korea president formally charged',\n",
       "  'url': 'http://www.bbc.com/news/world-asia-39620016'},\n",
       " {'source': 'BBC',\n",
       "  'title': 'Palestinians hold mass hunger strike',\n",
       "  'url': 'http://www.bbc.com/news/world-middle-east-39588394'},\n",
       " {'source': 'BBC',\n",
       "  'title': 'United alters booking policy after ordeal',\n",
       "  'url': 'http://www.bbc.com/news/world-us-canada-39617879'},\n",
       " {'source': 'BBC',\n",
       "  'title': 'China first quarter growth hits 6.9%',\n",
       "  'url': 'http://www.bbc.com/news/business-39618553'},\n",
       " {'source': 'BBC',\n",
       "  'title': \"Syria blast 'killed at least 68 children'\",\n",
       "  'url': 'http://www.bbc.com/news/world-middle-east-39613313'},\n",
       " {'source': 'BBC',\n",
       "  'title': 'Sri Lanka anger over deadly rubbish dump',\n",
       "  'url': 'http://www.bbc.com/news/world-asia-39615025'},\n",
       " {'source': 'BBC',\n",
       "  'title': 'Video 0:32\\n\\nProtesters rally after Erdogan victory',\n",
       "  'url': 'http://www.bbc.com/news/world-europe-39619686'},\n",
       " {'source': 'BBC',\n",
       "  'title': \"Video 1:10\\n\\nHarry: Grief caused 'total chaos'\",\n",
       "  'url': 'http://www.bbc.com/news/uk-39619684'},\n",
       " {'source': 'BBC',\n",
       "  'title': 'Video 0:37\\n\\nLooking a right Charlie Chaplin',\n",
       "  'url': 'http://www.bbc.com/news/entertainment-arts-39617573'},\n",
       " {'source': 'BBC',\n",
       "  'title': 'Video 1:01\\n\\nMoment giraffe gave birth on webcam',\n",
       "  'url': 'http://www.bbc.com/news/world-us-canada-39613592'},\n",
       " {'source': 'BBC',\n",
       "  'title': \"Video 0:52\\n\\nPope's prayers for Syrian refugees\",\n",
       "  'url': 'http://www.bbc.com/news/world-middle-east-39614227'},\n",
       " {'source': 'BBC',\n",
       "  'title': 'Video 1:00\\n\\nGiant whale shark caught on camera',\n",
       "  'url': 'http://www.bbc.com/newsround/39589169'},\n",
       " {'source': 'BBC',\n",
       "  'title': \"Video 1:02\\n\\nWorld's 'most colourful 5k run'\",\n",
       "  'url': 'http://www.bbc.com/news/world-europe-39614232'},\n",
       " {'source': 'BBC',\n",
       "  'title': 'Olympic swimmer races six months pregnant',\n",
       "  'url': 'http://www.bbc.com/news/world-us-canada-39607912'},\n",
       " {'source': 'BBC',\n",
       "  'title': 'Race detective',\n",
       "  'url': 'http://www.bbc.com/news/world-us-canada-39584495'},\n",
       " {'source': 'BBC',\n",
       "  'title': 'Facing the future',\n",
       "  'url': 'http://www.bbc.com/news/business-39296096'},\n",
       " {'source': 'BBC',\n",
       "  'title': 'Smartphone pitfalls',\n",
       "  'url': 'http://www.bbc.com/news/technology-39371100'},\n",
       " {'source': 'BBC',\n",
       "  'title': 'Street kids',\n",
       "  'url': 'http://www.bbc.com/news/magazine-39528473'},\n",
       " {'source': 'BBC',\n",
       "  'title': 'Ghetto talent',\n",
       "  'url': 'http://www.bbc.com/news/world-africa-39587899'},\n",
       " {'source': 'BBC',\n",
       "  'title': \"Belgium's Brits\",\n",
       "  'url': 'http://www.bbc.com/news/uk-politics-uk-leaves-the-eu-39590751'},\n",
       " {'source': 'BBC',\n",
       "  'title': 'Estonian troops give up their barracks',\n",
       "  'url': 'http://www.bbc.com/news/blogs-news-from-elsewhere-39584928'},\n",
       " {'source': 'BBC',\n",
       "  'title': 'North Korean athletes hand back gifts',\n",
       "  'url': 'http://www.bbc.com/news/blogs-news-from-elsewhere-39581667'},\n",
       " {'source': 'BBC',\n",
       "  'title': 'Free NZ house comes with a catch',\n",
       "  'url': 'http://www.bbc.com/news/blogs-news-from-elsewhere-39563824'},\n",
       " {'source': 'BBC',\n",
       "  'title': 'Video 0:32\\n\\nProtesters rally after Erdogan victory',\n",
       "  'url': 'http://www.bbc.com/news/world-europe-39619686'},\n",
       " {'source': 'BBC',\n",
       "  'title': \"Video 1:10\\n\\nHarry: Grief caused 'total chaos'\",\n",
       "  'url': 'http://www.bbc.com/news/uk-39619684'},\n",
       " {'source': 'BBC',\n",
       "  'title': 'Video 0:37\\n\\nLooking a right Charlie Chaplin',\n",
       "  'url': 'http://www.bbc.com/news/entertainment-arts-39617573'},\n",
       " {'source': 'BBC',\n",
       "  'title': 'Video 1:01\\n\\nMoment giraffe gave birth on webcam',\n",
       "  'url': 'http://www.bbc.com/news/world-us-canada-39613592'},\n",
       " {'source': 'BBC',\n",
       "  'title': \"Video 0:52\\n\\nPope's prayers for Syrian refugees\",\n",
       "  'url': 'http://www.bbc.com/news/world-middle-east-39614227'},\n",
       " {'source': 'BBC',\n",
       "  'title': 'Video 1:00\\n\\nGiant whale shark caught on camera',\n",
       "  'url': 'http://www.bbc.com/newsround/39589169'}]"
      ]
     },
     "execution_count": 30,
     "metadata": {},
     "output_type": "execute_result"
    }
   ],
   "source": [
    "getArticlesList(getCatLinks()[0])"
   ]
  },
  {
   "cell_type": "code",
   "execution_count": 31,
   "metadata": {
    "collapsed": false
   },
   "outputs": [],
   "source": [
    "def addContent(articlesList):\n",
    "\n",
    "    arts_dictList = []\n",
    "    \n",
    "    for num in range(len(articlesList)):\n",
    "        art_info = {}\n",
    "        \n",
    "        res = r.get(articlesList[num]['url'])\n",
    "        res.encoding='unicode'\n",
    "        soup = BeautifulSoup(res.text,'lxml')\n",
    "        contents = soup.select('.story-body__inner p')\n",
    "        date = soup.select('.story-body .date')[0]['data-seconds']\n",
    "        \n",
    "        para_dict = {}\n",
    "        for numPara in range(len(contents)):\n",
    "            para_dict[numPara+1] = contents[numPara].text\n",
    "\n",
    "        art_info['title'] = articlesList[num]['title']\n",
    "        art_info['url'] = articlesList[num]['url']\n",
    "        art_info['source'] = articlesList[num]['source']\n",
    "        art_info['date'] = d.fromtimestamp(int(date)).strftime('%Y/%m/%d')\n",
    "        art_info['content'] = para_dict\n",
    "        \n",
    "        arts_dictList.append(art_info)\n",
    "    \n",
    "    return arts_dictList"
   ]
  },
  {
   "cell_type": "code",
   "execution_count": 32,
   "metadata": {
    "collapsed": false
   },
   "outputs": [
    {
     "data": {
      "text/plain": [
       "[{'content': {1: 'The Yes vote in the referendum that grants sweeping new powers to the president of Turkey is valid, the head of the electoral body says.',\n",
       "   2: \"Sadi Guven was speaking after the main opposition Republican People's Party (CHP) cited irregularities, including the use of unstamped ballot papers.\",\n",
       "   3: \"President Recep Tayyip Erdogan's push for an executive presidency succeeded with 51.4% voting for it.\",\n",
       "   4: 'The win was met with both celebrations and protests across Turkey.',\n",
       "   5: 'Deputy Prime Minister Nurettin Canikli said legal changes to introduce the new system could be completed within a year.',\n",
       "   6: 'New presidential and parliamentary elections are due on 3 November 2019. ',\n",
       "   7: 'Turnout was said to be as high as 85%. ',\n",
       "   8: \"The CHP has demanded a recount of 60% of the votes. Its deputy head said the result should be annulled altogether. The pro-Kurdish Peoples' Democratic Party (HDP) also challenged the vote.\",\n",
       "   9: 'But Mr Guven said the unstamped ballot papers had been produced by the High Electoral Board and were valid.',\n",
       "   10: 'He said a similar procedure had been used in past elections. ',\n",
       "   11: \"Three of Turkey's biggest cities - Istanbul, Ankara and Izmir - all voted No to the constitutional changes.\",\n",
       "   12: 'Opposition supporters took to the streets of Istanbul to bang pots and pans - a traditional form of protest - in a series of noisy demonstrations.',\n",
       "   13: 'Meanwhile, flag-waving supporters of Mr Erdogan celebrated.',\n",
       "   14: 'Responding to Sunday\\'s result, the European Commission urged Mr Erdogan to respect the closeness of the vote and to \"seek the broadest possible national consensus\" when considering the far-reaching implications of the constitutional amendments.',\n",
       "   15: \"A divisive campaign ended in a contested result. President Erdogan declared victory by a narrow margin and called on every side to respect it. But the opposition has not conceded, claiming voting irregularities. It's clouded the legitimacy of the mandate the president now feels he's been given, to concentrate political power in his hands. \",\n",
       "   16: \"International observers will give their verdict today - that could embolden or weaken the opposition's case and determine how Turkey's western allies will respond. \",\n",
       "   17: \"Mr Erdogan hoped this would be the crowning moment of his career. But it's left Turkey profoundly polarised, at risk of becoming another chronically unstable part of the Middle East.\",\n",
       "   18: 'Mark answers your questions in a Facebook Live',\n",
       "   19: \"President Erdogan said after the result that Turkey could now hold a referendum on bringing back the death penalty - a move that would end Turkey's EU negotiations.\",\n",
       "   20: \"Mr Erdogan says the changes are needed to address Turkey's security challenges after last July's attempted coup, and to avoid the fragile coalition governments of the past.\",\n",
       "   21: 'The new system, he argues, will resemble those in France and the US and will bring calm in a time of turmoil marked by a Kurdish insurgency, Islamist militancy and conflict in neighbouring Syria, which has led to a huge refugee influx.',\n",
       "   22: \"Critics of the changes fear the move will make the president's position too powerful, arguing that it amounts to one-man rule, without the checks and balances of other presidential systems such as those in France and the US.\",\n",
       "   23: 'Many Turks already fear growing authoritarianism in their country, where tens of thousands of people have been arrested, and at least 100,000 sacked or suspended from their jobs, since the coup attempt. ',\n",
       "   24: 'Mr Erdogan assumed the presidency, meant to be a largely ceremonial position, in 2014 after more than a decade as prime minister.',\n",
       "   25: 'Under his rule, relations with the EU have deteriorated. Mr Erdogan sparred bitterly with European governments who banned rallies by his ministers in their countries during the referendum campaign. He called the bans \"Nazi acts\".',\n",
       "   26: 'The new system could enable him to remain in office until 2029.'},\n",
       "  'date': '2017/04/17',\n",
       "  'source': 'BBC',\n",
       "  'title': \"Turkey vote on Erdogan powers 'valid'\",\n",
       "  'url': 'http://www.bbc.com/news/world-europe-39618614'},\n",
       " {'content': {1: 'US Vice-President Mike Pence has said his country\\'s \"era of strategic patience\" with North Korea is over.',\n",
       "   2: 'Mr Pence first made the remarks at the demilitarised zone (DMZ), the area dividing the two Koreas, during a visit to South Korea to reaffirm ties.',\n",
       "   3: 'His visit comes amid escalated tensions on the peninsula, with heated rhetoric from both North Korea and the US.',\n",
       "   4: 'He arrived in Seoul on Sunday hours after North Korea carried out a failed missile launch.',\n",
       "   5: 'On Monday, the US and South Korea launched a joint air force military exercise to ensure readiness against North Korea, according to South Korean media.',\n",
       "   6: \"Mr Pence, whose father served in the Korean War, visited the truce village of Panmunjom, where the war's armistice was signed.\",\n",
       "   7: 'Speaking alongside  South Korea\\'s acting President Hwang Kyo-ahn later, he said North Korea had conducted nuclear and missile tests as the previous US administration had observed a policy of \"strategic patience\", but this was now over. ',\n",
       "   8: 'He reiterated US support for South Korea, telling his host: \"We are with you 100%\".',\n",
       "   9: 'Mr Hwang hailed the early deployment of the controversial US missile defence system (known as Thaad) designed to protect against threats from North Korea.',\n",
       "   10: 'The US vice-president said he was disappointed that China had taken retaliatory actions against South Korea in response to the move.',\n",
       "   11: 'Mr Pence\\'s latest comments echoed those made by Secretary of State Rex Tillerson, who warned that pre-emptive military action was \"on the table\" when he visited the DMZ last month.',\n",
       "   12: 'Mr Pence earlier went to Camp Bonifas, a United Nations military compound near the DMZ.',\n",
       "   13: 'Mr Pence is visiting South Korea, Japan, Indonesia and Australia on a 10-day Asia tour.',\n",
       "   14: 'On Sunday, Lt Gen HR McMaster, the US top security adviser, said his country was working on a \"range of options\" with China, the first confirmation the two countries were co-operating to find a solution to the North Korean issue. ',\n",
       "   15: 'US President Donald Trump also said on Sunday that Beijing was \"working with us on the North Korean problem\". He had stated last week that the US and its allies may \"deal with\" Pyongyang if China did not.',\n",
       "   16: \"The BBC's Stephen Evans in Seoul says US policy now seems to be to persuade China to contain North Korea while keeping the economic and military pressure on.\",\n",
       "   17: \"China, historically Pyongyang's sole major ally, has reiterated its call for North Korea to stop all tests, and has also called for a peaceful solution.\",\n",
       "   18: \"Besides Sunday's launch, North Korea has held a series of large-scale events in the past week including a massive celebration and military parade on Saturday.\",\n",
       "   19: 'It has denounced the US deployment of an aircraft carrier group to the region, saying it would respond by \"force of arms\" to \"reckless moves\".',\n",
       "   20: 'Observers have said North Korea may conduct a sixth nuclear test soon, with activity reported at nuclear facilities, according to the  website 38 North.',\n",
       "   21: 'Meanwhile about 1,000 US airmen and fighter jets are taking part in a combat training exercise in South Korea, reported Yonhap news agency. South Korea has sent about 500 personnel and planes. The Max Thunder exercise will last for two weeks.',\n",
       "   22: \"What impact will S Korea's expanded missile defence system have?\",\n",
       "   23: '1. The enemy launches a missile',\n",
       "   24: '2. The Thaad radar system detects the launch, which is relayed to command and control',\n",
       "   25: '3. Thaad command and control instructs the launch of an interceptor missile',\n",
       "   26: '4. The interceptor missile is fired at the enemy projectile',\n",
       "   27: '5. The enemy projectile is destroyed in the terminal phase of flight'},\n",
       "  'date': '2017/04/17',\n",
       "  'source': 'BBC',\n",
       "  'title': \"US 'era of patience with N Korea over'\",\n",
       "  'url': 'http://www.bbc.com/news/world-asia-39618573'}]"
      ]
     },
     "execution_count": 32,
     "metadata": {},
     "output_type": "execute_result"
    }
   ],
   "source": [
    "addContent(getArticlesList(getCatLinks()[0])[0:2])"
   ]
  },
  {
   "cell_type": "code",
   "execution_count": 33,
   "metadata": {
    "collapsed": false
   },
   "outputs": [],
   "source": [
    "#get a signle article content\n",
    "def getArticle(art_url):\n",
    "    \n",
    "    art_dict = {}\n",
    "\n",
    "    res = r.get(art_url)\n",
    "    res.encoding='unicode'\n",
    "    soup = BeautifulSoup(res.text,'lxml')\n",
    "    art_date = soup.select('.story-body .date')[0]['data-seconds']\n",
    "    art_title = soup.select('.story-body h1')[0].text\n",
    "    art_body = soup.select('.story-body__inner p')\n",
    "    \n",
    "    art_paras = {}\n",
    "    for numPara in range(len(art_body)):\n",
    "        art_paras[numPara+1] = art_body[numPara].text\n",
    "\n",
    "    art_dict['title'] = art_title\n",
    "    art_dict['url'] = art_url\n",
    "    art_dict['source'] = 'BBC'\n",
    "    art_dict['date'] = d.fromtimestamp(int(art_date)).strftime('%Y/%m/%d')\n",
    "    art_dict['content'] = art_paras\n",
    "    \n",
    "    return art_dict"
   ]
  },
  {
   "cell_type": "code",
   "execution_count": 36,
   "metadata": {
    "collapsed": false
   },
   "outputs": [
    {
     "data": {
      "text/plain": [
       "{'content': {1: 'The Yes vote in the referendum that grants sweeping new powers to the president of Turkey is valid, the head of the electoral body says.',\n",
       "  2: \"Sadi Guven was speaking after the main opposition Republican People's Party (CHP) cited irregularities, including the use of unstamped ballot papers.\",\n",
       "  3: \"President Recep Tayyip Erdogan's push for an executive presidency succeeded with 51.4% voting for it.\",\n",
       "  4: 'The win was met with both celebrations and protests across Turkey.',\n",
       "  5: 'Deputy Prime Minister Nurettin Canikli said legal changes to introduce the new system could be completed within a year.',\n",
       "  6: 'New presidential and parliamentary elections are due on 3 November 2019. ',\n",
       "  7: 'Turnout was said to be as high as 85%. ',\n",
       "  8: \"The CHP has demanded a recount of 60% of the votes. Its deputy head said the result should be annulled altogether. The pro-Kurdish Peoples' Democratic Party (HDP) also challenged the vote.\",\n",
       "  9: 'But Mr Guven said the unstamped ballot papers had been produced by the High Electoral Board and were valid.',\n",
       "  10: 'He said a similar procedure had been used in past elections. ',\n",
       "  11: \"Three of Turkey's biggest cities - Istanbul, Ankara and Izmir - all voted No to the constitutional changes.\",\n",
       "  12: 'Opposition supporters took to the streets of Istanbul to bang pots and pans - a traditional form of protest - in a series of noisy demonstrations.',\n",
       "  13: 'Meanwhile, flag-waving supporters of Mr Erdogan celebrated.',\n",
       "  14: 'Responding to Sunday\\'s result, the European Commission urged Mr Erdogan to respect the closeness of the vote and to \"seek the broadest possible national consensus\" when considering the far-reaching implications of the constitutional amendments.',\n",
       "  15: \"A divisive campaign ended in a contested result. President Erdogan declared victory by a narrow margin and called on every side to respect it. But the opposition has not conceded, claiming voting irregularities. It's clouded the legitimacy of the mandate the president now feels he's been given, to concentrate political power in his hands. \",\n",
       "  16: \"International observers will give their verdict today - that could embolden or weaken the opposition's case and determine how Turkey's western allies will respond. \",\n",
       "  17: \"Mr Erdogan hoped this would be the crowning moment of his career. But it's left Turkey profoundly polarised, at risk of becoming another chronically unstable part of the Middle East.\",\n",
       "  18: 'Mark answers your questions in a Facebook Live',\n",
       "  19: \"President Erdogan said after the result that Turkey could now hold a referendum on bringing back the death penalty - a move that would end Turkey's EU negotiations.\",\n",
       "  20: \"Mr Erdogan says the changes are needed to address Turkey's security challenges after last July's attempted coup, and to avoid the fragile coalition governments of the past.\",\n",
       "  21: 'The new system, he argues, will resemble those in France and the US and will bring calm in a time of turmoil marked by a Kurdish insurgency, Islamist militancy and conflict in neighbouring Syria, which has led to a huge refugee influx.',\n",
       "  22: \"Critics of the changes fear the move will make the president's position too powerful, arguing that it amounts to one-man rule, without the checks and balances of other presidential systems such as those in France and the US.\",\n",
       "  23: 'Many Turks already fear growing authoritarianism in their country, where tens of thousands of people have been arrested, and at least 100,000 sacked or suspended from their jobs, since the coup attempt. ',\n",
       "  24: 'Mr Erdogan assumed the presidency, meant to be a largely ceremonial position, in 2014 after more than a decade as prime minister.',\n",
       "  25: 'Under his rule, relations with the EU have deteriorated. Mr Erdogan sparred bitterly with European governments who banned rallies by his ministers in their countries during the referendum campaign. He called the bans \"Nazi acts\".',\n",
       "  26: 'The new system could enable him to remain in office until 2029.'},\n",
       " 'date': '2017/04/17',\n",
       " 'source': 'BBC',\n",
       " 'title': \"Turkey referendum: Vote expanding Erdogan powers 'valid'\",\n",
       " 'url': 'http://www.bbc.com/news/world-europe-39618614'}"
      ]
     },
     "execution_count": 36,
     "metadata": {},
     "output_type": "execute_result"
    }
   ],
   "source": [
    "getArticle(getArticlesList(getCatLinks()[0])[0]['url'])"
   ]
  },
  {
   "cell_type": "code",
   "execution_count": 37,
   "metadata": {
    "collapsed": false
   },
   "outputs": [],
   "source": [
    "def jsonOut(inputList):\n",
    "    src = inputList[0]['source']\n",
    "    day = d.today().strftime('%Y%m%d')\n",
    "    filename = '{}_{}_output.json'.format(day,src)\n",
    "    with open(filename, 'w') as f:\n",
    "        json.dump(inputList, f)\n",
    "        f.close()\n",
    "    print(filename + ' has been created!')"
   ]
  },
  {
   "cell_type": "code",
   "execution_count": 38,
   "metadata": {
    "collapsed": false
   },
   "outputs": [
    {
     "name": "stdout",
     "output_type": "stream",
     "text": [
      "20170417_BBC_output.json has been created!\n"
     ]
    }
   ],
   "source": [
    "jsonOut(addContent(getArticlesList(getCatLinks()[0])[0:2]))"
   ]
  }
 ],
 "metadata": {
  "kernelspec": {
   "display_name": "Python 3",
   "language": "python",
   "name": "python3"
  },
  "language_info": {
   "codemirror_mode": {
    "name": "ipython",
    "version": 3
   },
   "file_extension": ".py",
   "mimetype": "text/x-python",
   "name": "python",
   "nbconvert_exporter": "python",
   "pygments_lexer": "ipython3",
   "version": "3.6.0"
  }
 },
 "nbformat": 4,
 "nbformat_minor": 2
}
