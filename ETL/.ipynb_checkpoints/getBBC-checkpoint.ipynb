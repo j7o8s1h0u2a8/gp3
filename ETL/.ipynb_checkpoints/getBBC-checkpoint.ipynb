{
 "cells": [
  {
   "cell_type": "code",
   "execution_count": null,
   "metadata": {
    "collapsed": false,
    "scrolled": true
   },
   "outputs": [],
   "source": [
    "!pip install requests\n",
    "!pip install beautifulsoup4\n",
    "!pip install lxml"
   ]
  },
  {
   "cell_type": "code",
   "execution_count": null,
   "metadata": {
    "collapsed": false
   },
   "outputs": [],
   "source": [
    "from bs4 import BeautifulSoup\n",
    "import lxml\n",
    "import requests as r\n",
    "import datetime as d"
   ]
  },
  {
   "cell_type": "code",
   "execution_count": null,
   "metadata": {
    "collapsed": false
   },
   "outputs": [],
   "source": [
    "# Get all category links\n",
    "def getCatLinks():\n",
    "    main_url = 'http://www.bbc.com/news'\n",
    "    res = r.get(main_url)\n",
    "    res.encoding = 'unicode'\n",
    "    soup = BeautifulSoup(res.text, 'lxml')\n",
    "    tags = soup.select('.navigation-panel__content a')\n",
    "\n",
    "    catList = []\n",
    "    for tag in tags:\n",
    "        if (tag['href'].split(':')[0] != 'http'):\n",
    "            catList.append('http://www.bbc.com%s' % (tag['href']))\n",
    "\n",
    "    return catList"
   ]
  },
  {
   "cell_type": "code",
   "execution_count": null,
   "metadata": {
    "collapsed": false,
    "scrolled": false
   },
   "outputs": [],
   "source": [
    "getCatLinks()"
   ]
  },
  {
   "cell_type": "code",
   "execution_count": null,
   "metadata": {
    "collapsed": false,
    "scrolled": true
   },
   "outputs": [],
   "source": [
    "# Get all article links under the given category url\n",
    "def getArticlesList(cat_url):\n",
    "\n",
    "    articlesList = []\n",
    "\n",
    "    res = r.get(cat_url)\n",
    "    res.encoding = 'unicode'\n",
    "    soup = BeautifulSoup(res.text, 'lxml')\n",
    "    titles = soup.select('.title-link')\n",
    "\n",
    "    for article in titles:\n",
    "        art_info = {}\n",
    "        art_info['title'] = article.text.strip()\n",
    "        art_info['url'] = 'http://www.bbc.com%s' % (article['href'])\n",
    "        art_info['source'] = 'BBC'\n",
    "\n",
    "        articlesList.append(art_info)\n",
    "\n",
    "    return articlesList"
   ]
  },
  {
   "cell_type": "code",
   "execution_count": null,
   "metadata": {
    "collapsed": false
   },
   "outputs": [],
   "source": [
    "getArticlesList(getCatLinks()[0])"
   ]
  },
  {
   "cell_type": "code",
   "execution_count": null,
   "metadata": {
    "collapsed": false
   },
   "outputs": [],
   "source": [
    "# Get one single article content\n",
    "def getArticle(art_url):\n",
    "\n",
    "    art_dict = {}\n",
    "\n",
    "    res = r.get(art_url)\n",
    "    res.encoding = 'unicode'\n",
    "    soup = BeautifulSoup(res.text, 'lxml')\n",
    "    \n",
    "    timestamp = int(soup.select('.story-body .date')[0]['data-seconds'])\n",
    "    url_date = d.datetime.fromtimestamp(timestamp).strftime('%Y/%m/%d')\n",
    "    \n",
    "    art_title = soup.select('.story-body h1')[0].text\n",
    "    art_body = soup.select('.story-body__inner p')\n",
    "\n",
    "    art_paras = {}\n",
    "    for numPara in range(len(art_body)):\n",
    "        art_paras[numPara + 1] = art_body[numPara].text\n",
    "\n",
    "    art_dict['title'] = art_title\n",
    "    art_dict['url'] = art_url\n",
    "    art_dict['source'] = 'BBC'\n",
    "    art_dict['date'] = url_date\n",
    "    art_dict['content'] = art_paras\n",
    "\n",
    "    return art_dict"
   ]
  },
  {
   "cell_type": "code",
   "execution_count": null,
   "metadata": {
    "collapsed": false
   },
   "outputs": [],
   "source": [
    "getArticle(getArticlesList(getCatLinks()[0])[0]['url'])"
   ]
  }
 ],
 "metadata": {
  "kernelspec": {
   "display_name": "Python 3",
   "language": "python",
   "name": "python3"
  },
  "language_info": {
   "codemirror_mode": {
    "name": "ipython",
    "version": 3
   },
   "file_extension": ".py",
   "mimetype": "text/x-python",
   "name": "python",
   "nbconvert_exporter": "python",
   "pygments_lexer": "ipython3",
   "version": "3.6.0"
  }
 },
 "nbformat": 4,
 "nbformat_minor": 2
}
