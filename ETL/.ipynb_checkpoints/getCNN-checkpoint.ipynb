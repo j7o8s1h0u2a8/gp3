{
 "cells": [
  {
   "cell_type": "code",
   "execution_count": 1,
   "metadata": {
    "collapsed": false,
    "scrolled": true
   },
   "outputs": [
    {
     "name": "stdout",
     "output_type": "stream",
     "text": [
      "Requirement already satisfied: requests in c:\\python\\lib\\site-packages\n",
      "Requirement already satisfied: beautifulsoup4 in c:\\python\\lib\\site-packages\n",
      "Requirement already satisfied: lxml in c:\\python\\lib\\site-packages\n"
     ]
    }
   ],
   "source": [
    "!pip install requests\n",
    "!pip install beautifulsoup4\n",
    "!pip install lxml"
   ]
  },
  {
   "cell_type": "code",
   "execution_count": 2,
   "metadata": {
    "collapsed": false
   },
   "outputs": [],
   "source": [
    "from bs4 import BeautifulSoup\n",
    "import datetime as d\n",
    "\n",
    "import lxml\n",
    "import requests as r\n",
    "import json\n",
    "import sys\n",
    "\n",
    "import toJsonFile as tj"
   ]
  },
  {
   "cell_type": "code",
   "execution_count": 3,
   "metadata": {
    "collapsed": false
   },
   "outputs": [],
   "source": [
    "# Get all category links\n",
    "def getCatLinks():\n",
    "    main_url = 'http://edition.cnn.com/'\n",
    "    res = r.get(main_url)\n",
    "    res.encoding = 'unicode'\n",
    "    soup = BeautifulSoup(res.text, 'lxml')\n",
    "    tags = soup.select('.m-footer__bucket_group .m-footer__link')\n",
    "\n",
    "    catList = []\n",
    "    for tag in tags:\n",
    "        if (tag['href'].split('.')[0] == '//money'):\n",
    "            catList.append('http:%s' % (tag['href']))\n",
    "        elif (tag['href'].split(':')[0] != 'http'):\n",
    "            catList.append(main_url + '%s' % (tag['href'].lstrip('/')))\n",
    "    return catList"
   ]
  },
  {
   "cell_type": "code",
   "execution_count": null,
   "metadata": {
    "collapsed": false,
    "scrolled": true
   },
   "outputs": [],
   "source": [
    "#[DEBUG for getCatLinks()]\n",
    "for link in getCatLinks():\n",
    "    res = r.get(link)\n",
    "    if res.status_code == 200:\n",
    "        print('[ok!]' + link)\n",
    "    else:\n",
    "        print('[%s Fail!]' % (res.status_code) + link)"
   ]
  },
  {
   "cell_type": "code",
   "execution_count": 4,
   "metadata": {
    "collapsed": false,
    "scrolled": true
   },
   "outputs": [],
   "source": [
    "# Get all article links under the given category url\n",
    "def getArticlesList(cat_url):\n",
    "\n",
    "    articlesList = []\n",
    "\n",
    "    res = r.get(cat_url)\n",
    "    res.encoding = 'unicode'\n",
    "    soup = BeautifulSoup(res.text, 'lxml')\n",
    "    titles = soup.select('.cd__headline a')\n",
    "\n",
    "    for article in titles:\n",
    "        art_info = {}\n",
    "        art_info['title'] = article.text\n",
    "        art_info['source'] = 'CNN'\n",
    "\n",
    "        if (article['href'].lstrip('/').split(':')[0] == 'https'):\n",
    "            art_info['url'] = article['href'].lstrip('/')\n",
    "        elif (article['href'].lstrip('/').split(':')[0] == 'http'):\n",
    "            art_info['url'] = article['href'].lstrip('/')\n",
    "        else:\n",
    "            art_info['url'] = 'http://edition.cnn.com/' + \\\n",
    "                article['href'].lstrip('/')\n",
    "\n",
    "        articlesList.append(art_info)\n",
    "\n",
    "    return articlesList"
   ]
  },
  {
   "cell_type": "code",
   "execution_count": 4,
   "metadata": {
    "collapsed": false,
    "scrolled": true
   },
   "outputs": [
    {
     "name": "stdout",
     "output_type": "stream",
     "text": [
      "96\n",
      "[ok!]Manhunt widens for Facebook murder suspect\n",
      "[ok!]Facebook shooting victim was walking home after Easter meal\n",
      "[ok!]Why Facebook still struggles to pull down murder videos quickly\n",
      "[ok!]Cops: Facebook shooting suspect may have crossed state lines\n",
      "[ok!]Opinion: Make it a crime to show killing on Facebook\n",
      "[ok!]Prince documents unsealed: No meds in home were prescribed to him\n",
      "[ok!]Atlanta seems to be running out of interstates\n",
      "[ok!]US sends newest F-35 stealth fighters to Europe\n",
      "[ok!]How America executes its prisoners\n",
      "[ok!]The Obamas are living the life nowadays\n",
      "[ok!]NFL QB prospect is also a rocket scientist\n",
      "[ok!]Kenyans sweep Boston Marathon\n",
      "[ok!]Homeless, terminally ill dogs find sanctuary here\n",
      "[ok!]2 Detroit police officers shot, wounded in burglary call\n",
      "[ok!]As advisers cross globe to hotspots, Trump stays put\n",
      "[ok!]Does mental competence matter in Arkansas executions?\n",
      "[ok!]Are Gen Xers, boomers suffering serious psychological distress?  \n",
      "[ok!]April the giraffe finally gives birth\n",
      "[ok!]A revolution in lung cancer treatment\n",
      "[ok!]On North Korean border, Pence says US will drop 'failed policy'\n",
      "[ok!]Neil Gorsuch begins first full week on the job\n",
      "[ok!]'SNL' goes after Sean Spicer's biggest weakness\n",
      "[ok!]Snapchat denies its CEO labeled India as 'poor'\n",
      "[ok!]Qatar Airways CEO: Laptop ban doesn't make flying safer\n",
      "[ok!]Next up for United: A big drop in profits\n",
      "[ok!]Another major interstate in Atlanta is down WGCL\n",
      "[ok!]Terminally ill man helps children in need WWLP\n",
      "[ok!]Plane crash kills 4 on Easter Sunday N13\n",
      "[ok!]Playground opens in honor of Freddie Gray WJZ\n",
      "[ok!]April heat takes toll on Boston runners WBZ\n",
      "[ok!]Students transform underpass into map WCBS\n",
      "[ok!]Police find Chihuahua drunk on vodka KDKA\n",
      "[ok!]Girl, 10, killed by stray bullet WPIX\n",
      "[ok!]PD: Chris Brown punched club photographer WFTS\n",
      "[ok!]Students bring prom to teen battling cancer WHNS\n",
      "[ok!]Church's rainbow flag stolen, replaced with American KTVT\n",
      "[ok!]Massive fight breaks out at carnival WBBM\n",
      "[ok!]Video shows \"witch\" abuse grandchild KFOR\n",
      "[ok!]High school senior's prank goes viral KDAF\n",
      "[ok!]Man shot to death on Red Line platform WGN\n",
      "[ok!]Mother finds infant dead at daycare WXMI\n",
      "[ok!]Korean student reacts to US tensions WNEM\n",
      "[ok!]From animal shelter to crime fighter KTVI\n",
      "[ok!]Autistic boy finds comfort on roller coasters KCTV\n",
      "[ok!]Woman found under train dies of injuries  WSYM\n",
      "[ok!]Boy becomes honorary police officer KTXL\n",
      "[ok!]Families divided by border celebrate Easter KSWB\n",
      "[ok!]Mother of 4 deported from home in Colorado KDVR\n",
      "[ok!]Fake anti-immigration signs appear KCBS\n",
      "[ok!]Video shows protester getting punched KPIX\n",
      "[ok!]Woman wins garbage truck driver of the year KSTU\n",
      "[ok!]Meb Kefezighi runs final Boston Marathon KGTV\n",
      "[ok!]Boy asks Trump to donate salary to charity KTNV\n",
      "[ok!]Woman, teen missing in Grand Canyon KPHO\n",
      "[ok!]Family turns in son months after murder KCNC\n",
      "[ok!]Suicidal ex-fighter living with CTE\n",
      "[ok!]Boston Marathon survivor marrying her rescuer\n",
      "[ok!]17-year-old turns down $1.4M to go pro\n",
      "[ok!]MMA fighter: weed caused heart problems\n",
      "[ok!]Is he too smart for the NFL?\n",
      "[ok!]Using good deeds as a teaching tool\n",
      "[ok!]'You would have thought we were Skyping with Katy Perry'\n",
      "[ok!]Inspired students pay it forward\n",
      "[ok!]Plastic you can drink\n",
      "[ok!]Why a vegetarian diet may not be key\n",
      "[ok!]The good and not-so-good about organic\n",
      "[ok!]What a shot! 24 amazing sports photos\n",
      "[ok!]The week in politics\n",
      "[ok!]The week in 22 photos\n",
      "[ok!]Finding art in the ordinary\n",
      "[ok!]Rest stop photos: Nostalgic era of the American road trip \n",
      "[ok!]What a shot! 28 amazing sports photos\n",
      "[ok!]Dance of the Flyers: Death-defying pole acrobatics in Mexico\n",
      "[ok!]The week in politics\n",
      "[ok!]The week in 44 photos\n",
      "[ok!]Spicer reads to kids at the Easter Egg Roll\n",
      "[ok!]'SNL' takes Trump back to reality TV roots\n",
      "[ok!]The making of a protest anthem\n",
      "[ok!]Watch: US F-35 jet fighters arrive in Europe\n",
      "[ok!]Spicer gets in the Easter spirit on 'SNL'\n",
      "[ok!]See 'mother of all bombs' explode\n",
      "[ok!]Women of faith and their abortions\n",
      "[ok!]Cop beats man accused of jaywalking\n",
      "[ok!]Scorpion stings passenger on United flight\n",
      "[ok!]Lemon and Lord have fiery argument over race\n",
      "[ok!]Watch Trump's stunning U-turns on key issues\n",
      "[ok!]Assad's first interview after chemical attack\n",
      "[ok!]2017 Mortgage Rates now at 3.25% APR (15 yr.)\n",
      "[ok!]Vets could receive up to $42k with these VA benefits\n",
      "[ok!]Reverse mortgage: Worth the risk?\n",
      "[ok!]2 cards charging 0% interest until 2019\n",
      "[ok!]Insane rewards (but only for those with great credit)\n",
      "[ok!]The best cash back card has finally arrived\n",
      "[ok!]Ready to trade up? Find out how much your home is worth\n",
      "[ok!]San Diego homes for sale\n",
      "[ok!]Getting ready to sell? Find out what your home is worth now\n"
     ]
    }
   ],
   "source": [
    "#[DEBUG for getArticlesList()]\n",
    "for catLink in getCatLinks()[0:1]:\n",
    "    print(len(getArticlesList(catLink)))\n",
    "\n",
    "    for art in getArticlesList(catLink):\n",
    "        res = r.get(art['url'])\n",
    "        if res.status_code == 200:\n",
    "            print('[ok!]' + art['title'])\n",
    "        else:\n",
    "            print('[%s Fail!]' % (res.status_code) + art['url'])   "
   ]
  },
  {
   "cell_type": "code",
   "execution_count": 5,
   "metadata": {
    "collapsed": false
   },
   "outputs": [],
   "source": [
    "# Get one single article content\n",
    "def getArticle(art_url):\n",
    "\n",
    "    art_dict = {}\n",
    "\n",
    "    res = r.get(art_url)\n",
    "    res.encoding = 'unicode'\n",
    "    soup = BeautifulSoup(res.text, 'lxml')\n",
    "\n",
    "    try:\n",
    "        art_date = soup.find(itemprop='datePublished')['content'].split('T')[0]\n",
    "    except:\n",
    "        art_date = d.date.today().strftime('%Y/%m/%d')\n",
    "\n",
    "    art_title = soup.select('title')[0].text\n",
    "    art_body = soup.select('#body-text .zn-body__paragraph')\n",
    "\n",
    "    art_paras = {}\n",
    "    for numPara in range(len(art_body)):\n",
    "        art_paras[numPara + 1] = art_body[numPara].text.strip()\n",
    "\n",
    "    art_dict['title'] = art_title\n",
    "    art_dict['url'] = art_url\n",
    "    art_dict['source'] = 'CNN'\n",
    "    art_dict['date'] = art_date\n",
    "    art_dict['content'] = art_paras\n",
    "\n",
    "    return art_dict"
   ]
  },
  {
   "cell_type": "code",
   "execution_count": 15,
   "metadata": {
    "collapsed": false,
    "scrolled": false
   },
   "outputs": [
    {
     "name": "stdout",
     "output_type": "stream",
     "text": [
      "There are 96 articles in http://edition.cnn.com/us.\n",
      "There are 46 articles in http://edition.cnn.com/africa.\n",
      "There are 33 articles in http://edition.cnn.com/americas.\n",
      "There are 36 articles in http://edition.cnn.com/asia.\n",
      "There are 35 articles in http://edition.cnn.com/china.\n"
     ]
    },
    {
     "ename": "ValueError",
     "evalue": "incomplete format",
     "output_type": "error",
     "traceback": [
      "\u001b[0;31m---------------------------------------------------------------------------\u001b[0m",
      "\u001b[0;31mValueError\u001b[0m                                Traceback (most recent call last)",
      "\u001b[0;32m<ipython-input-15-9ecf301ccb3d>\u001b[0m in \u001b[0;36m<module>\u001b[0;34m()\u001b[0m\n\u001b[1;32m     20\u001b[0m             \u001b[0mprint\u001b[0m\u001b[1;33m(\u001b[0m\u001b[0msys\u001b[0m\u001b[1;33m.\u001b[0m\u001b[0mexc_info\u001b[0m\u001b[1;33m(\u001b[0m\u001b[1;33m)\u001b[0m\u001b[1;33m)\u001b[0m\u001b[1;33m\u001b[0m\u001b[0m\n\u001b[1;32m     21\u001b[0m \u001b[1;33m\u001b[0m\u001b[0m\n\u001b[0;32m---> 22\u001b[0;31m \u001b[0mprint\u001b[0m\u001b[1;33m(\u001b[0m\u001b[1;34m'E:%s, S:%'\u001b[0m\u001b[1;33m%\u001b[0m\u001b[1;33m(\u001b[0m\u001b[0mempty\u001b[0m\u001b[1;33m,\u001b[0m\u001b[0msuccess\u001b[0m\u001b[1;33m)\u001b[0m\u001b[1;33m)\u001b[0m\u001b[1;33m\u001b[0m\u001b[0m\n\u001b[0m",
      "\u001b[0;31mValueError\u001b[0m: incomplete format"
     ]
    }
   ],
   "source": [
    "# print('There are %s categories.'%(len(getCatLinks())))\n",
    "\n",
    "cat_urls = getCatLinks()\n",
    "empty = 0\n",
    "success = 0\n",
    "\n",
    "for cat_url in cat_urls[0:5]:\n",
    "    articles = getArticlesList(cat_url)\n",
    "    print('There are %s articles in %s.'%(len(articles),cat_url))\n",
    "    \n",
    "    for article in articles:\n",
    "        try:\n",
    "            art_dict = getArticle(article['url'])\n",
    "\n",
    "            if len(art_dict['content']) == 0:\n",
    "                empty += 1\n",
    "            else:\n",
    "                success += 1\n",
    "        except:\n",
    "            print(sys.exc_info())"
   ]
  },
  {
   "cell_type": "code",
   "execution_count": 16,
   "metadata": {
    "collapsed": false
   },
   "outputs": [
    {
     "name": "stdout",
     "output_type": "stream",
     "text": [
      "E:135, S:111\n"
     ]
    }
   ],
   "source": [
    "print('E:%s, S:%s'%(empty,success))"
   ]
  }
 ],
 "metadata": {
  "kernelspec": {
   "display_name": "Python 3",
   "language": "python",
   "name": "python3"
  },
  "language_info": {
   "codemirror_mode": {
    "name": "ipython",
    "version": 3
   },
   "file_extension": ".py",
   "mimetype": "text/x-python",
   "name": "python",
   "nbconvert_exporter": "python",
   "pygments_lexer": "ipython3",
   "version": "3.6.0"
  }
 },
 "nbformat": 4,
 "nbformat_minor": 2
}
