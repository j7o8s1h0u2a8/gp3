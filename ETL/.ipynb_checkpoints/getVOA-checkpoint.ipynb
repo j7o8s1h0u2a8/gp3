{
 "cells": [
  {
   "cell_type": "code",
   "execution_count": 1,
   "metadata": {
    "collapsed": false,
    "scrolled": true
   },
   "outputs": [
    {
     "name": "stdout",
     "output_type": "stream",
     "text": [
      "Requirement already satisfied: requests in d:\\anaconda3_4.3.1\\lib\\site-packages\n",
      "Requirement already satisfied: beautifulsoup4 in d:\\anaconda3_4.3.1\\lib\\site-packages\n",
      "Requirement already satisfied: lxml in d:\\anaconda3_4.3.1\\lib\\site-packages\n"
     ]
    }
   ],
   "source": [
    "!pip install requests\n",
    "!pip install beautifulsoup4\n",
    "!pip install lxml"
   ]
  },
  {
   "cell_type": "code",
   "execution_count": 2,
   "metadata": {
    "collapsed": false
   },
   "outputs": [],
   "source": [
    "from bs4 import BeautifulSoup\n",
    "import lxml\n",
    "import requests as r\n",
    "import json\n",
    "from datetime import date\n",
    "from datetime import timedelta\n",
    "import json"
   ]
  },
  {
   "cell_type": "code",
   "execution_count": 23,
   "metadata": {
    "collapsed": false
   },
   "outputs": [],
   "source": [
    "#get links of all categories\n",
    "def getCateLinks():\n",
    "    \n",
    "    main_url = 'http://www.voanews.com/'\n",
    "    res = r.get(main_url)\n",
    "    res.encoding='unicode'\n",
    "    soup = BeautifulSoup(res.text,'lxml')\n",
    "    tags = soup.select('.block-secondary .inner .subitem a')\n",
    "    \n",
    "    urlList = []\n",
    "    \n",
    "    for tag in tags:\n",
    "        if (tag['href'].lstrip('/').split('/')[0] != 'http:'):\n",
    "            urlList.append('%s'%(main_url+tag['href'].lstrip('/')))\n",
    "        else:\n",
    "            urlList.append(tag['href'])\n",
    "    \n",
    "    return urlList"
   ]
  },
  {
   "cell_type": "code",
   "execution_count": 61,
   "metadata": {
    "collapsed": false
   },
   "outputs": [
    {
     "data": {
      "text/plain": [
       "'http://www.voanews.com/z/599'"
      ]
     },
     "execution_count": 61,
     "metadata": {},
     "output_type": "execute_result"
    }
   ],
   "source": [
    "getCateLinks()[0]"
   ]
  },
  {
   "cell_type": "code",
   "execution_count": 59,
   "metadata": {
    "collapsed": false
   },
   "outputs": [],
   "source": [
    "#get all links of articles in each category\n",
    "def getArticleList(cat_url, date):\n",
    "    \n",
    "    articleList = []\n",
    "    \n",
    "    res = r.get(cat_url + '/' + date + '/')\n",
    "    res.encoding='unicode'\n",
    "    soup = BeautifulSoup(res.text,'lxml')\n",
    "    \n",
    "    articles = soup.select('.media-block-wrap .row .content')\n",
    "    \n",
    "    for num in range(len(articles)):\n",
    "        article_info = {}\n",
    "        article_info['title'] = soup.select('.media-block-wrap .row .content .title')[num].text.strip()\n",
    "        article_info['url'] = 'http://www.voanews.com' + soup.select('.media-block-wrap .row .content')[num].select('a')[0]['href']\n",
    "        \n",
    "        articleList.append(article_info)\n",
    "    \n",
    "    return articleList"
   ]
  },
  {
   "cell_type": "code",
   "execution_count": 97,
   "metadata": {
    "collapsed": false
   },
   "outputs": [
    {
     "data": {
      "text/plain": [
       "[{'title': 'With Trump Pick Aboard, Top US Court Tackles Religious Rights',\n",
       "  'url': 'http://www.voanews.com/a/with-trump-pick-aboard-top-us-court-tackles-religious-rights/3812130.html'},\n",
       " {'title': 'Calendar Brings Western, Orthodox Christians Together for Easter',\n",
       "  'url': 'http://www.voanews.com/a/thousands-come-to-hear-popes-easter-message/3812041.html'},\n",
       " {'title': 'Top US Security Official in Afghanistan for Crucial Talks',\n",
       "  'url': 'http://www.voanews.com/a/top-us-security-official-in-afghanistan-for-talks/3812024.html'},\n",
       " {'title': 'Christians Around the World Celebrate Easter',\n",
       "  'url': 'http://www.voanews.com/a/christian-around-the-world-celebrate-easter/3812016.html'},\n",
       " {'title': 'Fugitive Mexican ex-Gov. Javier Duarte Detained in Guatemala',\n",
       "  'url': 'http://www.voanews.com/a/fugitive-former-mexican-governor-arrested-in-guatemala/3812008.html'},\n",
       " {'title': 'North Korea Defies US Warnings With Failed Missile Test',\n",
       "  'url': 'http://www.voanews.com/a/north-korea-defies-us-warnings-with-failed-missile-test/3812002.html'},\n",
       " {'title': 'With Trump Pick Aboard, Top US Court Tackles Religious Rights',\n",
       "  'url': 'http://www.voanews.com/a/with-trump-pick-aboard-top-us-court-tackles-religious-rights/3812130.html'},\n",
       " {'title': 'Calendar Brings Western, Orthodox Christians Together for Easter',\n",
       "  'url': 'http://www.voanews.com/a/thousands-come-to-hear-popes-easter-message/3812041.html'},\n",
       " {'title': 'Top US Security Official in Afghanistan for Crucial Talks',\n",
       "  'url': 'http://www.voanews.com/a/top-us-security-official-in-afghanistan-for-talks/3812024.html'},\n",
       " {'title': 'Christians Around the World Celebrate Easter',\n",
       "  'url': 'http://www.voanews.com/a/christian-around-the-world-celebrate-easter/3812016.html'},\n",
       " {'title': 'Fugitive Mexican ex-Gov. Javier Duarte Detained in Guatemala',\n",
       "  'url': 'http://www.voanews.com/a/fugitive-former-mexican-governor-arrested-in-guatemala/3812008.html'},\n",
       " {'title': 'Pilgrims Flock to Jerusalem to Celebrate Easter',\n",
       "  'url': 'http://www.voanews.com/z/598'},\n",
       " {'title': 'Turkish Referendum Has Expats in Europe on Edge',\n",
       "  'url': 'http://www.voanews.com/z/611'},\n",
       " {'title': \"Russia's Policy in Syria, Afghanistan Clashing with US\",\n",
       "  'url': 'http://www.voanews.com/z/598'}]"
      ]
     },
     "execution_count": 97,
     "metadata": {},
     "output_type": "execute_result"
    }
   ],
   "source": [
    "getArticleList(getCateLinks()[0], '2017/04/16')"
   ]
  },
  {
   "cell_type": "code",
   "execution_count": 106,
   "metadata": {
    "collapsed": false
   },
   "outputs": [
    {
     "ename": "IndexError",
     "evalue": "list index out of range",
     "output_type": "error",
     "traceback": [
      "\u001b[0;31m---------------------------------------------------------------------------\u001b[0m",
      "\u001b[0;31mIndexError\u001b[0m                                Traceback (most recent call last)",
      "\u001b[0;32m<ipython-input-106-de9694f29fed>\u001b[0m in \u001b[0;36m<module>\u001b[0;34m()\u001b[0m\n\u001b[1;32m     18\u001b[0m     \u001b[0marticle_dict\u001b[0m\u001b[1;33m[\u001b[0m\u001b[1;34m'title'\u001b[0m\u001b[1;33m]\u001b[0m \u001b[1;33m=\u001b[0m \u001b[0minputList\u001b[0m\u001b[1;33m[\u001b[0m\u001b[0mnum\u001b[0m\u001b[1;33m]\u001b[0m\u001b[1;33m[\u001b[0m\u001b[1;34m'title'\u001b[0m\u001b[1;33m]\u001b[0m\u001b[1;33m\u001b[0m\u001b[0m\n\u001b[0;32m---> 19\u001b[0;31m     \u001b[0marticle_dict\u001b[0m\u001b[1;33m[\u001b[0m\u001b[1;34m'date'\u001b[0m\u001b[1;33m]\u001b[0m \u001b[1;33m=\u001b[0m \u001b[0msoup\u001b[0m\u001b[1;33m.\u001b[0m\u001b[0mselect\u001b[0m\u001b[1;33m(\u001b[0m\u001b[1;34m'#content time'\u001b[0m\u001b[1;33m)\u001b[0m\u001b[1;33m[\u001b[0m\u001b[1;36m0\u001b[0m\u001b[1;33m]\u001b[0m\u001b[1;33m[\u001b[0m\u001b[1;34m'datetime'\u001b[0m\u001b[1;33m]\u001b[0m\u001b[1;33m.\u001b[0m\u001b[0msplit\u001b[0m\u001b[1;33m(\u001b[0m\u001b[1;34m'T'\u001b[0m\u001b[1;33m)\u001b[0m\u001b[1;33m[\u001b[0m\u001b[1;36m0\u001b[0m\u001b[1;33m]\u001b[0m\u001b[1;33m\u001b[0m\u001b[0m\n\u001b[0m\u001b[1;32m     20\u001b[0m     \u001b[0marticle_dict\u001b[0m\u001b[1;33m[\u001b[0m\u001b[1;34m'source'\u001b[0m\u001b[1;33m]\u001b[0m \u001b[1;33m=\u001b[0m \u001b[1;34m'VOA'\u001b[0m\u001b[1;33m\u001b[0m\u001b[0m\n",
      "\u001b[0;31mIndexError\u001b[0m: list index out of range",
      "\nDuring handling of the above exception, another exception occurred:\n",
      "\u001b[0;31mIndexError\u001b[0m                                Traceback (most recent call last)",
      "\u001b[0;32m<ipython-input-106-de9694f29fed>\u001b[0m in \u001b[0;36m<module>\u001b[0;34m()\u001b[0m\n\u001b[1;32m     23\u001b[0m     \u001b[0mlistIncludeContent\u001b[0m\u001b[1;33m.\u001b[0m\u001b[0mappend\u001b[0m\u001b[1;33m(\u001b[0m\u001b[0marticle_dict\u001b[0m\u001b[1;33m)\u001b[0m\u001b[1;33m\u001b[0m\u001b[0m\n\u001b[1;32m     24\u001b[0m \u001b[1;32mexcept\u001b[0m\u001b[1;33m:\u001b[0m\u001b[1;33m\u001b[0m\u001b[0m\n\u001b[0;32m---> 25\u001b[0;31m     \u001b[0mprint\u001b[0m\u001b[1;33m(\u001b[0m\u001b[1;34m'%s is fail'\u001b[0m\u001b[1;33m%\u001b[0m\u001b[1;33m(\u001b[0m\u001b[0mlistIncludeContent\u001b[0m\u001b[1;33m[\u001b[0m\u001b[0mnum\u001b[0m\u001b[1;33m]\u001b[0m\u001b[1;33m[\u001b[0m\u001b[1;34m'url'\u001b[0m\u001b[1;33m]\u001b[0m\u001b[1;33m)\u001b[0m\u001b[1;33m)\u001b[0m\u001b[1;33m\u001b[0m\u001b[0m\n\u001b[0m",
      "\u001b[0;31mIndexError\u001b[0m: list index out of range"
     ]
    }
   ],
   "source": [
    "inputList = getArticleList(getCateLinks()[0], '2017/04/16')\n",
    "\n",
    "listIncludeContent = []    #output list\n",
    "\n",
    "for num in range(len(inputList)):\n",
    "    res = r.get(inputList[num]['url'])\n",
    "    res.encoding='unicode'\n",
    "    soup = BeautifulSoup(res.text,'lxml')\n",
    "    contents = soup.select('.wsw p')\n",
    "        \n",
    "    paragraph_dict = {} \n",
    "    for numPara in range(len(contents)):\n",
    "        paragraph_dict[numPara+1] = contents[numPara].text\n",
    "    \n",
    "    article_dict = {}    #store hole article details\n",
    "    article_dict['title'] = inputList[num]['title']\n",
    "    article_dict['date'] = soup.select('#content time')[0]['datetime'].split('T')[0]\n",
    "    article_dict['source'] = 'VOA'\n",
    "    article_dict['url'] = inputList[num]['url']\n",
    "    article_dict['content'] = paragraph_dict\n",
    "    listIncludeContent.append(article_dict)"
   ]
  },
  {
   "cell_type": "code",
   "execution_count": 84,
   "metadata": {
    "collapsed": false
   },
   "outputs": [],
   "source": [
    "def addContent(articleList):\n",
    "    \n",
    "    listIncludeContent = []    #output list\n",
    "    \n",
    "    for num in range(len(articleList)):\n",
    "        \n",
    "        res = r.get(articleList[num]['url'])\n",
    "        res.encoding='unicode'\n",
    "        soup = BeautifulSoup(res.text,'lxml')\n",
    "                \n",
    "        contents = soup.select('.wsw p')\n",
    "        \n",
    "        paragraph_dict = {} \n",
    "        for numPara in range(len(contents)):\n",
    "            paragraph_dict[numPara+1] = contents[numPara].text\n",
    "        \n",
    "        article_dict = {}    #store hole article details\n",
    "        article_dict['title'] = articleList[num]['title']\n",
    "        article_dict['date'] = soup.select('#content time')[0]['datetime'].split('T')[0]\n",
    "        article_dict['source'] = 'VOA'\n",
    "        article_dict['url'] = articleList[num]['url']\n",
    "        article_dict['content'] = paragraph_dict\n",
    "        \n",
    "        listIncludeContent.append(article_dict)\n",
    "            \n",
    "    return listIncludeContent"
   ]
  },
  {
   "cell_type": "code",
   "execution_count": 99,
   "metadata": {
    "collapsed": false
   },
   "outputs": [],
   "source": [
    "def jsonOut(targetList):\n",
    "    day = date.today().strftime('%Y%m%d')\n",
    "    with open('{}_VOAoutput.json'.format(day), 'w') as f:\n",
    "        json.dump(targetList, f)\n",
    "        f.close()\n",
    "    print('File {}_VOAoutput.json has been created!'.format(day))"
   ]
  },
  {
   "cell_type": "code",
   "execution_count": 16,
   "metadata": {
    "collapsed": false
   },
   "outputs": [
    {
     "name": "stdout",
     "output_type": "stream",
     "text": [
      "File 20170416_CNNoutput.json has been created!\n"
     ]
    }
   ],
   "source": [
    "jsonOut(addContent(test))"
   ]
  }
 ],
 "metadata": {
  "kernelspec": {
   "display_name": "Python 3",
   "language": "python",
   "name": "python3"
  },
  "language_info": {
   "codemirror_mode": {
    "name": "ipython",
    "version": 3
   },
   "file_extension": ".py",
   "mimetype": "text/x-python",
   "name": "python",
   "nbconvert_exporter": "python",
   "pygments_lexer": "ipython3",
   "version": "3.6.0"
  }
 },
 "nbformat": 4,
 "nbformat_minor": 2
}
