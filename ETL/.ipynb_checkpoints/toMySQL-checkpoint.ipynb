{
 "cells": [
  {
   "cell_type": "code",
   "execution_count": null,
   "metadata": {
    "collapsed": false
   },
   "outputs": [],
   "source": [
    "!pip install PyMySQL"
   ]
  },
  {
   "cell_type": "code",
   "execution_count": 2,
   "metadata": {
    "collapsed": false
   },
   "outputs": [
    {
     "ename": "ModuleNotFoundError",
     "evalue": "No module named 'getNYT'",
     "output_type": "error",
     "traceback": [
      "\u001b[0;31m---------------------------------------------------------------------------\u001b[0m",
      "\u001b[0;31mModuleNotFoundError\u001b[0m                       Traceback (most recent call last)",
      "\u001b[0;32m<ipython-input-2-97d076032e20>\u001b[0m in \u001b[0;36m<module>\u001b[0;34m()\u001b[0m\n\u001b[1;32m      3\u001b[0m \u001b[1;32mimport\u001b[0m \u001b[0mdatetime\u001b[0m\u001b[1;33m\u001b[0m\u001b[0m\n\u001b[1;32m      4\u001b[0m \u001b[1;33m\u001b[0m\u001b[0m\n\u001b[0;32m----> 5\u001b[0;31m \u001b[1;32mimport\u001b[0m \u001b[0mgetNYT\u001b[0m\u001b[1;33m\u001b[0m\u001b[0m\n\u001b[0m",
      "\u001b[0;31mModuleNotFoundError\u001b[0m: No module named 'getNYT'"
     ]
    }
   ],
   "source": [
    "import sys\n",
    "import pymysql\n",
    "import datetime\n",
    "\n",
    "import getNYT"
   ]
  },
  {
   "cell_type": "code",
   "execution_count": 1,
   "metadata": {
    "collapsed": false
   },
   "outputs": [
    {
     "name": "stdout",
     "output_type": "stream",
     "text": [
      "Cannot get connection to MySQL server\n"
     ]
    }
   ],
   "source": [
    "try:\n",
    "    conn = pymysql.connect(host='localhost',\n",
    "                           user='gp3',\n",
    "                           password='m123456',\n",
    "                           db='gp3',\n",
    "                           charset='utf8',\n",
    "                           autocommit=True,\n",
    "                           cursorclass=pymysql.cursors.DictCursor)\n",
    "    c= conn.cursor()\n",
    "except:\n",
    "    print('Cannot get connection to MySQL server')"
   ]
  },
  {
   "cell_type": "code",
   "execution_count": null,
   "metadata": {
    "collapsed": false
   },
   "outputs": [],
   "source": [
    "urList = getNytURL.getList(1)\n",
    "print(len(urList))\n",
    "\n",
    "for i in range(len(urList)):\n",
    "    print(urList[i]['url'])"
   ]
  },
  {
   "cell_type": "code",
   "execution_count": null,
   "metadata": {
    "collapsed": false
   },
   "outputs": [],
   "source": [
    "for i in range(len(urList)):\n",
    "    try:\n",
    "        c.execute(\"\"\"INSERT INTO cklist (title,date,source,url) VALUES (%(title)s, %(date)s, %(source)s, %(url)s)\"\"\",urList[i])\n",
    "    except IntegrityError:\n",
    "        print('The news [%(title)s] exists!!'%(urList[i]))\n",
    "    except NameError:\n",
    "        print('nameerror')\n",
    "    except:\n",
    "        print('other exceptions.')"
   ]
  }
 ],
 "metadata": {
  "kernelspec": {
   "display_name": "Python 3",
   "language": "python",
   "name": "python3"
  },
  "language_info": {
   "codemirror_mode": {
    "name": "ipython",
    "version": 3
   },
   "file_extension": ".py",
   "mimetype": "text/x-python",
   "name": "python",
   "nbconvert_exporter": "python",
   "pygments_lexer": "ipython3",
   "version": "3.6.0"
  }
 },
 "nbformat": 4,
 "nbformat_minor": 2
}
