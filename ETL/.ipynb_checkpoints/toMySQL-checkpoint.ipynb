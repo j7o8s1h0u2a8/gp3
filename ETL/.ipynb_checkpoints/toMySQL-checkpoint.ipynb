{
 "cells": [
  {
   "cell_type": "code",
   "execution_count": null,
   "metadata": {
    "collapsed": false
   },
   "outputs": [],
   "source": [
    "!pip install PyMySQL\n",
    "!pip install pymongo"
   ]
  },
  {
   "cell_type": "code",
   "execution_count": 2,
   "metadata": {
    "collapsed": false
   },
   "outputs": [],
   "source": [
    "import sys\n",
    "import pymysql\n",
    "from pymongo import MongoClient\n",
    "import pymongo\n",
    "import datetime\n",
    "\n",
    "import getNYT as gn\n",
    "import getCNN as gc\n",
    "import getBBC as gb"
   ]
  },
  {
   "cell_type": "markdown",
   "metadata": {},
   "source": [
    "<h3>Insert article list to MySQL</h3>"
   ]
  },
  {
   "cell_type": "code",
   "execution_count": null,
   "metadata": {
    "collapsed": false
   },
   "outputs": [],
   "source": [
    "try:\n",
    "    conn = pymysql.connect(host='10.120.28.52',\n",
    "                       user='gp3',\n",
    "                       password='Group_03',\n",
    "                       db='gp3',\n",
    "                       charset='utf8',\n",
    "                       autocommit=True,\n",
    "                       cursorclass=pymysql.cursors.DictCursor)\n",
    "    c= conn.cursor()\n",
    "except:\n",
    "    print('Cannot connect to MySQL server!')"
   ]
  },
  {
   "cell_type": "code",
   "execution_count": null,
   "metadata": {
    "collapsed": false
   },
   "outputs": [],
   "source": [
    "# CNN test\n",
    "cats = gc.getCatLinks()\n",
    "\n",
    "for cat in cats:\n",
    "    okcount = 0\n",
    "    ngcount = 0\n",
    "#     print(cat)\n",
    "    \n",
    "    for article in gc.getArticlesList(cat):\n",
    "        try:\n",
    "            c.execute(\"\"\"INSERT INTO cklist(title,source,url) VALUES (%(title)s,%(source)s,%(url)s)\"\"\",article)\n",
    "            print('Insert successful: %s'%(article['url']))\n",
    "            okcount += 1\n",
    "        except:\n",
    "            print('%s Error: %s'%(sys.exc_info()[0],article['url']))\n",
    "            ngcount += 1\n",
    "print('OK:%s ; NG:%s'%(okcount,ngcount))"
   ]
  },
  {
   "cell_type": "code",
   "execution_count": null,
   "metadata": {
    "collapsed": false,
    "scrolled": true
   },
   "outputs": [],
   "source": [
    "# NYT test\n",
    "articles = gn.getArticlesList(365)\n",
    "okcount = 0\n",
    "ngcount = 0\n",
    "\n",
    "for article in articles:\n",
    "#     print(cat)\n",
    "    try:\n",
    "        c.execute(\"\"\"INSERT INTO cklist(title,source,url) VALUES (%(title)s,%(source)s,%(url)s)\"\"\",article)\n",
    "        print('Insert successful: %s'%(article['url']))\n",
    "        okcount += 1\n",
    "    except:\n",
    "        print('%s Error: %s'%(sys.exc_info()[0],article['url']))\n",
    "        ngcount += 1\n",
    "print('OK:%s ; NG:%s'%(okcount,ngcount))"
   ]
  },
  {
   "cell_type": "code",
   "execution_count": null,
   "metadata": {
    "collapsed": false
   },
   "outputs": [],
   "source": [
    "# BBC test\n",
    "cats = gb.getCatLinks()\n",
    "okcount = 0\n",
    "ngcount = 0\n",
    "\n",
    "for cat in cats:\n",
    "#     print(cat)\n",
    "    for article in gb.getArticlesList(cat):\n",
    "        try:\n",
    "            c.execute(\"\"\"INSERT INTO cklist(title,source,url) VALUES (%(title)s,%(source)s,%(url)s)\"\"\",article)\n",
    "            print('Insert successful: %s'%(article['url']))\n",
    "            okcount += 1\n",
    "        except:\n",
    "            print('%s Error: %s'%(sys.exc_info()[0],article['url']))\n",
    "            ngcount += 1\n",
    "print('OK:%s ; NG:%s'%(okcount,ngcount))"
   ]
  },
  {
   "cell_type": "markdown",
   "metadata": {},
   "source": [
    "<h3>Get url list from MySQL and insert to MongoDB after crawling</h3>"
   ]
  },
  {
   "cell_type": "code",
   "execution_count": 4,
   "metadata": {
    "collapsed": false
   },
   "outputs": [],
   "source": [
    "# Get connection to MySQL@10.120.28.52\n",
    "try:\n",
    "    conn = pymysql.connect(host='10.120.28.52',\n",
    "                           user='gp3',\n",
    "                           password='Group_03',\n",
    "                           db='gp3',\n",
    "                           charset='utf8',\n",
    "                           autocommit=True,\n",
    "                           cursorclass=pymysql.cursors.DictCursor)\n",
    "    c = conn.cursor()\n",
    "except:\n",
    "    print('Cannot connect to MySQL server!')"
   ]
  },
  {
   "cell_type": "code",
   "execution_count": 11,
   "metadata": {
    "collapsed": false
   },
   "outputs": [
    {
     "name": "stdout",
     "output_type": "stream",
     "text": [
      "Get 0 records.\n",
      "[]\n"
     ]
    }
   ],
   "source": [
    "# [DEBUG] Change back tag from R(already-read) to N(not-be-crawled)\n",
    "result = c.execute(\"\"\"SELECT url FROM cklist WHERE source = 'NYT' AND tag = 'R'\"\"\")\n",
    "print('Get %s records.'%(result))\n",
    "\n",
    "urls = []\n",
    "for url in c:\n",
    "    urls.append(url['url'])\n",
    "print(urls)\n",
    "\n",
    "for url in urls:\n",
    "    c.execute(\"\"\"UPDATE cklist SET tag = 'N' WHERE url = %s\"\"\",url)"
   ]
  },
  {
   "cell_type": "code",
   "execution_count": null,
   "metadata": {
    "collapsed": true
   },
   "outputs": [],
   "source": [
    "# Get connection to MongoDB@10.120.28.55\n",
    "try:\n",
    "    client = MongoClient('10.120.28.55', 27017)\n",
    "    db = client['news']\n",
    "    collection = db['news']\n",
    "except:\n",
    "    print('Cannot connect to MySQL server!')"
   ]
  },
  {
   "cell_type": "code",
   "execution_count": null,
   "metadata": {
    "collapsed": false,
    "scrolled": true
   },
   "outputs": [],
   "source": [
    "# Get unread url from cklist table\n",
    "records = c.execute(\"\"\"SELECT url FROM cklist WHERE source = 'NYT' AND tag = 'N' LIMIT 5\"\"\")\n",
    "print('Get %s records.'%(records))\n",
    "\n",
    "urls = []\n",
    "for record in c:\n",
    "    urls.append(record['url'])\n",
    "print(urls)"
   ]
  },
  {
   "cell_type": "code",
   "execution_count": null,
   "metadata": {
    "collapsed": false
   },
   "outputs": [],
   "source": [
    "# Get article content and insert into MongoDB\n",
    "for url in urls:\n",
    "    \n",
    "    art_dict = gn.getArticle(url)\n",
    "    \n",
    "    print('%s has %s paras'%(art_dict['title'],len(art_dict['content'])))\n",
    "    \n",
    "    if (len(art_dict['content']) > 1):\n",
    "        collection.insert_one(art_dict)\n",
    "        print('[Insert %s paras ok!] %s'%(len(art_dict['content']),art_dict['title']))\n",
    "    else:\n",
    "        print('[%s] is empty' % (art_dict['url']))\n",
    "        \n",
    "    c.execute(\"\"\"UPDATE cklist SET tag = 'R' WHERE url = %s\"\"\", url)"
   ]
  }
 ],
 "metadata": {
  "kernelspec": {
   "display_name": "Python 3",
   "language": "python",
   "name": "python3"
  },
  "language_info": {
   "codemirror_mode": {
    "name": "ipython",
    "version": 3
   },
   "file_extension": ".py",
   "mimetype": "text/x-python",
   "name": "python",
   "nbconvert_exporter": "python",
   "pygments_lexer": "ipython3",
   "version": "3.6.0"
  }
 },
 "nbformat": 4,
 "nbformat_minor": 2
}
