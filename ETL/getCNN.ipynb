{
 "cells": [
  {
   "cell_type": "code",
   "execution_count": 1,
   "metadata": {
    "collapsed": false,
    "scrolled": true
   },
   "outputs": [
    {
     "name": "stdout",
     "output_type": "stream",
     "text": [
      "Requirement already satisfied: requests in d:\\anaconda3_4.3.1\\lib\\site-packages\n",
      "Requirement already satisfied: beautifulsoup4 in d:\\anaconda3_4.3.1\\lib\\site-packages\n",
      "Requirement already satisfied: lxml in d:\\anaconda3_4.3.1\\lib\\site-packages\n"
     ]
    }
   ],
   "source": [
    "!pip install requests\n",
    "!pip install beautifulsoup4\n",
    "!pip install lxml"
   ]
  },
  {
   "cell_type": "code",
   "execution_count": 2,
   "metadata": {
    "collapsed": false
   },
   "outputs": [],
   "source": [
    "from bs4 import BeautifulSoup\n",
    "import lxml\n",
    "import requests as r\n",
    "import json\n",
    "from datetime import date\n",
    "from datetime import timedelta\n",
    "import json"
   ]
  },
  {
   "cell_type": "code",
   "execution_count": 3,
   "metadata": {
    "collapsed": false
   },
   "outputs": [],
   "source": [
    "#get links of all categories\n",
    "def getCateLinks():\n",
    "    main_url = 'http://edition.cnn.com/'\n",
    "    res = r.get(main_url)\n",
    "    res.encoding='unicode'\n",
    "    soup = BeautifulSoup(res.text,'lxml')\n",
    "    tags = soup.select('.m-footer__bucket_group .m-footer__link')\n",
    "    \n",
    "    urlList = []\n",
    "    \n",
    "    for tag in tags:\n",
    "        \n",
    "        #避開例外 http 開頭連結\n",
    "        if (tag['href'].lstrip('/').split('/')[0] != 'http:'):\n",
    "            urlList.append('{}'.format(main_url+tag['href'].lstrip('/')))\n",
    "    \n",
    "    return urlList"
   ]
  },
  {
   "cell_type": "code",
   "execution_count": 5,
   "metadata": {
    "collapsed": false
   },
   "outputs": [
    {
     "data": {
      "text/plain": [
       "'http://edition.cnn.com/us'"
      ]
     },
     "execution_count": 5,
     "metadata": {},
     "output_type": "execute_result"
    }
   ],
   "source": [
    "getCateLinks()[0]"
   ]
  },
  {
   "cell_type": "code",
   "execution_count": 8,
   "metadata": {
    "collapsed": false,
    "scrolled": true
   },
   "outputs": [],
   "source": [
    "#get all links of articles in each category\n",
    "def getArticleList(url):\n",
    "    \n",
    "    articleList = []\n",
    "\n",
    "    res = r.get(url)\n",
    "    res.encoding='unicode'\n",
    "    soup = BeautifulSoup(res.text,'lxml')\n",
    "    titles = soup.select('.cd__headline a')\n",
    "    \n",
    "    for num in range(len(titles)):\n",
    "        article_info = {}\n",
    "        article_info['title'] = titles[num].text\n",
    "        \n",
    "        if (titles[num]['href'].lstrip('/').split('/')[0] != 'http:'):\n",
    "            article_info['url'] = 'http://edition.cnn.com/' + titles[num]['href'].lstrip('/')\n",
    "        else:\n",
    "            article_info['url'] = titles[num]['href'].lstrip('/')\n",
    "        \n",
    "        articleList.append(article_info)\n",
    "        \n",
    "    return articleList"
   ]
  },
  {
   "cell_type": "code",
   "execution_count": 12,
   "metadata": {
    "collapsed": false
   },
   "outputs": [
    {
     "name": "stdout",
     "output_type": "stream",
     "text": [
      "[{'title': 'Scheduled to die in Arkansas: Does mental competence matter? ', 'url': 'http://edition.cnn.com/2017/04/14/health/arkansas-executions-mental-competence-eprise/index.html'}, {'title': 'Federal judge issues injunction to halt Arkansas executions ', 'url': 'http://edition.cnn.com/2017/04/15/us/arkansas-executions-halted/index.html'}]\n"
     ]
    }
   ],
   "source": [
    "test = []\n",
    "\n",
    "for i in range(0,2):\n",
    "    test.append(getArticleList(getCateLinks()[0])[i])\n",
    "    \n",
    "print(test)"
   ]
  },
  {
   "cell_type": "code",
   "execution_count": 22,
   "metadata": {
    "collapsed": false
   },
   "outputs": [],
   "source": [
    "def addContent(articleList):\n",
    "    \n",
    "    listIncludeContent = []    #output list\n",
    "    \n",
    "    for num in range(len(articleList)):\n",
    "        \n",
    "        res = r.get(articleList[num]['url'])\n",
    "        res.encoding='unicode'\n",
    "        soup = BeautifulSoup(res.text,'lxml')\n",
    "                \n",
    "        contents = soup.select('#body-text .zn-body__paragraph')\n",
    "        \n",
    "        paragraph_dict = {} \n",
    "        for numPara in range(len(contents)):\n",
    "            paragraph_dict[numPara+1] = contents[numPara].text.lstrip('•')\n",
    "        \n",
    "        article_dict = {}    #store hole article details\n",
    "        article_dict['title'] = articleList[num]['title']\n",
    "        article_dict['date'] = soup.find(itemprop = 'datePublished')['content'].split('T')[0]\n",
    "        article_dict['source'] = 'CNN'\n",
    "        article_dict['url'] = articleList[num]['url']\n",
    "        article_dict['content'] = paragraph_dict\n",
    "        \n",
    "        listIncludeContent.append(article_dict)\n",
    "            \n",
    "    return listIncludeContent"
   ]
  },
  {
   "cell_type": "code",
   "execution_count": 21,
   "metadata": {
    "collapsed": false
   },
   "outputs": [
    {
     "data": {
      "text/plain": [
       "[{'content': {1: ' (CNN)Six of the eight men Arkansas planned to execute over an 11-day period this month are not mentally fit for the death penalty, a report by a Harvard Law School initiative suggests.',\n",
       "   2: 'The report by the school\\'s Fair Punishment Project says that between mental illnesses, intellectual disabilities and \"bad lawyering,\" the orders for all eight of the executions may never have been justified.',\n",
       "   3: '\"Nobody is questioning whether people who commit some of the most serious offenses should be held accountable,\" said Rob Smith, executive director of the project, which seeks to create a fair and accountable justice system.',\n",
       "   4: '\"The question is, do people who are among the most broken, vulnerable and impaired in our society deserve the death penalty,\" he said, as opposed to life without parole. ',\n",
       "   5: \"Two of the eight were granted stays on their executions, but six of the men's fates are still being fought in the courts. \",\n",
       "   6: 'A federal judge issued an injunction Saturday to stop all executions, including the death sentence of a ninth inmate, while the court determines if the method of execution constitutes cruel and unusual punishment. ',\n",
       "   7: \"Another judge in Arkansas effectively stopped the executions Friday night, citing concerns over the lethal injection method. Pulaski County Circuit Judge Wendell Griffen issued a temporary restraining order stopping the state from using a certain drug for lethal injections. The supplier of the drug argued the medication wasn't supposed to be used for capital punishment.\",\n",
       "   8: 'The Arkansas attorney general has appealed the restraining order and vowed to appeal the federal injunction. ',\n",
       "   9: 'Should the state prevail and move forward, the executions would start Monday night. ',\n",
       "   10: \"Of the inmates who were still scheduled to die this month, one has been diagnosed with bipolar disorder, another has suffered with hallucinations, two have IQ levels indicative of intellectual impairment, and most have experienced severe abuse, according to the Fair Punishment Project's report.\",\n",
       "   11: 'Each of the Arkansas inmates who were scheduled for execution this month has been convicted of murder, and most have been on death row for a couple of decades. ',\n",
       "   12: 'The executions were set to continue through April 27. Originally eight men were scheduled to die in a rash of executions unlike anything seen since states reinstituted the death penalty in 1976, according to the Death Penalty Information Center. ',\n",
       "   13: 'Arkansas last put someone to death in 2005, so why the sudden rush? ',\n",
       "   14: 'The state\\'s supply of midazolam, a controversial drug meant to sedate inmates during lethal injections, will expire at the end of April. And Gov. Asa Hutchinson said in an earlier statement to CNN it is his \"duty\" to \"carry out these lawful sentences imposed by juries and upheld by the Arkansas Supreme Court\" before it\\'s too late.',\n",
       "   15: 'The Eighth Amendment \"bans cruel and unusual punishment,\" said Jeffrey Toobin, CNN\\'s senior legal analyst. \"Part of the issue of who can be executed is whether they can understand why they\\'re being executed. ... If you don\\'t understand why you\\'re being punished, the death penalty doesn\\'t serve the purpose it\\'s supposed to serve.\"',\n",
       "   16: 'While \"the vast majority of those on death row are poor and ignorant and mentally damaged in one way or another,\" Toobin said, \"the general rule is mental illness does not get you out of being executed; only mental retardation does. But the lines around those conditions are not extremely clear.\"',\n",
       "   17: \"In its report, the Fair Punishment Project outlined the histories of each of the eight men who had been scheduled to die this month. The report was based on court pleadings and opinions, transcripts of expert testimonies, and witness affidavits. Here's a summary of the report's findings:\",\n",
       "   18: ' Don Davis was supposed to be put to death Monday night. On two IQ tests he took as a child, Davis scored a 69 and a 77, signaling intellectual impairment, court documents show. He also suffered a serious head injury and, coupled with his low IQ level and attention-deficit hyperactivity disorder, experiences \" \\'double deficits\\' in cognitive functioning,\" the report states. Soon after his birth, both his parents abandoned him. Davis \"never received a comprehensive mental health evaluation by an independent expert,\" the report found. He has spent more than 25 years on death row. ',\n",
       "   19: ' Serious mental illnesses have plagued Jack Jones since childhood, the project\\'s review of documents showed. He endured paralyzing hallucinations and, at times, would be found rocking and banging his head against cupboards. He was abused by his father and abducted and raped by three strangers. He attempted suicide twice before he finally got psychiatric attention. He committed himself to a hospital for severe depression and suicidal ideation just months before he committed murder -- and was diagnosed with bipolar disorder not long before his crime. The jury heard \"almost none of this,\" the report states. Jones was scheduled to die April 24. ',\n",
       "   20: ' Marcel Williams\\' first experience with sexual abuse was when his mother offered him up to a friend when he was just 9 or 10, legal documents show. Starting at 12, his \"\\'mother was routinely pimping him ... in exchange for food stamps, for food, for a place to stay\\'\" to women 10, 20, 30-plus years older than him, the report quotes. He was gang-raped while in an adult prison where he served time as an adolescent. He was beaten severely and regularly by his mother, who once burned him with an electric coil. He was raised in abject poverty and didn\\'t always have shoes. A judge reversed his death sentence because Williams\\' history wasn\\'t presented to a jury, but an appellate court reinstated the sentence. Williams also was set to die April 24.',\n",
       "   21: ' Kenneth Williams has an IQ of 70, a history of \"neuropsychological problems\" and \"severe learning disabilities,\" testimonies showed. He bounced between six foster homes and often wasn\\'t adequately fed. His own parents abused drugs, and he endured physical abuse. Evidence suggests that he\\'s suffered brain damage, having exhibited a tremor, deficient motor skills and problems with memory. He has trouble focusing or comprehending what he reads or hears and has shown deficiencies when it comes to reasoning and judgment. He began smoking marijuana at 6 and turned to beer by 9 -- the same age he was when he was first institutionalized in the juvenile system. Kenneth Williams was set to die April 27.',\n",
       "   22: \" The review of records for Ledell Lee and Stacey Johnson, both of whom were scheduled to die Thursday, show inadequate legal representation, the report found. In the case of Johnson, whose conviction was based in part on the inconsistent testimony of a 6-year-old girl, there remain questions about his guilt, the report said. A claim that Lee is intellectually disabled was introduced at one point, the report showed, but the federal defender who introduced that was removed from the case. No evidence exists that Johnson's lawyers ever looked at his life history. \",\n",
       "   23: \"Jason McGehee was scheduled to be executed April 27 but was granted a temporary stay of execution April 6. McGehee's mental fitness wasn't a factor; instead, a clemency recommendation by the parole board based on good behavior prompted the stay.\",\n",
       "   24: 'But the Fair Punishment Project\\'s report found that McGehee has bipolar disorder, which went untreated when he was a child, and has shown evidence of brain damage and frontal lobe impairments. He was abused by his father, his mother and later his stepfather -- who kicked McGehee\\'s dog to death while forcing McGehee to watch. \"Jason was never the same after that,\" his aunt said in a court petition, though none of this was presented during his trial.',\n",
       "   25: 'On Friday, the Arkansas Supreme Court granted a stay of execution for Bruce Ward, who was the first scheduled to die Monday night. ',\n",
       "   26: 'According to the Fair Punishment Project report, he didn\\'t understand what was coming. He believed he was about to set off on a \"special mission as an evangelist,\" according to a complaint cited in the report. He told a forensic psychiatrist in 2010 he hears voices, he gets revelations directly from God and he will \"walk out of prison to great riches and public acclaim.\" He said he\\'s been visited in prison by his deceased father and \"resurrected dogs.\" It\\'s believed that mental illness runs in Ward\\'s family.',\n",
       "   27: 'He was 4 when his mother had a mental breakdown. She beat him regularly, put tar on him before submerging him in ice-cold water and forced him as a young boy to sleep naked beneath water that dripped through a leaking roof. ',\n",
       "   28: '\"We are grateful that the Arkansas Supreme Court has issued a stay of execution for Bruce Ward so that they may consider the serious questions presented about his sanity,\" Ward\\'s attorney, Scott Braden, said in a statement Friday evening. \"His nearly three decades in solitary confinement have only worsened his severe mental illness.\"  ',\n",
       "   29: ''},\n",
       "  'date': '2017-04-14',\n",
       "  'source': 'CNN',\n",
       "  'title': 'Scheduled to die in Arkansas: Does mental competence matter? ',\n",
       "  'url': 'http://edition.cnn.com/2017/04/14/health/arkansas-executions-mental-competence-eprise/index.html'},\n",
       " {'content': {1: \" (CNN)A federal judge in Arkansas issued an injunction Saturday halting the execution by lethal injection of nine inmates, saying the prisoners will likely succeed in demonstrating the state's proposed method of execution is unconstitutional.\",\n",
       "   2: \"The injunction represents the latest legal setback in Arkansas' attempt to execute the inmates -- eight of whom were originally set to be put to death by the end of April. One man's execution had not been scheduled yet.\",\n",
       "   3: 'A court must now decide whether the method of execution constitutes cruel and unusual punishment. ',\n",
       "   4: 'Arkansas Attorney General Leslie Rutledge appealed the decision hours after it was issued. ',\n",
       "   5: 'In her order Saturday, US District Judge Kristine Baker said there was \"a significant possibility\" the inmates will succeed in challenging the execution protocol. She said the prisoners were entitled to challenge the execution method on grounds it \"creates a demonstrated risk of severe pain.\"',\n",
       "   6: '\"The threat of irreparable harm to the plaintiffs is significant,\" she wrote. ',\n",
       "   7: 'Baker also said the state denied the inmates access to their attorneys.',\n",
       "   8: '\"The court is mindful of the fact that the state of Arkansas has not executed an inmate since 2005, despite consistent support for capital punishment from (Arkansas residents) and their elected representatives,\" she wrote.',\n",
       "   9: 'The families of the victims \"waited decades to receive some closure for their pain,\" Baker noted. \"By this order, that day is delayed yet again.',\n",
       "   10: '\"These thoughts weigh heavily on the court, but the court has a responsibility to uphold the Constitution. After hearing the evidence ... the court is compelled to stay these executions.\"',\n",
       "   11: 'John Williams, an assistant federal public defender who represents some of the death row prisoners, called on \"state officials to accept the federal court\\'s decision, cancel the frantic execution schedule, and propose a legal and humane method to carry out its executions.\"',\n",
       "   12: '\"The unnecessarily compressed execution schedule using the risky drug midazolam denies prisoners their right to be free from the risk of torture,\" he said in a statement, referring to the drug used to render inmates unconscious before they are given two other drugs that paralyze and kill them.  ',\n",
       "   13: \"The state's schedule of eight executions using midazolam between April 17 and 27 has been condemned by capital punishment opponents in the United States and abroad. Attorneys for the inmates said no state has attempted to conduct executions at the pace proposed by Arkansas in at least half a century.  \",\n",
       "   14: 'Arkansas planned to execute the eight before its supply of lethal injection drugs expires at the end of the month. ',\n",
       "   15: 'Whichever side loses the appeal will likely take the case before the US Supreme Court, according to Carl Tobias, a professor at the University of Richmond School of Law in Virginia. The latest appeal could conclude as soon as the coming week, he said.',\n",
       "   16: 'Another judge blocks executions',\n",
       "   17: 'A state judge in Arkansas effectively stopped the executions Friday night, citing concerns over the lethal injection method. ',\n",
       "   18: 'Pulaski County Circuit Judge Wendell Griffen issued a temporary restraining order stopping the state from using the drug of vecuronium bromide for lethal injections.',\n",
       "   19: 'The supplier of the drug, McKesson Medical-Surgical, argued the medication wasn\\'t intended to be used for capital punishment. McKesson argued vecuronium bromide is for medical purposes, and that the Arkansas Department of Correction \"misled\" the company when it purchased the drug by phone, according to a court brief.',\n",
       "   20: 'McKesson is asking the Department of Correction to return 10 vials of the drug.',\n",
       "   21: \"Saturday, McKesson filed a motion to have the restraining order lifted because of the federal judge's ruling. \",\n",
       "   22: 'McKesson said: \"The imminent danger that defendants (the state) would use McKesson\\'s property and be unable to return it has been addressed by the federal court\\'s preliminary injunction order. Consequently, there is no need for the temporary restraining order at this time.\" ',\n",
       "   23: \"Rutledge, the state attorney general, had filed an emergency petition to overturn the Griffen's order.\",\n",
       "   24: 'Two other drug companies, Fresenius Kabi USA and West-Ward Pharmaceuticals Corp., filed a brief in US District Court for the Eastern District of Arkansas arguing contracts prohibit their products from being used in executions, which run \"counter to the manufacturers\\' mission to save and enhance patients\\' lives.\" ',\n",
       "   25: 'Controversial plan on executions',\n",
       "   26: 'Two of the eight executions planned for this month already had been blocked in separate proceedings.',\n",
       "   27: \"A federal judge on April 6 blocked the execution of Jason McGehee. The Arkansas Parole Board had earlier voted to recommend that McGehee's death sentence be commuted to life without parole, and the judge ruled McGehee's April 27 execution date would not have given the board enough time, as required by law, to notify the governor of its recommendation.\",\n",
       "   28: 'Friday, the Arkansas Supreme Court also blocked the execution of Bruce Ward.',\n",
       "   29: \"Attorneys argued that Ward, 60, should not be executed because he's mentally incompetent. He's been on death row since 1990 for strangling a woman in a convenience store bathroom, CNN affiliate KARK-TV in Little Rock reported. \",\n",
       "   30: 'A report by a Harvard Law School initiative suggests six of the eight men Arkansas plans to execute by the end of April are not mentally fit for the death penalty, including Ward.',\n",
       "   31: 'According to the report, Ward told a forensic psychiatrist in 2010 that he hears voices, he gets revelations directly from God and he will \"walk out of prison to great riches and public acclaim.\" He said he\\'s been visited in prison by his deceased father and \"resurrected dogs.\" ',\n",
       "   32: 'In March, Gov. Asa Hutchinson announced his controversial plan to execute eight inmates in a little more than a week, starting April 17.',\n",
       "   33: 'Defense attorneys argued that midazolam does not effectively keep those being executed from experiencing a painful death. ',\n",
       "   34: '\"If midazolam does not adequately anesthetize plaintiffs, or if their executions are \\'botched,\\' they will suffer severe pain before they die,\" Baker wrote in her order Saturday.',\n",
       "   35: 'Ward was one of two inmates set to die Monday. Don William Davis was also scheduled to be executed then.',\n",
       "   36: \"CNN's Shawn Nottingham, Sheena Jones and Jessica Ravitz contributed to this report. \"},\n",
       "  'date': '2017-04-15',\n",
       "  'source': 'CNN',\n",
       "  'title': 'Federal judge issues injunction to halt Arkansas executions ',\n",
       "  'url': 'http://edition.cnn.com/2017/04/15/us/arkansas-executions-halted/index.html'}]"
      ]
     },
     "execution_count": 21,
     "metadata": {},
     "output_type": "execute_result"
    }
   ],
   "source": [
    "addContent(test)"
   ]
  },
  {
   "cell_type": "code",
   "execution_count": 15,
   "metadata": {
    "collapsed": false
   },
   "outputs": [],
   "source": [
    "def jsonOut(targetList):\n",
    "    day = date.today().strftime('%Y%m%d')\n",
    "    with open('{}_CNNoutput.json'.format(day), 'w') as f:\n",
    "        json.dump(targetList, f)\n",
    "        f.close()\n",
    "    print('File {}_CNNoutput.json has been created!'.format(day))"
   ]
  },
  {
   "cell_type": "code",
   "execution_count": 16,
   "metadata": {
    "collapsed": false
   },
   "outputs": [
    {
     "name": "stdout",
     "output_type": "stream",
     "text": [
      "File 20170416_CNNoutput.json has been created!\n"
     ]
    }
   ],
   "source": [
    "jsonOut(addContent(test))"
   ]
  }
 ],
 "metadata": {
  "kernelspec": {
   "display_name": "Python 3",
   "language": "python",
   "name": "python3"
  },
  "language_info": {
   "codemirror_mode": {
    "name": "ipython",
    "version": 3
   },
   "file_extension": ".py",
   "mimetype": "text/x-python",
   "name": "python",
   "nbconvert_exporter": "python",
   "pygments_lexer": "ipython3",
   "version": "3.6.0"
  }
 },
 "nbformat": 4,
 "nbformat_minor": 2
}
