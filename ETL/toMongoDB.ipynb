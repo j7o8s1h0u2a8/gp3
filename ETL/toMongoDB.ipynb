{
 "cells": [
  {
   "cell_type": "code",
   "execution_count": 1,
   "metadata": {
    "collapsed": true
   },
   "outputs": [],
   "source": [
    "from pymongo import MongoClient\n",
    "import pymongo\n",
    "\n",
    "import getCNN as gc"
   ]
  },
  {
   "cell_type": "code",
   "execution_count": 2,
   "metadata": {
    "collapsed": false
   },
   "outputs": [],
   "source": [
    "client = MongoClient('10.120.28.55', 27017)\n",
    "db = client['news']\n",
    "collection = db['news']"
   ]
  },
  {
   "cell_type": "code",
   "execution_count": 4,
   "metadata": {
    "collapsed": false,
    "scrolled": true
   },
   "outputs": [
    {
     "name": "stdout",
     "output_type": "stream",
     "text": [
      "[http://edition.cnn.com/videos/politics/2017/04/18/jon-ossoff-georgia-6th-district-sot-newday.cnn] is empty\n",
      "[http://edition.cnn.com/videos/politics/2017/04/16/georgia-congressional-seat-battle-sandoval-pkg-nr.cnn] is empty\n",
      "[http://edition.cnn.com/videos/world/2017/04/17/defoe-friendship-with-ill-boy.cnn] is empty\n",
      "[http://inhealth.cnn.com/advances-in-immunotherapy/kidney-cancer-learning-challenge?did=t1_atftxt] is empty\n",
      "[http://money.cnn.com/2017/04/18/pf/taxes/tax-day/index.html] is empty\n",
      "[http://money.cnn.com/2017/04/18/technology/snapchat-3d-filters/index.html] is empty\n",
      "[http://money.cnn.com/2017/04/18/news/economy/imf-world-economic-outlook/index.html] is empty\n",
      "[http://www.cbs46.com/story/35166772/section-of-wb-i-20-buckles-highway-shut-down] is empty\n",
      "[http://wwlp.com/2017/04/16/terminally-ill-springfield-man-helps-local-children-in-need/] is empty\n",
      "[http://www.mynews13.com/content/news/cfnews13/news/article.html/content/news/articles/cfn/2017/4/17/fatal_williston_plan.html] is empty\n",
      "[http://baltimore.cbslocal.com/2017/04/15/new-playground-for-community-affected-by-violence-in-aftermath-of-freddie-gray/] is empty\n",
      "[http://boston.cbslocal.com/2017/04/17/boston-marathon-weather-heat-high-temperature/] is empty\n",
      "[http://newyork.cbslocal.com/2017/04/14/queens-graffiti-students-art/] is empty\n",
      "[http://pittsburgh.cbslocal.com/2017/04/14/police-find-chihuahua-drunk-on-vodka-rush-him-to-the-vet/] is empty\n",
      "[http://pix11.com/2017/04/17/10-year-old-girl-hit-by-stray-bullet-man-killed-in-jersey-city-shooting-police/] is empty\n",
      "[http://www.abcactionnews.com/entertainment/celebrity/police-chris-brown-punched-club-photographer-in-tampa] is empty\n",
      "[http://www.foxcarolina.com/story/35162881/upstate-students-bring-prom-to-teen-battling-cancer] is empty\n",
      "[http://dfw.cbslocal.com/2017/04/16/plano-churchs-rainbow-flag-stolen-and-replaced-with-american/] is empty\n",
      "[http://chicago.cbslocal.com/2017/04/16/massive-fights-breaks-out-at-south-side-carnival/] is empty\n",
      "[http://kfor.com/2017/04/15/graphic-video-shows-oklahoma-city-grandmother-dressed-as-a-witch-while-abusing-grandchild/] is empty\n",
      "[http://cw33.com/2017/04/17/high-school-seniors-prank-goes-viral/] is empty\n",
      "[http://wgntv.com/2017/04/17/man-shot-to-death-on-south-side-red-line-platform/] is empty\n",
      "[http://fox17online.com/2017/04/16/he-was-bitten-mother-wants-answers-after-her-baby-was-found-dead-at-a-muskegon-daycare/] is empty\n",
      "[http://www.wnem.com/story/35164644/south-korean-student-feel-safe-in-us-despite-rising-tensions-with-n-korea] is empty\n",
      "[http://fox2now.com/2017/04/13/from-animal-shelter-to-crime-fighter-k9-officer-gets-second-shot-at-life/] is empty\n",
      "[http://www.kctv5.com/story/35152823/boy-with-autism-finds-comfort-riding-roller-coasters-and-helping-others] is empty\n",
      "[http://www.fox47news.com/news/local-news/update-woman-found-under-train-dies-of-injuries] is empty\n",
      "[http://fox40.com/2017/04/15/6-year-old-dreams-of-being-mustachioed-police-officer/] is empty\n",
      "[http://fox5sandiego.com/2017/04/16/families-divided-by-border-celebrate-easter-send-message-of-immigration-reform/] is empty\n",
      "[http://kdvr.com/2017/04/16/undocumented-immigrant-seeking-sanctuary-in-denver-church-hasnt-been-outside-in-2-months/] is empty\n",
      "[http://losangeles.cbslocal.com/2017/04/14/fake-anti-immigrant-signs-pop-up-near-beverly-hills/] is empty\n",
      "[http://sanfrancisco.cbslocal.com/2017/04/16/viral-video-shows-white-supremacist-sucker-punch-berkeley-anti-trump-protester/] is empty\n",
      "[http://fox13now.com/2017/04/14/utah-woman-picks-up-national-garbage-truck-driver-of-the-year-award/] is empty\n",
      "[http://www.10news.com/news/san-diego-running-star-meb-keflezighi-running-final-boston-marathon-today] is empty\n",
      "[http://www.ktnv.com/news/henderson-family-hopes-viral-video-catches-presidents-attention] is empty\n",
      "[http://www.cbs5az.com/story/35164576/woman-teen-swept-away-while-hiking-in-grand-canyon-national-park-search-continues] is empty\n",
      "[http://denver.cbslocal.com/2017/04/12/family-turns-in-son-months-after-murder-of-16-year-old/] is empty\n",
      "[http://bleacherreport.com/articles/2704162-survivors-guide-to-reaching-the-nfl-draft-without-losing-your-mind?utm_source=cnn.com&utm_medium=referral&utm_campaign=editorial] is empty\n",
      "[http://bleacherreport.com/articles/2679646-how-social-media-saved-a-legendary-mma-fighter-plagued-by-thoughts-of-suicide?utm_source=cnn.com&utm_medium=referral&utm_campaign=editorial] is empty\n",
      "[http://bleacherreport.com/articles/2703683-boston-marathon-bombing-survivor-engaged-to-firefighter-who-helped-save-her-life?utm_source=cnn.com&utm_medium=referral&utm_campaign=editorial] is empty\n",
      "[http://bleacherreport.com/articles/2703837-5-star-sf-recruit-kevin-knox-turned-down-14-million-deal-to-play-in-china?utm_source=cnn.com&utm_medium=referral&utm_campaign=editorial] is empty\n",
      "[http://bleacherreport.com/articles/2704190-diego-sanchez-medical-marijuana-almost-killed-me?utm_source=cnn.com&utm_medium=referral&utm_campaign=editorial] is empty\n",
      "[http://edition.cnn.com/videos/tv/2016/12/16/cnnheroes-heroes-in-the-classroom.cnn] is empty\n",
      "[http://edition.cnn.com/videos/us/2017/04/10/cnnheroes-heroes-in-the-classroom-extra.cnn] is empty\n",
      "[http://edition.cnn.com/videos/us/2017/04/17/sean-spicer-reads-to-kids-at-the-easter-egg-roll-orig-tc.cnn/video/playlists/cant-miss/] is empty\n",
      "[http://edition.cnn.com/videos/cnnmoney/2017/04/16/snl-jimmy-fallon-kushner-bannon-trump-erm-orig-money.nbc-broadway-video/video/playlists/cant-miss/] is empty\n",
      "[http://edition.cnn.com/videos/entertainment/2017/04/12/soundtracks-nina-simone-orig-mc.cnn/video/playlists/cant-miss/] is empty\n",
      "[http://edition.cnn.com/videos/world/2017/04/17/us-f35-jets-arrive-in-europe-mxb-orig.cnn/video/playlists/cant-miss/] is empty\n",
      "[http://edition.cnn.com/videos/cnnmoney/2017/04/16/spicer-easter-bunny-snl-erm-orig-money.nbc-broadway-video/video/playlists/cant-miss/] is empty\n",
      "[http://edition.cnn.com/videos/politics/2017/04/14/moab-blast-video-newday.cnn/video/playlists/cant-miss/] is empty\n",
      "[http://edition.cnn.com/videos/health/2017/04/13/abortion-and-faith-orig.cnn/video/playlists/cant-miss/] is empty\n",
      "[http://edition.cnn.com/videos/us/2017/04/13/cop-beats-alleged-jaywalker-orig-tc.cnn/video/playlists/cant-miss/] is empty\n",
      "[http://edition.cnn.com/videos/us/2017/04/14/united-airlines-scorpion-on-plane-ekr-orig-vstop.cnn/video/playlists/cant-miss/] is empty\n",
      "[http://edition.cnn.com/videos/us/2017/04/14/don-lemon-jeffrey-lord-symone-sanders-donald-trump-mlk-race-panel-ctn.cnn/video/playlists/cant-miss/] is empty\n",
      "[http://edition.cnn.com/videos/world/2017/04/13/trump-u-turn-nato-syria-russia-china-sje-orig.cnn/video/playlists/cant-miss/] is empty\n",
      "[http://edition.cnn.com/videos/world/2017/04/13/bashar-al-assad-interview-chemical-attack-sje-orig.cnn/video/playlists/cant-miss/] is empty\n",
      "[http://ck.lendingtree.com/?a=343&c=1229&p=r&s1=sections&ctype=sectionfronts&cmethod=form&ccreative=2017mortrates] is empty\n",
      "[http://ck.lendingtree.com/?a=343&c=1131&p=r&s1=sections&ctype=sectionfronts&cmethod=amazingva&ccreative=va2] is empty\n",
      "[http://ck.lendingtree.com/?a=343&c=1124&p=r&s1=sections&ctype=sectionfronts&cmethod=rmrightforyou&ccreative=rmworth] is empty\n",
      "[http://www.comparecards.com/guide/pay-0-interest-until-2019?utm_source=cnn&utm_campaign=sectionfront&grp=guide-pay-0-interest-until-2019&utm_content=2+cards+charging+0%25+interest+until+2019&utm_medium=native&pla=cnn&tar=sectionfront&pos=1&acqs=prospecting&bdst=rv&adt=2890] is empty\n",
      "[http://www.comparecards.com/guide/top-credit-cards-for-those-with-excellent-credit?utm_source=cnn&utm_campaign=sectionfront&grp=guide-top-credit-cards-for-those-with-excellent-credit&utm_content=Insane+rewards+%28but+only+for+those+with+great+credit%29&utm_medium=native&pla=cnn&tar=sectionfront&pos=2&acqs=prospecting&bdst=rv&adt=2890] is empty\n",
      "[http://www.comparecards.com/guide/blue-cash-everyday-sm-card-from-american-express?utm_source=cnn&utm_campaign=sectionfront&grp=guide-blue-cash-everyday-sm-card-from-american-express&utm_content=The+best+cash+back+card+has+finally+arrived&utm_medium=native&pla=cnn&tar=sectionfront&pos=3&acqs=prospecting&bdst=rv&adt=2890] is empty\n",
      "[https://www.trulia.com/sell/?cid=bsd%7Ccnn%7Cbsd_forsale_tsa%7Ccnn_US_c_0&ts=cnn&tscamp=cnn_US_c_0] is empty\n",
      "[https://www.trulia.com/CA/San_Diego/?cid=bsd%7Ccnn%7Cbsd_forsale_city%7Ccnn_US_sandiegohomesforsale_none&ts=cnn&tscamp=cnn_US_sandiegohomesforsale_none] is empty\n",
      "[https://www.trulia.com/sell/?cid=bsd%7Ccnn%7Cbsd_forsale_tsa%7Ccnn_US_a_0&ts=cnn&tscamp=cnn_US_a_0] is empty\n"
     ]
    }
   ],
   "source": [
    "caturl = gc.getCatLinks()[0]\n",
    "articles = gc.getArticlesList(caturl)\n",
    "\n",
    "for article in articles:\n",
    "    art_dict = gc.getArticle(article['url'])\n",
    "    if (len(art_dict['content']) != 0):\n",
    "        collection.insert_one(art_dict)\n",
    "    else:\n",
    "        print('[%s] is empty'%(art_dict['url']))"
   ]
  }
 ],
 "metadata": {
  "kernelspec": {
   "display_name": "Python 3",
   "language": "python",
   "name": "python3"
  },
  "language_info": {
   "codemirror_mode": {
    "name": "ipython",
    "version": 3
   },
   "file_extension": ".py",
   "mimetype": "text/x-python",
   "name": "python",
   "nbconvert_exporter": "python",
   "pygments_lexer": "ipython3",
   "version": "3.6.0"
  }
 },
 "nbformat": 4,
 "nbformat_minor": 2
}
