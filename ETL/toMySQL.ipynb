{
 "cells": [
  {
   "cell_type": "code",
   "execution_count": 18,
   "metadata": {
    "collapsed": false
   },
   "outputs": [
    {
     "name": "stdout",
     "output_type": "stream",
     "text": [
      "Requirement already satisfied: PyMySQL in c:\\python\\lib\\site-packages\n"
     ]
    }
   ],
   "source": [
    "!pip install PyMySQL"
   ]
  },
  {
   "cell_type": "code",
   "execution_count": 19,
   "metadata": {
    "collapsed": false
   },
   "outputs": [],
   "source": [
    "import sys\n",
    "import pymysql\n",
    "import datetime\n",
    "\n",
    "import getNYT"
   ]
  },
  {
   "cell_type": "code",
   "execution_count": 23,
   "metadata": {
    "collapsed": false
   },
   "outputs": [],
   "source": [
    "try:\n",
    "    conn = pymysql.connect(host='10.120.28.52',\n",
    "                       user='gp3',\n",
    "                       password='Group_03',\n",
    "                       db='gp3',\n",
    "                       charset='utf8',\n",
    "                       autocommit=True,\n",
    "                       cursorclass=pymysql.cursors.DictCursor)\n",
    "    c= conn.cursor()\n",
    "except:\n",
    "    print('Cannot connect to MySQL server!')"
   ]
  },
  {
   "cell_type": "code",
   "execution_count": 24,
   "metadata": {
    "collapsed": false,
    "scrolled": true
   },
   "outputs": [
    {
     "name": "stdout",
     "output_type": "stream",
     "text": [
      "https://www.nytimes.com/2017/04/14/world/africa/chibok-girls-nigeria-boko-haram.html?ref=todayspaper\n",
      "https://www.nytimes.com/2017/04/14/world/europe/paris-tourism.html?ref=todayspaper\n",
      "https://www.nytimes.com/2017/04/14/world/europe/trump-tower-neighbor-europe-populists-orban-wilders-le-pen.html?ref=todayspaper\n",
      "https://www.nytimes.com/2017/04/14/world/africa/congo-un-investigators-murder-arrests.html?ref=todayspaper\n",
      "https://www.nytimes.com/2017/04/14/world/asia/south-korea-election-ahn-cheol-soo.html?ref=todayspaper\n",
      "https://www.nytimes.com/2017/04/14/world/asia/bomb-afghanistan.html?ref=todayspaper\n",
      "https://www.nytimes.com/2017/04/14/world/middleeast/syria-towns-sieges-population-transfers-assad.html?ref=todayspaper\n",
      "https://www.nytimes.com/2017/04/14/world/middleeast/bana-al-abed-syria-aleppo-twitter-book-deal.html?ref=todayspaper\n",
      "https://www.nytimes.com/2017/04/14/world/europe/turkey-erdogan-democracy-referendum.html?ref=todayspaper\n",
      "https://www.nytimes.com/2017/04/14/world/europe/turkish-diaspora-weighs-in-on-erdogans-bid-to-bolster-his-power.html?ref=todayspaper\n",
      "https://www.nytimes.com/2017/04/14/world/europe/stockholm-attack-isis-rakhmat-akilov.html?ref=todayspaper\n",
      "https://www.nytimes.com/2017/04/14/world/middleeast/british-tourist-killed-jerusalem.html?ref=todayspaper\n",
      "https://www.nytimes.com/2017/04/14/us/politics/trump-policy-conservatives-rush-limbaugh.html?ref=todayspaper\n",
      "https://www.nytimes.com/2017/04/14/us/joseph-jakubowski-arrested-trump.html?ref=todayspaper\n",
      "https://www.nytimes.com/2017/04/14/us/politics/claire-mccaskill-missouri-election-trump.html?ref=todayspaper\n",
      "https://www.nytimes.com/2017/04/14/business/china-currency-manipulation-trump.html?ref=todayspaper\n",
      "https://www.nytimes.com/2017/04/14/us/politics/russia-investigation-cyprus-mike-quigley.html?ref=todayspaper\n",
      "https://www.nytimes.com/2017/04/14/us/arkansas-is-accused-of-deception-in-buying-drug-used-in-executions.html?ref=todayspaper\n",
      "https://www.nytimes.com/2017/04/14/us/politics/trump-raises-millions-for-2020-re-election-bid.html?ref=todayspaper\n",
      "https://www.nytimes.com/2017/04/14/arts/michael-ballhaus-cinematographer-dead.html?ref=todayspaper\n",
      "https://www.nytimes.com/2017/04/14/opinion/mr-cuomos-free-college-plan.html?ref=todayspaper\n",
      "https://www.nytimes.com/2017/04/14/opinion/the-one-sided-gun-war-of-the-sexes.html?ref=todayspaper\n",
      "https://www.nytimes.com/2017/04/14/opinion/pressuring-venezuelas-leader-to-back-down.html?ref=todayspaper\n",
      "https://www.nytimes.com/2017/04/14/opinion/the-inspiration-of-ample-india.html?ref=todayspaper\n",
      "https://www.nytimes.com/2017/04/14/opinion/fearless-girl-doesnt-need-any-bull.html?ref=todayspaper\n",
      "https://www.nytimes.com/2017/04/14/opinion/whats-in-your-microwave-oven.html?ref=todayspaper\n",
      "https://www.nytimes.com/2017/04/14/opinion/the-wrong-way-to-keep-kids-safe-from-predators.html?ref=todayspaper\n",
      "https://www.nytimes.com/2017/04/14/opinion/trumps-turnabouts-in-foreign-policy.html?ref=todayspaper\n",
      "https://www.nytimes.com/2017/04/14/opinion/how-to-foster-good-corporate-citizenship.html?ref=todayspaper\n",
      "https://www.nytimes.com/2017/04/14/opinion/a-roosevelts-plea-to-support-the-arts.html?ref=todayspaper\n",
      "https://www.nytimes.com/2017/04/14/nyregion/adult-homes-mentally-ill-new-york.html?ref=todayspaper\n",
      "https://www.nytimes.com/2017/04/14/nyregion/for-mayor-de-blasio-listening-tour-on-staten-island-yields-action.html?ref=todayspaper\n",
      "https://www.nytimes.com/2017/04/14/nyregion/choate-school-sex-abuse-connecticut.html?ref=todayspaper\n",
      "https://www.nytimes.com/2017/04/13/nyregion/self-storage-new-york-city.html?ref=todayspaper\n",
      "https://www.nytimes.com/2017/04/14/nyregion/four-killed-ms-13-gangs-long-island-honduras.html?ref=todayspaper\n",
      "https://www.nytimes.com/2017/04/14/arts/music/j-cole-4-your-eyez-only-hbo-interview.html?ref=todayspaper\n",
      "https://www.nytimes.com/2017/04/14/arts/design/one-artists-melancholy-look-at-missing-african-american-women.html?ref=todayspaper\n",
      "https://www.nytimes.com/2017/04/14/arts/music/rosenkavalier-renee-fleming-met.html?ref=todayspaper\n",
      "https://www.nytimes.com/2017/04/14/arts/music/eurovision-2017-russia-ukraine.html?ref=todayspaper\n",
      "https://www.nytimes.com/2017/04/12/arts/design/andrea-palladio-italian-team-says-2-portraits-show-the-architect.html?ref=todayspaper\n",
      "https://www.nytimes.com/2017/04/14/theater/amazing-grace-musical-museum-of-the-bible-washington.html?ref=todayspaper\n",
      "https://www.nytimes.com/2017/04/14/arts/music/bachs-st-john-passion-has-more-humanity-than-anti-semitism.html?ref=todayspaper\n",
      "https://www.nytimes.com/2017/04/14/arts/television/veep-season-6-tv-review.html?ref=todayspaper\n",
      "https://www.nytimes.com/2017/04/15/arts/television/whats-on-tv-saturday-suicide-squad-and-doctor-who-with-class.html?ref=todayspaper\n",
      "https://www.nytimes.com/2017/04/14/business/dealbook/education-department-federal-student-loan-program.html?ref=todayspaper\n",
      "https://www.nytimes.com/2017/04/14/your-money/baby-fertility-clinic-package-deals.html?ref=todayspaper\n",
      "https://www.nytimes.com/2017/04/14/business/media/oreilly-behavior-megyn-kelly-fox.html?ref=todayspaper\n",
      "https://www.nytimes.com/2017/04/14/business/american-express-chase-sapphire-reserve.html?ref=todayspaper\n",
      "https://www.nytimes.com/2017/04/14/your-money/to-trim-the-tuition-bill-haggle-or-hire-a-haggler.html?ref=todayspaper\n",
      "https://www.nytimes.com/2017/04/14/your-money/wealth-matters-philanthropy-david-callahan.html?ref=todayspaper\n",
      "https://www.nytimes.com/2017/04/14/business/yourtaxes/student-loans-tax-refund.html?ref=todayspaper\n",
      "https://www.nytimes.com/2017/04/14/business/dealbook/abbott-alere.html?ref=todayspaper\n",
      "https://www.nytimes.com/2017/04/14/business/energy-environment/offshore-wind-subsidy-dong-energy.html?ref=todayspaper\n",
      "https://www.nytimes.com/2017/04/14/technology/apple-self-driving-car-permit.html?ref=todayspaper\n",
      "https://www.nytimes.com/2017/04/14/technology/amid-questions-over-its-culture-uber-discloses-robust-financial-figures.html?ref=todayspaper\n",
      "https://www.nytimes.com/2017/04/14/us/politics/john-bates-clark-medal-david-donaldson.html?ref=todayspaper\n",
      "https://www.nytimes.com/2017/04/14/business/export-import-bank-trump-scott-garrett.html?ref=todayspaper\n",
      "https://www.nytimes.com/2017/04/14/sports/basketball/knicks-phil-jackson-breaks-the-silence-but-the-turmoil-is-intact.html?ref=todayspaper\n",
      "https://www.nytimes.com/2017/04/14/sports/basketball/james-harden-russell-westbrook-david-robinson.html?ref=todayspaper\n",
      "https://www.nytimes.com/2017/04/14/sports/soccer/bbc-premier-league-match-of-the-day.html?ref=todayspaper\n",
      "https://www.nytimes.com/2017/04/13/sports/nba-playoffs-schedule-preview.html?ref=todayspaper\n",
      "https://www.nytimes.com/2017/04/14/sports/phil-jackson-carmelo-anthony-ny-knicks.html?ref=todayspaper\n",
      "https://www.nytimes.com/2017/04/14/sports/football/aaron-hernandez-not-guilty.html?ref=todayspaper\n",
      "https://www.nytimes.com/2017/04/15/sports/rod-carew-konrad-reuland-organ-transplant.html?ref=todayspaper\n",
      "https://www.nytimes.com/2017/04/14/sports/baseball/aroldis-chapman-new-york-yankees-st-louis-cardinals.html?ref=todayspaper\n",
      "https://www.nytimes.com/2017/04/15/sports/baseball/fatigued-mets-bullpen-marlins.html?ref=todayspaper\n",
      "https://www.nytimes.com/2017/04/15/sports/hockey/rangers-lose-to-canadiens-game-2.html?ref=todayspaper\n",
      "https://www.nytimes.com/2017/04/14/sports/hockey/womens-hockey-equality-justine-blainey-broker.html?ref=todayspaper\n"
     ]
    }
   ],
   "source": [
    "articleList = getNYT.getArticleList(nDays=1)\n",
    "\n",
    "for i in range(len(articleList)):\n",
    "    print(articleList[i]['url'])"
   ]
  },
  {
   "cell_type": "code",
   "execution_count": 27,
   "metadata": {
    "collapsed": false
   },
   "outputs": [
    {
     "name": "stdout",
     "output_type": "stream",
     "text": [
      "error occurs (<class 'pymysql.err.IntegrityError'>, IntegrityError(1062, \"Duplicate entry 'https://www.nytimes.com/2017/04/14/world/africa/chibok-girls-nig' for key 'PRIMARY'\"), <traceback object at 0x00000000080E2048>)\n",
      "error occurs (<class 'pymysql.err.IntegrityError'>, IntegrityError(1062, \"Duplicate entry 'https://www.nytimes.com/2017/04/14/world/europe/paris-tourism.ht' for key 'PRIMARY'\"), <traceback object at 0x00000000080E20C8>)\n",
      "error occurs (<class 'pymysql.err.IntegrityError'>, IntegrityError(1062, \"Duplicate entry 'https://www.nytimes.com/2017/04/14/world/europe/trump-tower-neig' for key 'PRIMARY'\"), <traceback object at 0x00000000080E2088>)\n",
      "error occurs (<class 'pymysql.err.IntegrityError'>, IntegrityError(1062, \"Duplicate entry 'https://www.nytimes.com/2017/04/14/world/africa/congo-un-investi' for key 'PRIMARY'\"), <traceback object at 0x00000000080E2D08>)\n",
      "error occurs (<class 'pymysql.err.IntegrityError'>, IntegrityError(1062, \"Duplicate entry 'https://www.nytimes.com/2017/04/14/world/asia/south-korea-electi' for key 'PRIMARY'\"), <traceback object at 0x00000000080E2088>)\n",
      "error occurs (<class 'pymysql.err.IntegrityError'>, IntegrityError(1062, \"Duplicate entry 'https://www.nytimes.com/2017/04/14/world/asia/bomb-afghanistan.h' for key 'PRIMARY'\"), <traceback object at 0x00000000080E2D08>)\n",
      "error occurs (<class 'pymysql.err.IntegrityError'>, IntegrityError(1062, \"Duplicate entry 'https://www.nytimes.com/2017/04/14/world/middleeast/syria-towns-' for key 'PRIMARY'\"), <traceback object at 0x00000000080E2088>)\n",
      "error occurs (<class 'pymysql.err.IntegrityError'>, IntegrityError(1062, \"Duplicate entry 'https://www.nytimes.com/2017/04/14/world/middleeast/bana-al-abed' for key 'PRIMARY'\"), <traceback object at 0x00000000080E2D08>)\n",
      "error occurs (<class 'pymysql.err.IntegrityError'>, IntegrityError(1062, \"Duplicate entry 'https://www.nytimes.com/2017/04/14/world/europe/turkey-erdogan-d' for key 'PRIMARY'\"), <traceback object at 0x00000000080E2088>)\n",
      "error occurs (<class 'pymysql.err.IntegrityError'>, IntegrityError(1062, \"Duplicate entry 'https://www.nytimes.com/2017/04/14/world/europe/turkish-diaspora' for key 'PRIMARY'\"), <traceback object at 0x00000000080E2D08>)\n",
      "error occurs (<class 'pymysql.err.IntegrityError'>, IntegrityError(1062, \"Duplicate entry 'https://www.nytimes.com/2017/04/14/world/europe/stockholm-attack' for key 'PRIMARY'\"), <traceback object at 0x00000000080E2088>)\n",
      "error occurs (<class 'pymysql.err.IntegrityError'>, IntegrityError(1062, \"Duplicate entry 'https://www.nytimes.com/2017/04/14/world/middleeast/british-tour' for key 'PRIMARY'\"), <traceback object at 0x00000000080E2D08>)\n",
      "error occurs (<class 'pymysql.err.IntegrityError'>, IntegrityError(1062, \"Duplicate entry 'https://www.nytimes.com/2017/04/14/us/politics/trump-policy-cons' for key 'PRIMARY'\"), <traceback object at 0x00000000080E2088>)\n",
      "error occurs (<class 'pymysql.err.IntegrityError'>, IntegrityError(1062, \"Duplicate entry 'https://www.nytimes.com/2017/04/14/us/joseph-jakubowski-arrested' for key 'PRIMARY'\"), <traceback object at 0x00000000080E2D08>)\n",
      "error occurs (<class 'pymysql.err.IntegrityError'>, IntegrityError(1062, \"Duplicate entry 'https://www.nytimes.com/2017/04/14/us/politics/claire-mccaskill-' for key 'PRIMARY'\"), <traceback object at 0x00000000080E2088>)\n",
      "error occurs (<class 'pymysql.err.IntegrityError'>, IntegrityError(1062, \"Duplicate entry 'https://www.nytimes.com/2017/04/14/business/china-currency-manip' for key 'PRIMARY'\"), <traceback object at 0x00000000080E2D08>)\n",
      "error occurs (<class 'pymysql.err.IntegrityError'>, IntegrityError(1062, \"Duplicate entry 'https://www.nytimes.com/2017/04/14/us/politics/russia-investigat' for key 'PRIMARY'\"), <traceback object at 0x00000000080E2088>)\n",
      "error occurs (<class 'pymysql.err.IntegrityError'>, IntegrityError(1062, \"Duplicate entry 'https://www.nytimes.com/2017/04/14/us/arkansas-is-accused-of-dec' for key 'PRIMARY'\"), <traceback object at 0x00000000080E2D08>)\n",
      "error occurs (<class 'pymysql.err.IntegrityError'>, IntegrityError(1062, \"Duplicate entry 'https://www.nytimes.com/2017/04/14/us/politics/trump-raises-mill' for key 'PRIMARY'\"), <traceback object at 0x00000000080E2088>)\n",
      "error occurs (<class 'pymysql.err.IntegrityError'>, IntegrityError(1062, \"Duplicate entry 'https://www.nytimes.com/2017/04/14/arts/michael-ballhaus-cinemat' for key 'PRIMARY'\"), <traceback object at 0x00000000080E2D08>)\n",
      "error occurs (<class 'pymysql.err.IntegrityError'>, IntegrityError(1062, \"Duplicate entry 'https://www.nytimes.com/2017/04/14/opinion/mr-cuomos-free-colleg' for key 'PRIMARY'\"), <traceback object at 0x00000000080E2088>)\n",
      "error occurs (<class 'pymysql.err.IntegrityError'>, IntegrityError(1062, \"Duplicate entry 'https://www.nytimes.com/2017/04/14/opinion/the-one-sided-gun-war' for key 'PRIMARY'\"), <traceback object at 0x00000000080E2D08>)\n",
      "error occurs (<class 'pymysql.err.IntegrityError'>, IntegrityError(1062, \"Duplicate entry 'https://www.nytimes.com/2017/04/14/opinion/pressuring-venezuelas' for key 'PRIMARY'\"), <traceback object at 0x00000000080E2088>)\n",
      "error occurs (<class 'pymysql.err.IntegrityError'>, IntegrityError(1062, \"Duplicate entry 'https://www.nytimes.com/2017/04/14/opinion/the-inspiration-of-am' for key 'PRIMARY'\"), <traceback object at 0x00000000080E2D08>)\n",
      "error occurs (<class 'pymysql.err.IntegrityError'>, IntegrityError(1062, \"Duplicate entry 'https://www.nytimes.com/2017/04/14/opinion/fearless-girl-doesnt-' for key 'PRIMARY'\"), <traceback object at 0x00000000080E2088>)\n",
      "error occurs (<class 'pymysql.err.IntegrityError'>, IntegrityError(1062, \"Duplicate entry 'https://www.nytimes.com/2017/04/14/opinion/whats-in-your-microwa' for key 'PRIMARY'\"), <traceback object at 0x00000000080E2D08>)\n",
      "error occurs (<class 'pymysql.err.IntegrityError'>, IntegrityError(1062, \"Duplicate entry 'https://www.nytimes.com/2017/04/14/opinion/the-wrong-way-to-keep' for key 'PRIMARY'\"), <traceback object at 0x00000000080E2088>)\n",
      "error occurs (<class 'pymysql.err.IntegrityError'>, IntegrityError(1062, \"Duplicate entry 'https://www.nytimes.com/2017/04/14/opinion/trumps-turnabouts-in-' for key 'PRIMARY'\"), <traceback object at 0x00000000080E2D08>)\n",
      "error occurs (<class 'pymysql.err.IntegrityError'>, IntegrityError(1062, \"Duplicate entry 'https://www.nytimes.com/2017/04/14/opinion/how-to-foster-good-co' for key 'PRIMARY'\"), <traceback object at 0x00000000080E2088>)\n",
      "error occurs (<class 'pymysql.err.IntegrityError'>, IntegrityError(1062, \"Duplicate entry 'https://www.nytimes.com/2017/04/14/opinion/a-roosevelts-plea-to-' for key 'PRIMARY'\"), <traceback object at 0x00000000080E2D08>)\n",
      "error occurs (<class 'pymysql.err.IntegrityError'>, IntegrityError(1062, \"Duplicate entry 'https://www.nytimes.com/2017/04/14/nyregion/adult-homes-mentally' for key 'PRIMARY'\"), <traceback object at 0x00000000080E2088>)\n",
      "error occurs (<class 'pymysql.err.IntegrityError'>, IntegrityError(1062, \"Duplicate entry 'https://www.nytimes.com/2017/04/14/nyregion/for-mayor-de-blasio-' for key 'PRIMARY'\"), <traceback object at 0x00000000080E2D08>)\n",
      "error occurs (<class 'pymysql.err.IntegrityError'>, IntegrityError(1062, \"Duplicate entry 'https://www.nytimes.com/2017/04/14/nyregion/choate-school-sex-ab' for key 'PRIMARY'\"), <traceback object at 0x00000000080E2088>)\n",
      "error occurs (<class 'pymysql.err.IntegrityError'>, IntegrityError(1062, \"Duplicate entry 'https://www.nytimes.com/2017/04/13/nyregion/self-storage-new-yor' for key 'PRIMARY'\"), <traceback object at 0x00000000080E2D08>)\n",
      "error occurs (<class 'pymysql.err.IntegrityError'>, IntegrityError(1062, \"Duplicate entry 'https://www.nytimes.com/2017/04/14/nyregion/four-killed-ms-13-ga' for key 'PRIMARY'\"), <traceback object at 0x00000000080E2088>)\n",
      "error occurs (<class 'pymysql.err.IntegrityError'>, IntegrityError(1062, \"Duplicate entry 'https://www.nytimes.com/2017/04/14/arts/music/j-cole-4-your-eyez' for key 'PRIMARY'\"), <traceback object at 0x00000000080E2D08>)\n",
      "error occurs (<class 'pymysql.err.IntegrityError'>, IntegrityError(1062, \"Duplicate entry 'https://www.nytimes.com/2017/04/14/arts/design/one-artists-melan' for key 'PRIMARY'\"), <traceback object at 0x00000000080E2088>)\n",
      "error occurs (<class 'pymysql.err.IntegrityError'>, IntegrityError(1062, \"Duplicate entry 'https://www.nytimes.com/2017/04/14/arts/music/rosenkavalier-rene' for key 'PRIMARY'\"), <traceback object at 0x00000000080E2D08>)\n",
      "error occurs (<class 'pymysql.err.IntegrityError'>, IntegrityError(1062, \"Duplicate entry 'https://www.nytimes.com/2017/04/14/arts/music/eurovision-2017-ru' for key 'PRIMARY'\"), <traceback object at 0x00000000080E2088>)\n",
      "error occurs (<class 'pymysql.err.IntegrityError'>, IntegrityError(1062, \"Duplicate entry 'https://www.nytimes.com/2017/04/12/arts/design/andrea-palladio-i' for key 'PRIMARY'\"), <traceback object at 0x00000000080E2D08>)\n",
      "error occurs (<class 'pymysql.err.IntegrityError'>, IntegrityError(1062, \"Duplicate entry 'https://www.nytimes.com/2017/04/14/theater/amazing-grace-musical' for key 'PRIMARY'\"), <traceback object at 0x00000000080E2088>)\n",
      "error occurs (<class 'pymysql.err.IntegrityError'>, IntegrityError(1062, \"Duplicate entry 'https://www.nytimes.com/2017/04/14/arts/music/bachs-st-john-pass' for key 'PRIMARY'\"), <traceback object at 0x00000000080E2D08>)\n",
      "error occurs (<class 'pymysql.err.IntegrityError'>, IntegrityError(1062, \"Duplicate entry 'https://www.nytimes.com/2017/04/14/arts/television/veep-season-6' for key 'PRIMARY'\"), <traceback object at 0x00000000080E2088>)\n",
      "error occurs (<class 'pymysql.err.IntegrityError'>, IntegrityError(1062, \"Duplicate entry 'https://www.nytimes.com/2017/04/15/arts/television/whats-on-tv-s' for key 'PRIMARY'\"), <traceback object at 0x00000000080E2D08>)\n",
      "error occurs (<class 'pymysql.err.IntegrityError'>, IntegrityError(1062, \"Duplicate entry 'https://www.nytimes.com/2017/04/14/business/dealbook/education-d' for key 'PRIMARY'\"), <traceback object at 0x00000000080E2088>)\n",
      "error occurs (<class 'pymysql.err.IntegrityError'>, IntegrityError(1062, \"Duplicate entry 'https://www.nytimes.com/2017/04/14/your-money/baby-fertility-cli' for key 'PRIMARY'\"), <traceback object at 0x00000000080E2D08>)\n",
      "error occurs (<class 'pymysql.err.IntegrityError'>, IntegrityError(1062, \"Duplicate entry 'https://www.nytimes.com/2017/04/14/business/media/oreilly-behavi' for key 'PRIMARY'\"), <traceback object at 0x00000000080E2088>)\n",
      "error occurs (<class 'pymysql.err.IntegrityError'>, IntegrityError(1062, \"Duplicate entry 'https://www.nytimes.com/2017/04/14/business/american-express-cha' for key 'PRIMARY'\"), <traceback object at 0x00000000080E2D08>)\n",
      "error occurs (<class 'pymysql.err.IntegrityError'>, IntegrityError(1062, \"Duplicate entry 'https://www.nytimes.com/2017/04/14/your-money/to-trim-the-tuitio' for key 'PRIMARY'\"), <traceback object at 0x00000000080E2088>)\n",
      "error occurs (<class 'pymysql.err.IntegrityError'>, IntegrityError(1062, \"Duplicate entry 'https://www.nytimes.com/2017/04/14/your-money/wealth-matters-phi' for key 'PRIMARY'\"), <traceback object at 0x00000000080E2D08>)\n",
      "error occurs (<class 'pymysql.err.IntegrityError'>, IntegrityError(1062, \"Duplicate entry 'https://www.nytimes.com/2017/04/14/business/yourtaxes/student-lo' for key 'PRIMARY'\"), <traceback object at 0x00000000080E2088>)\n",
      "error occurs (<class 'pymysql.err.IntegrityError'>, IntegrityError(1062, \"Duplicate entry 'https://www.nytimes.com/2017/04/14/business/dealbook/abbott-aler' for key 'PRIMARY'\"), <traceback object at 0x00000000080E2D08>)\n",
      "error occurs (<class 'pymysql.err.IntegrityError'>, IntegrityError(1062, \"Duplicate entry 'https://www.nytimes.com/2017/04/14/business/energy-environment/o' for key 'PRIMARY'\"), <traceback object at 0x00000000080E2088>)\n",
      "error occurs (<class 'pymysql.err.IntegrityError'>, IntegrityError(1062, \"Duplicate entry 'https://www.nytimes.com/2017/04/14/technology/apple-self-driving' for key 'PRIMARY'\"), <traceback object at 0x00000000080E2D08>)\n",
      "error occurs (<class 'pymysql.err.IntegrityError'>, IntegrityError(1062, \"Duplicate entry 'https://www.nytimes.com/2017/04/14/technology/amid-questions-ove' for key 'PRIMARY'\"), <traceback object at 0x00000000080E2088>)\n",
      "error occurs (<class 'pymysql.err.IntegrityError'>, IntegrityError(1062, \"Duplicate entry 'https://www.nytimes.com/2017/04/14/us/politics/john-bates-clark-' for key 'PRIMARY'\"), <traceback object at 0x00000000080E2D08>)\n",
      "error occurs (<class 'pymysql.err.IntegrityError'>, IntegrityError(1062, \"Duplicate entry 'https://www.nytimes.com/2017/04/14/business/export-import-bank-t' for key 'PRIMARY'\"), <traceback object at 0x00000000080E2088>)\n",
      "error occurs (<class 'pymysql.err.IntegrityError'>, IntegrityError(1062, \"Duplicate entry 'https://www.nytimes.com/2017/04/14/sports/basketball/knicks-phil' for key 'PRIMARY'\"), <traceback object at 0x00000000080E2D08>)\n",
      "error occurs (<class 'pymysql.err.IntegrityError'>, IntegrityError(1062, \"Duplicate entry 'https://www.nytimes.com/2017/04/14/sports/basketball/james-harde' for key 'PRIMARY'\"), <traceback object at 0x00000000080E2088>)\n",
      "error occurs (<class 'pymysql.err.IntegrityError'>, IntegrityError(1062, \"Duplicate entry 'https://www.nytimes.com/2017/04/14/sports/soccer/bbc-premier-lea' for key 'PRIMARY'\"), <traceback object at 0x00000000080E2D08>)\n",
      "error occurs (<class 'pymysql.err.IntegrityError'>, IntegrityError(1062, \"Duplicate entry 'https://www.nytimes.com/2017/04/13/sports/nba-playoffs-schedule-' for key 'PRIMARY'\"), <traceback object at 0x00000000080E2088>)\n",
      "error occurs (<class 'pymysql.err.IntegrityError'>, IntegrityError(1062, \"Duplicate entry 'https://www.nytimes.com/2017/04/14/sports/phil-jackson-carmelo-a' for key 'PRIMARY'\"), <traceback object at 0x00000000080E2D08>)\n",
      "error occurs (<class 'pymysql.err.IntegrityError'>, IntegrityError(1062, \"Duplicate entry 'https://www.nytimes.com/2017/04/14/sports/football/aaron-hernand' for key 'PRIMARY'\"), <traceback object at 0x00000000080E2088>)\n",
      "error occurs (<class 'pymysql.err.IntegrityError'>, IntegrityError(1062, \"Duplicate entry 'https://www.nytimes.com/2017/04/15/sports/rod-carew-konrad-reula' for key 'PRIMARY'\"), <traceback object at 0x00000000080E2D08>)\n",
      "error occurs (<class 'pymysql.err.IntegrityError'>, IntegrityError(1062, \"Duplicate entry 'https://www.nytimes.com/2017/04/14/sports/baseball/aroldis-chapm' for key 'PRIMARY'\"), <traceback object at 0x00000000080E2088>)\n",
      "error occurs (<class 'pymysql.err.IntegrityError'>, IntegrityError(1062, \"Duplicate entry 'https://www.nytimes.com/2017/04/15/sports/baseball/fatigued-mets' for key 'PRIMARY'\"), <traceback object at 0x00000000080E2D08>)\n",
      "error occurs (<class 'pymysql.err.IntegrityError'>, IntegrityError(1062, \"Duplicate entry 'https://www.nytimes.com/2017/04/14/sports/hockey/womens-hockey-e' for key 'PRIMARY'\"), <traceback object at 0x00000000080E2088>)\n"
     ]
    }
   ],
   "source": [
    "for i in range(len(articleList)):\n",
    "    try:\n",
    "        c.execute(\"\"\"INSERT INTO cklist(title,source,url) VALUES (%(title)s,%(source)s,%(url)s)\"\"\",articleList[i])\n",
    "    except:\n",
    "        print('error occurs',sys.exc_info())"
   ]
  }
 ],
 "metadata": {
  "kernelspec": {
   "display_name": "Python 3",
   "language": "python",
   "name": "python3"
  },
  "language_info": {
   "codemirror_mode": {
    "name": "ipython",
    "version": 3
   },
   "file_extension": ".py",
   "mimetype": "text/x-python",
   "name": "python",
   "nbconvert_exporter": "python",
   "pygments_lexer": "ipython3",
   "version": "3.6.0"
  }
 },
 "nbformat": 4,
 "nbformat_minor": 2
}
