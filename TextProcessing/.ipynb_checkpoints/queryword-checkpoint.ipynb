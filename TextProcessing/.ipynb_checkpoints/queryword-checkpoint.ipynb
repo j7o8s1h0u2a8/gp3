{
 "cells": [
  {
   "cell_type": "code",
   "execution_count": 1,
   "metadata": {
    "collapsed": false
   },
   "outputs": [],
   "source": [
    "import pymongo\n",
    "import random"
   ]
  },
  {
   "cell_type": "code",
   "execution_count": 2,
   "metadata": {
    "collapsed": false
   },
   "outputs": [],
   "source": [
    "# Get connection to MongoDB@10.120.28.55\n",
    "try:\n",
    "    client = pymongo.MongoClient('127.0.0.1', 27017)\n",
    "    db = client['MyTest']\n",
    "    DB_news = db['news']\n",
    "except:\n",
    "    print('Cannot connect to MongoDB server!')"
   ]
  },
  {
   "cell_type": "code",
   "execution_count": 3,
   "metadata": {
    "collapsed": true
   },
   "outputs": [],
   "source": [
    "results = DB_news.find()"
   ]
  },
  {
   "cell_type": "raw",
   "metadata": {},
   "source": []
  },
  {
   "cell_type": "code",
   "execution_count": null,
   "metadata": {
    "collapsed": true
   },
   "outputs": [],
   "source": []
  },
  {
   "cell_type": "code",
   "execution_count": null,
   "metadata": {
    "collapsed": true
   },
   "outputs": [],
   "source": []
  },
  {
   "cell_type": "code",
   "execution_count": null,
   "metadata": {
    "collapsed": true
   },
   "outputs": [],
   "source": []
  },
  {
   "cell_type": "code",
   "execution_count": null,
   "metadata": {
    "collapsed": true
   },
   "outputs": [],
   "source": []
  },
  {
   "cell_type": "markdown",
   "metadata": {},
   "source": [
    "<h3>Query a word</h3>"
   ]
  },
  {
   "cell_type": "code",
   "execution_count": 81,
   "metadata": {
    "collapsed": false
   },
   "outputs": [],
   "source": [
    "# 查詢某生詞出處\n",
    "def findResult(user_input):\n",
    "    field = 'wordset.'+ user_input\n",
    "    results = DB_news.find({field:{'$exists':True}})\n",
    "    result_list=[]\n",
    "    for result in results[:5]:\n",
    "        res_dict={}\n",
    "        src = result['wordset'][user_input]['from']\n",
    "        para_id = random.choice(src)\n",
    "        res_dict['Article Title'] = result['title']\n",
    "        res_dict['Link'] = result['url']\n",
    "        res_dict['Paragraph for read'] = result['content'][para_id]\n",
    "        result_list.append(res_dict)\n",
    "    return(result_list)"
   ]
  },
  {
   "cell_type": "code",
   "execution_count": 58,
   "metadata": {
    "collapsed": false
   },
   "outputs": [
    {
     "name": "stdout",
     "output_type": "stream",
     "text": [
      "please enter a wordproposal\n"
     ]
    }
   ],
   "source": [
    "user_input = input('please enter a word')"
   ]
  },
  {
   "cell_type": "code",
   "execution_count": 85,
   "metadata": {
    "collapsed": true
   },
   "outputs": [],
   "source": [
    "result_list = findResult(user_input)"
   ]
  },
  {
   "cell_type": "code",
   "execution_count": 86,
   "metadata": {
    "collapsed": false
   },
   "outputs": [
    {
     "data": {
      "text/plain": [
       "[{'Article Title': 'The Other Side of Anne of Green Gables',\n",
       "  'Link': 'https://www.nytimes.com/2017/04/27/magazine/the-other-side-of-anne-of-green-gables.html?ref=todayspaper',\n",
       "  'Paragraph for read': \"'Anne of Green Gables' is also a romance, but a slow-burning one. Anne can't stand Gilbert until the final pages of the first novel, her attentions turned less to love than her friendship with Diana. In the middle of the third novel in the series, 'Anne of the Island,' Anne is still putting Gilbert off, rejecting his proposal of marriage. It is not until the beginning of the fifth book, 'Anne's House of Dreams,' by which point Anne has had other suitors and other proposals, that the two are finally married, going on to have seven children. For all her curiosity, imagination and education, Anne eventually arrives at the traditional ending: a husband, a family and all the attendant duties, the nonconforming woman who conforms. But the novels do not present this as either a great tragedy or a great victory. Instead, these choices look a lot like the fraught and difficult compromises of adulthood, in which you might put aside personal desires to care for your mother or modify your career goals to accommodate children. We would flatter ourselves to think that there is anything particularly old-fashioned about Anne's trajectory. She is a thoroughly modern girl.\"},\n",
       " {'Article Title': 'The Readers’ Turn: Grading Trump’s First 100 Days',\n",
       "  'Link': 'https://www.nytimes.com/2017/04/27/opinion/the-readers-turn-grading-trumps-first-100-days.html?ref=todayspaper',\n",
       "  'Paragraph for read': 'Millions of Americans voted for what they thought would be a change of direction in their favor. Where are the proposals to make it real? Where are the programs to foster better jobs for a middle class under siege? Why is the only clear proposal a tax cut that benefits most the wealthiest, with uncertain results and promises for the rest of us?'},\n",
       " {'Article Title': 'Are the New Megadonors Distorting American Society?',\n",
       "  'Link': 'https://www.nytimes.com/2017/04/28/books/review/givers-wealth-power-philanthropy-david-callahan.html?ref=todayspaper',\n",
       "  'Paragraph for read': \"As Callahan sees it, the only way to knock us off the path of 'benign plutocracy' is 'to revive government as a dynamic agent of change' — which is the modest proposal he presents in literally his final three pages. Such a revival would involve huge shifts in spending priorities, tax hikes on the wealthy and an overhaul of agencies. In other words: It would require an entirely different political and social climate than the one we have. Then again, tackling seemingly intractable problems is what Big Philanthropy is all about. As such, it seems uncharitable to deny Callahan his dreams of a more egalitarian world.\"},\n",
       " {'Article Title': 'A Whistle Was Blown, but Who Was Listening?',\n",
       "  'Link': 'https://www.nytimes.com/2017/04/28/business/30gretchen-morgenson-whistleblowers-radian.html?ref=todayspaper',\n",
       "  'Paragraph for read': \"Radian also rejects Mr. Lutz's retaliation claim, saying that it gave him a raise after he voiced his concerns. The company reassigned him, Mr. Murray said, after its audit committee approved a proposal to outsource its Sarbanes-Oxley testing. Interestingly, it gave that business to KPMG, the same auditing firm it had hired to help conduct its investigation into the reserves matter.\"},\n",
       " {'Article Title': 'Family by Family, How School Segregation Still Happens',\n",
       "  'Link': 'https://www.nytimes.com/2017/04/28/nyregion/school-segregation-nyc-district-3.html?ref=todayspaper',\n",
       "  'Paragraph for read': \"The New York City Education Department has not put forward a plan to address the district's growing disparities. Last year, the city withdrew a proposal to merge two elementary schools in Harlem because of low enrollment after parents protested.\"}]"
      ]
     },
     "execution_count": 86,
     "metadata": {},
     "output_type": "execute_result"
    }
   ],
   "source": [
    "result_list"
   ]
  },
  {
   "cell_type": "code",
   "execution_count": null,
   "metadata": {
    "collapsed": true
   },
   "outputs": [],
   "source": []
  },
  {
   "cell_type": "code",
   "execution_count": null,
   "metadata": {
    "collapsed": true
   },
   "outputs": [],
   "source": []
  },
  {
   "cell_type": "code",
   "execution_count": null,
   "metadata": {
    "collapsed": true
   },
   "outputs": [],
   "source": []
  },
  {
   "cell_type": "code",
   "execution_count": null,
   "metadata": {
    "collapsed": true
   },
   "outputs": [],
   "source": []
  },
  {
   "cell_type": "code",
   "execution_count": null,
   "metadata": {
    "collapsed": false,
    "scrolled": false
   },
   "outputs": [],
   "source": [
    "query_text = queryword('proposal')"
   ]
  },
  {
   "cell_type": "code",
   "execution_count": null,
   "metadata": {
    "collapsed": false
   },
   "outputs": [],
   "source": [
    "print(query_text)"
   ]
  },
  {
   "cell_type": "code",
   "execution_count": null,
   "metadata": {
    "collapsed": false
   },
   "outputs": [],
   "source": [
    "# 查詢某 keyword 出處\n",
    "def querykw(userinput):\n",
    "    findid = 'keywords.'+ userinput\n",
    "    cursor = DB_news.find({findid:{'$exists':True}})\n",
    "    for result in cursor:\n",
    "        print('TF-IDF:%s\\n\\tart_id:%s, para_id:%s'%(result['keywords'][userinput],result['_id'],result['wordset'][userinput]['from']))"
   ]
  },
  {
   "cell_type": "code",
   "execution_count": null,
   "metadata": {
    "collapsed": false
   },
   "outputs": [],
   "source": [
    "querykw('live')"
   ]
  },
  {
   "cell_type": "markdown",
   "metadata": {},
   "source": [
    "<h2>檢查錯字</h2>"
   ]
  },
  {
   "cell_type": "code",
   "execution_count": null,
   "metadata": {
    "collapsed": true
   },
   "outputs": [],
   "source": [
    "from textblob import TextBlob\n",
    "from textblob import Word"
   ]
  },
  {
   "cell_type": "code",
   "execution_count": null,
   "metadata": {
    "collapsed": false
   },
   "outputs": [],
   "source": [
    "user_input = input('please enter a word')\n",
    "print(user_input)"
   ]
  },
  {
   "cell_type": "code",
   "execution_count": null,
   "metadata": {
    "collapsed": false
   },
   "outputs": [],
   "source": [
    "# 校正錯字\n",
    "correct_input = TextBlob(user_input).correct()\n",
    "print(correct_input)"
   ]
  },
  {
   "cell_type": "code",
   "execution_count": null,
   "metadata": {
    "collapsed": false,
    "scrolled": true
   },
   "outputs": [],
   "source": [
    "# 確認有無拼錯\n",
    "confirm_input = Word(user_input).spellcheck()\n",
    "# print(confirm_input)\n",
    "# print(confirm_input[0])\n",
    "\n",
    "check_list=[]\n",
    "for word in confirm_input:\n",
    "    check_list.append(word[0])\n",
    "    \n",
    "if user_input != confirm_input[0][0]:\n",
    "    print('please check the spelling')\n",
    "    print('你想查? %s'%(check_list))\n",
    "else:\n",
    "    print('input correct!')"
   ]
  },
  {
   "cell_type": "code",
   "execution_count": null,
   "metadata": {
    "collapsed": false
   },
   "outputs": [],
   "source": [
    "print('\\n'.join([x[0] for x in confirm_input]))"
   ]
  },
  {
   "cell_type": "markdown",
   "metadata": {},
   "source": [
    "<h2>翻譯</h2>"
   ]
  },
  {
   "cell_type": "code",
   "execution_count": null,
   "metadata": {
    "collapsed": false
   },
   "outputs": [],
   "source": [
    "!pip install py-translate\n",
    "!pip install translate"
   ]
  },
  {
   "cell_type": "code",
   "execution_count": null,
   "metadata": {
    "collapsed": false
   },
   "outputs": [],
   "source": [
    "from translate import translator"
   ]
  },
  {
   "cell_type": "code",
   "execution_count": null,
   "metadata": {
    "collapsed": false
   },
   "outputs": [],
   "source": [
    "user_input = input('please enter a word')\n",
    "print(user_input)"
   ]
  },
  {
   "cell_type": "code",
   "execution_count": null,
   "metadata": {
    "collapsed": false
   },
   "outputs": [],
   "source": [
    "translator= translator(source='en', target='zh-TW', phrase=query_text)"
   ]
  },
  {
   "cell_type": "markdown",
   "metadata": {
    "collapsed": false
   },
   "source": [
    "https://textblob.readthedocs.io/en/dev/quickstart.html#translation-and-language-detection"
   ]
  },
  {
   "cell_type": "code",
   "execution_count": null,
   "metadata": {
    "collapsed": true
   },
   "outputs": [],
   "source": []
  }
 ],
 "metadata": {
  "kernelspec": {
   "display_name": "Python 3",
   "language": "python",
   "name": "python3"
  },
  "language_info": {
   "codemirror_mode": {
    "name": "ipython",
    "version": 3
   },
   "file_extension": ".py",
   "mimetype": "text/x-python",
   "name": "python",
   "nbconvert_exporter": "python",
   "pygments_lexer": "ipython3",
   "version": "3.6.0"
  }
 },
 "nbformat": 4,
 "nbformat_minor": 2
}
