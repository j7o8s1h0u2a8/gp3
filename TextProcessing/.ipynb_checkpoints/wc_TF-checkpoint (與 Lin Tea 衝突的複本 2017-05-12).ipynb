{
 "cells": [
  {
   "cell_type": "code",
   "execution_count": null,
   "metadata": {
    "collapsed": false
   },
   "outputs": [],
   "source": [
    "!pip install textblob\n",
    "!python -m textblob.download_corpora"
   ]
  },
  {
   "cell_type": "code",
   "execution_count": null,
   "metadata": {
    "collapsed": false
   },
   "outputs": [],
   "source": [
    "import re\n",
    "import pymongo\n",
    "from collections import Counter\n",
    "import multiprocessing\n",
    "import os\n",
    "from textblob import TextBlob\n",
    "from textblob import Word\n",
    "import time"
   ]
  },
  {
   "cell_type": "markdown",
   "metadata": {},
   "source": [
    "<h2>Main Program</h2>"
   ]
  },
  {
   "cell_type": "code",
   "execution_count": null,
   "metadata": {
    "collapsed": true
   },
   "outputs": [],
   "source": [
    "if __name__ == '__main__':\n",
    "    swlist = defineStopWords()\n",
    "    info('Parent Process')\n",
    "    tStart = time.time()\n",
    "    with multiprocessing.Pool(5) as p:\n",
    "        p.map(run, [swlist for i in range(270)])\n",
    "    tEnd = time.time()\n",
    "    print('Cost %f seconds.'%(tEnd-tStart))"
   ]
  },
  {
   "cell_type": "markdown",
   "metadata": {},
   "source": [
    "<h2>def Functions</h2>"
   ]
  },
  {
   "cell_type": "code",
   "execution_count": null,
   "metadata": {
    "collapsed": true
   },
   "outputs": [],
   "source": [
    "def run(swlist):\n",
    "    # swlist = defineStopWords()\n",
    "    connection = pymongo.MongoClient('127.0.0.1', 27017, maxPoolSize=10)\n",
    "    wc(swlist, connection)"
   ]
  },
  {
   "cell_type": "code",
   "execution_count": null,
   "metadata": {
    "collapsed": true
   },
   "outputs": [],
   "source": [
    "# 顯示目前運算的 pid\n",
    "def info(title):\n",
    "    print(title,', process id:', os.getpid())\n",
    "    # print('module name:', __name__)\n",
    "    # print('parent process:', os.getppid())\n",
    "    # print('process id:', os.getpid())"
   ]
  },
  {
   "cell_type": "code",
   "execution_count": null,
   "metadata": {
    "collapsed": true
   },
   "outputs": [],
   "source": [
    "# [MAIN PROGRAM]\n",
    "def wc(swlist, connection):\n",
    "    info('Child Process for wc()')\n",
    "\n",
    "    db = connection.MyTest\n",
    "    DB_news = db['news']\n",
    "    DB_word_dict = db['word_dict']\n",
    "\n",
    "    article = DB_news.find_one_and_update({'counted': {'$exists': False}},{'$set':{'counted':'Processing...'}})\n",
    "    content = article['content']\n",
    "    art_id = article['_id']\n",
    "\n",
    "    all_parawds = []\n",
    "    for para_id in range(len(content)):\n",
    "        try:\n",
    "            parawds = get_parawds(content[str(para_id + 1)], swlist)\n",
    "        except KeyError:\n",
    "            parawds = []\n",
    "        all_parawds.append(parawds)\n",
    "\n",
    "    all_wds = [word for parawds in all_parawds for word in parawds]\n",
    "    n = len(all_wds)\n",
    "    wordset = set(all_wds)\n",
    "    wc_dict = wordcount(all_wds)\n",
    "\n",
    "    wds_info = {}\n",
    "    for word in wordset:\n",
    "        wds_info[word] = get_wdinfo(word, wc_dict, all_parawds, n)\n",
    "\n",
    "    update_DB_news(art_id, wds_info, DB_news)\n",
    "    update_DB_word_dict(wordset, DB_word_dict)\n",
    "\n",
    "    connection.close()\n",
    "\n",
    "    print('\\tart_id: %s wordcount finished with %s words.' % (art_id,n))"
   ]
  },
  {
   "cell_type": "code",
   "execution_count": null,
   "metadata": {
    "collapsed": false,
    "scrolled": true
   },
   "outputs": [],
   "source": [
    "# 定義 stopwords\n",
    "def defineStopWords():\n",
    "    with open('stop-word-list.txt', 'r', encoding='utf8') as mysw:\n",
    "        swlist = mysw.read().split(',')\n",
    "        mysw.close()\n",
    "    return swlist"
   ]
  },
  {
   "cell_type": "code",
   "execution_count": null,
   "metadata": {
    "collapsed": false,
    "scrolled": true
   },
   "outputs": [],
   "source": [
    "# 文字處理，回傳該段落內所有字 <List> parawds\n",
    "def get_parawds(content, swlist):\n",
    "    words = str(TextBlob(content).words.lower())\n",
    "    match = re.findall('[a-z]+', words)\n",
    "    parawds= []\n",
    "    for word in match:\n",
    "        if word not in swlist and len(word) > 2:\n",
    "            finalWord = Word(word).singularize().lemmatize(\"v\")\n",
    "            parawds.append(finalWord)\n",
    "    return parawds"
   ]
  },
  {
   "cell_type": "code",
   "execution_count": null,
   "metadata": {
    "collapsed": true
   },
   "outputs": [],
   "source": [
    "# 傳入全文字詞清單 <List> all_wds，回傳 <Dictionary> wc_dict\n",
    "def wordcount(all_wds):\n",
    "    wc_dict = Counter()\n",
    "    for word in all_wds:\n",
    "        if word not in wc_dict:\n",
    "            wc_dict[word] = 1\n",
    "        else:\n",
    "            wc_dict[word] += 1\n",
    "    return wc_dict"
   ]
  },
  {
   "cell_type": "code",
   "execution_count": null,
   "metadata": {
    "collapsed": true
   },
   "outputs": [],
   "source": [
    "# 收集該字詞出現段落-不重複記 <List> src\n",
    "def get_src(word, all_parawds):\n",
    "    src = set([])\n",
    "    for parawds in all_parawds:\n",
    "        if word in parawds:\n",
    "            src.add(str(all_parawds.index(parawds)+1))\n",
    "    return list(src)"
   ]
  },
  {
   "cell_type": "code",
   "execution_count": null,
   "metadata": {
    "collapsed": true
   },
   "outputs": [],
   "source": [
    "# 建立該字詞資料 & TF值，回傳 <Dictionary> wdinfo\n",
    "def get_wdinfo(word, wc_dict, all_parawds, n):\n",
    "    wdinfo = {}\n",
    "    wdinfo['count'] = wc_dict[word]\n",
    "    wdinfo['TF'] = wc_dict[word]/n\n",
    "    wdinfo['from'] = get_src(word, all_parawds)\n",
    "    return wdinfo"
   ]
  },
  {
   "cell_type": "code",
   "execution_count": null,
   "metadata": {
    "collapsed": true
   },
   "outputs": [],
   "source": [
    "# 更新資料庫 word_dict\n",
    "def update_DB_word_dict(wordset, DB_word_dict):\n",
    "    for word in wordset:\n",
    "        DB_word_dict.update_one({'_id': word}, {'$inc': {'count':1}}, upsert=True)"
   ]
  },
  {
   "cell_type": "code",
   "execution_count": null,
   "metadata": {
    "collapsed": true
   },
   "outputs": [],
   "source": [
    "# 更新資料庫 DB_news\n",
    "def update_DB_news(art_id, wds_info, DB_news):\n",
    "    DB_news.update_one({'_id': art_id}, {'$set':{'counted':'true'}}, upsert=True)\n",
    "    DB_news.update_many({'_id': art_id}, {'$set':{'wordset':wds_info}}, upsert=True)"
   ]
  },
  {
   "cell_type": "markdown",
   "metadata": {},
   "source": [
    "<h3>Move _id & wordset from DB_news to DB_art_wordset</h3>"
   ]
  },
  {
   "cell_type": "code",
   "execution_count": 1,
   "metadata": {
    "collapsed": true
   },
   "outputs": [],
   "source": [
    "import pymongo"
   ]
  },
  {
   "cell_type": "code",
   "execution_count": 2,
   "metadata": {
    "collapsed": true
   },
   "outputs": [],
   "source": [
    "connection = pymongo.MongoClient('10.120.28.55:27017')\n",
    "db = connection.news\n",
    "DB_news = db['news']\n",
    "DB_art_keywords = db['art_keywords']"
   ]
  },
  {
   "cell_type": "code",
   "execution_count": 5,
   "metadata": {
    "collapsed": true
   },
   "outputs": [],
   "source": [
    "artwordset = DB_news.find({'counted':'true'},{'_id':1,'wordset':1}).limit(10)"
   ]
  },
  {
   "cell_type": "code",
   "execution_count": 6,
   "metadata": {
    "collapsed": false
   },
   "outputs": [
    {
     "data": {
      "text/plain": [
       "410965"
      ]
     },
     "execution_count": 6,
     "metadata": {},
     "output_type": "execute_result"
    }
   ],
   "source": [
    "artwordset.count()"
   ]
  },
  {
   "cell_type": "code",
   "execution_count": 7,
   "metadata": {
    "collapsed": false
   },
   "outputs": [
    {
     "data": {
      "text/plain": [
       "<pymongo.results.InsertManyResult at 0xe154caf5e8>"
      ]
     },
     "execution_count": 7,
     "metadata": {},
     "output_type": "execute_result"
    }
   ],
   "source": [
    "DB_art_keywords.insert_many([obj for obj in artwordset[:10]])"
   ]
  },
  {
   "cell_type": "code",
   "execution_count": null,
   "metadata": {
    "collapsed": false
   },
   "outputs": [],
   "source": [
    "for art in artwordset:\n",
    "    DB_art_keywords.insert_one({'_id':art['_id'], 'wordset':art['wordset']})"
   ]
  },
  {
   "cell_type": "code",
   "execution_count": null,
   "metadata": {
    "collapsed": true
   },
   "outputs": [],
   "source": []
  }
 ],
 "metadata": {
  "kernelspec": {
   "display_name": "Python 3",
   "language": "python",
   "name": "python3"
  },
  "language_info": {
   "codemirror_mode": {
    "name": "ipython",
    "version": 3
   },
   "file_extension": ".py",
   "mimetype": "text/x-python",
   "name": "python",
   "nbconvert_exporter": "python",
   "pygments_lexer": "ipython3",
   "version": "3.6.0"
  }
 },
 "nbformat": 4,
 "nbformat_minor": 2
}
