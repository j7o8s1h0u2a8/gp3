{
 "cells": [
  {
   "cell_type": "code",
   "execution_count": null,
   "metadata": {
    "collapsed": true
   },
   "outputs": [],
   "source": [
    "import pymongo\n",
    "import math\n",
    "import operator"
   ]
  },
  {
   "cell_type": "markdown",
   "metadata": {},
   "source": [
    "<h2>Main Program</h2>"
   ]
  },
  {
   "cell_type": "code",
   "execution_count": null,
   "metadata": {
    "collapsed": true
   },
   "outputs": [],
   "source": [
    "connection = pymongo.MongoClient('127.0.0.1',27017)\n",
    "db = connection['MyTest']\n",
    "DB_art_wordset = db['art_wordset']\n",
    "DB_word_dict = db['word_dict']"
   ]
  },
  {
   "cell_type": "code",
   "execution_count": null,
   "metadata": {
    "collapsed": true
   },
   "outputs": [],
   "source": [
    "# 更新 DB_word_dict 內 IDF 值\n",
    "N = DB_art_wordset.find().count()\n",
    "updateIDF(N, DB_word_dict)"
   ]
  },
  {
   "cell_type": "code",
   "execution_count": null,
   "metadata": {
    "collapsed": true
   },
   "outputs": [],
   "source": [
    "wordsets = DB_art_wordset.find({'keywords':{'$exists':False}})\n",
    "for wordset in wordsets:\n",
    "    kw_TFIDF = findkeywords(wordset, DB_word_dict)\n",
    "    updateKWs(wordset, kw_TFIDF, DB_art_wordset)"
   ]
  },
  {
   "cell_type": "markdown",
   "metadata": {},
   "source": [
    "<h2>def Functions</h2>"
   ]
  },
  {
   "cell_type": "code",
   "execution_count": null,
   "metadata": {
    "collapsed": true
   },
   "outputs": [],
   "source": [
    "# 輸入兩 collections, 計算總篇數 N & 更新 word_dict中 IDF值\n",
    "def updateIDF(N, DB_word_dict):\n",
    "    word_dict = DB_word_dict.find()\n",
    "    for word in word_dict:\n",
    "        idf = math.log(N/word['count'])\n",
    "        DB_word_dict.update_one({'_id': word['_id']}, {'$set': {'IDF': idf}})\n",
    "    print('IDF in DB_word_dict updated.')"
   ]
  },
  {
   "cell_type": "code",
   "execution_count": null,
   "metadata": {
    "collapsed": true
   },
   "outputs": [],
   "source": [
    "# Input一篇文章，與 DB_word_dict比對該文章 wordset裡的字詞\n",
    "# 計算該文章 wordset的 TFIDF，排序取前 10獲得 keywords dict\n",
    "def findkeywords(wordset, DB_word_dict):\n",
    "    tfidf_dict = {}\n",
    "    for word in wordset['wordset']:\n",
    "        ref = DB_word_dict.find_one({'_id':word})\n",
    "        try:\n",
    "            tfidf = wordset['wordset'][word]['TF']*ref['IDF']\n",
    "            tfidf_dict[word] = tfidf\n",
    "        except TypeError:\n",
    "            DB_art_wordset.find_one_and_update({'_id':wordset['_id']}, {'$unset':{word:1}})\n",
    "    kw_TFIDF = sorted(tfidf_dict.items(), key=operator.itemgetter(1), reverse=True)[0:10]\n",
    "    return dict(kw_TFIDF)"
   ]
  },
  {
   "cell_type": "code",
   "execution_count": null,
   "metadata": {
    "collapsed": true
   },
   "outputs": [],
   "source": [
    "# 新增 DB_art_wordset中該文章 keywords欄位\n",
    "def updateKWs(wordset, kw_TFIDF, DB_art_wordset):\n",
    "    DB_art_wordset.update_many({'_id':wordset['_id']}, {'$set':{'keywords':kw_TFIDF}}, upsert=True)\n",
    "    print('{} is updated keywords!'.format(wordset['_id']))"
   ]
  },
  {
   "cell_type": "markdown",
   "metadata": {},
   "source": [
    "<h2>LocalHost 本地端測試用</h2>"
   ]
  },
  {
   "cell_type": "code",
   "execution_count": null,
   "metadata": {
    "collapsed": true
   },
   "outputs": [],
   "source": [
    "# [LocalHost 測試用：建立補齊 DB_word_dict]\n",
    "def update_DB_word_dict(wordset, DB_word_dict):\n",
    "    for word in wordset:\n",
    "        DB_word_dict.update_one({'_id': word}, {'$inc': {'count':1}}, upsert=True)"
   ]
  },
  {
   "cell_type": "code",
   "execution_count": null,
   "metadata": {
    "collapsed": true
   },
   "outputs": [],
   "source": [
    "# [LocalHost 測試用：建立補齊 DB_word_dict]\n",
    "articles = DB_news.find()\n",
    "for article in articles:\n",
    "    wordset = article['wordset']\n",
    "    update_DB_word_dict(wordset, DB_word_dict)"
   ]
  }
 ],
 "metadata": {
  "kernelspec": {
   "display_name": "Python 3",
   "language": "python",
   "name": "python3"
  },
  "language_info": {
   "codemirror_mode": {
    "name": "ipython",
    "version": 3
   },
   "file_extension": ".py",
   "mimetype": "text/x-python",
   "name": "python",
   "nbconvert_exporter": "python",
   "pygments_lexer": "ipython3",
   "version": "3.6.0"
  }
 },
 "nbformat": 4,
 "nbformat_minor": 2
}
