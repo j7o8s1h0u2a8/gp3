{
 "cells": [
  {
   "cell_type": "code",
   "execution_count": null,
   "metadata": {
    "collapsed": false
   },
   "outputs": [],
   "source": [
    "import pymongo"
   ]
  },
  {
   "cell_type": "code",
   "execution_count": null,
   "metadata": {
    "collapsed": false
   },
   "outputs": [],
   "source": [
    "# Get connection to MongoDB@10.120.28.55\n",
    "try:\n",
    "    client = pymongo.MongoClient('10.120.28.55', 27017)\n",
    "    db = client['news']\n",
    "    DB_news = db['news']\n",
    "    DB_word_dict = db['word_dict']\n",
    "except:\n",
    "    print('Cannot connect to MongoDB server!')"
   ]
  },
  {
   "cell_type": "markdown",
   "metadata": {},
   "source": [
    "<h3>Query a word</h3>"
   ]
  },
  {
   "cell_type": "code",
   "execution_count": null,
   "metadata": {
    "collapsed": false
   },
   "outputs": [],
   "source": [
    "# 查詢某生詞出處\n",
    "def queryword(userinput):\n",
    "    findid = 'wordset.'+ userinput\n",
    "    result = DB_news.find_one({findid:{'$exists':True}})\n",
    "#     print('art_id:%s,para_id:%s'%(result['_id'], result['wordset'][userinput]['from']))\n",
    "    para_id = result['wordset'][userinput]['from'][0]\n",
    "    para = result['content'][para_id]\n",
    "    return para"
   ]
  },
  {
   "cell_type": "code",
   "execution_count": null,
   "metadata": {
    "collapsed": false,
    "scrolled": false
   },
   "outputs": [],
   "source": [
    "query_text = queryword('live')"
   ]
  },
  {
   "cell_type": "code",
   "execution_count": null,
   "metadata": {
    "collapsed": false
   },
   "outputs": [],
   "source": [
    "print(query_text)"
   ]
  },
  {
   "cell_type": "code",
   "execution_count": null,
   "metadata": {
    "collapsed": false
   },
   "outputs": [],
   "source": [
    "# 查詢某 keyword 出處\n",
    "def querykw(userinput):\n",
    "    findid = 'keywords.'+ userinput\n",
    "    cursor = DB_news.find({findid:{'$exists':True}})\n",
    "    for result in cursor:\n",
    "        print('TF-IDF:%s\\n\\tart_id:%s, para_id:%s'%(result['keywords'][userinput],result['_id'],result['wordset'][userinput]['from']))"
   ]
  },
  {
   "cell_type": "code",
   "execution_count": null,
   "metadata": {
    "collapsed": false
   },
   "outputs": [],
   "source": [
    "querykw('live')"
   ]
  },
  {
   "cell_type": "markdown",
   "metadata": {},
   "source": [
    "<h2>檢查錯字</h2>"
   ]
  },
  {
   "cell_type": "code",
   "execution_count": 1,
   "metadata": {
    "collapsed": true
   },
   "outputs": [],
   "source": [
    "from textblob import TextBlob\n",
    "from textblob import Word"
   ]
  },
  {
   "cell_type": "code",
   "execution_count": 2,
   "metadata": {
    "collapsed": false
   },
   "outputs": [
    {
     "name": "stdout",
     "output_type": "stream",
     "text": [
      "please enter a wordhapy\n",
      "hapy\n"
     ]
    }
   ],
   "source": [
    "user_input = input('please enter a word')\n",
    "print(user_input)"
   ]
  },
  {
   "cell_type": "code",
   "execution_count": 3,
   "metadata": {
    "collapsed": false
   },
   "outputs": [
    {
     "name": "stdout",
     "output_type": "stream",
     "text": [
      "happy\n"
     ]
    }
   ],
   "source": [
    "# 校正錯字\n",
    "correct_input = TextBlob(user_input).correct()\n",
    "print(correct_input)"
   ]
  },
  {
   "cell_type": "code",
   "execution_count": 4,
   "metadata": {
    "collapsed": false,
    "scrolled": true
   },
   "outputs": [
    {
     "name": "stdout",
     "output_type": "stream",
     "text": [
      "please check the spelling\n",
      "你想查? ['happy', 'hay']\n"
     ]
    }
   ],
   "source": [
    "# 確認有無拼錯\n",
    "confirm_input = Word(user_input).spellcheck()\n",
    "# print(confirm_input)\n",
    "# print(confirm_input[0])\n",
    "\n",
    "check_list=[]\n",
    "for word in confirm_input:\n",
    "    check_list.append(word[0])\n",
    "    \n",
    "if user_input != confirm_input[0][0]:\n",
    "    print('please check the spelling')\n",
    "    print('你想查? %s'%(check_list))\n",
    "else:\n",
    "    print('input correct!')"
   ]
  },
  {
   "cell_type": "code",
   "execution_count": null,
   "metadata": {
    "collapsed": false
   },
   "outputs": [],
   "source": [
    "print('\\n'.join([x[0] for x in confirm_input]))"
   ]
  },
  {
   "cell_type": "markdown",
   "metadata": {},
   "source": [
    "<h2>翻譯</h2>"
   ]
  },
  {
   "cell_type": "code",
   "execution_count": null,
   "metadata": {
    "collapsed": false
   },
   "outputs": [],
   "source": [
    "!pip install py-translate\n",
    "!pip install translate"
   ]
  },
  {
   "cell_type": "code",
   "execution_count": null,
   "metadata": {
    "collapsed": false
   },
   "outputs": [],
   "source": [
    "from translate import translator"
   ]
  },
  {
   "cell_type": "code",
   "execution_count": null,
   "metadata": {
    "collapsed": false
   },
   "outputs": [],
   "source": [
    "user_input = input('please enter a word')\n",
    "print(user_input)"
   ]
  },
  {
   "cell_type": "code",
   "execution_count": null,
   "metadata": {
    "collapsed": false
   },
   "outputs": [],
   "source": [
    "translator= translator(source='en', target='zh-TW', phrase=query_text)"
   ]
  },
  {
   "cell_type": "markdown",
   "metadata": {
    "collapsed": false
   },
   "source": [
    "https://textblob.readthedocs.io/en/dev/quickstart.html#translation-and-language-detection"
   ]
  },
  {
   "cell_type": "code",
   "execution_count": null,
   "metadata": {
    "collapsed": true
   },
   "outputs": [],
   "source": []
  }
 ],
 "metadata": {
  "kernelspec": {
   "display_name": "Python 3",
   "language": "python",
   "name": "python3"
  },
  "language_info": {
   "codemirror_mode": {
    "name": "ipython",
    "version": 3
   },
   "file_extension": ".py",
   "mimetype": "text/x-python",
   "name": "python",
   "nbconvert_exporter": "python",
   "pygments_lexer": "ipython3",
   "version": "3.6.0"
  }
 },
 "nbformat": 4,
 "nbformat_minor": 2
}
